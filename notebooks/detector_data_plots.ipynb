{
 "cells": [
  {
   "cell_type": "code",
   "execution_count": 1,
   "id": "14194323",
   "metadata": {},
   "outputs": [],
   "source": [
    "import pandas as pd\n",
    "import numpy as np\n",
    "import matplotlib.pyplot as plt"
   ]
  },
  {
   "cell_type": "code",
   "execution_count": 2,
   "id": "2432813c",
   "metadata": {},
   "outputs": [],
   "source": [
    "file_path = '../data/testfile_t0.pkl'"
   ]
  },
  {
   "cell_type": "code",
   "execution_count": 3,
   "id": "05a681fa",
   "metadata": {},
   "outputs": [],
   "source": [
    "df = pd.read_pickle(file_path)"
   ]
  },
  {
   "cell_type": "code",
   "execution_count": 4,
   "id": "21f46658",
   "metadata": {},
   "outputs": [
    {
     "data": {
      "text/html": [
       "<div>\n",
       "<style scoped>\n",
       "    .dataframe tbody tr th:only-of-type {\n",
       "        vertical-align: middle;\n",
       "    }\n",
       "\n",
       "    .dataframe tbody tr th {\n",
       "        vertical-align: top;\n",
       "    }\n",
       "\n",
       "    .dataframe thead th {\n",
       "        text-align: right;\n",
       "    }\n",
       "</style>\n",
       "<table border=\"1\" class=\"dataframe\">\n",
       "  <thead>\n",
       "    <tr style=\"text-align: right;\">\n",
       "      <th></th>\n",
       "      <th>true_energy</th>\n",
       "      <th>total_dep_energy</th>\n",
       "      <th>N_layers</th>\n",
       "      <th>N_active_layers</th>\n",
       "      <th>N_sensors</th>\n",
       "      <th>sensor_energy</th>\n",
       "      <th>sensor_x</th>\n",
       "      <th>sensor_y</th>\n",
       "      <th>sensor_z</th>\n",
       "      <th>sensor_dx</th>\n",
       "      <th>sensor_dy</th>\n",
       "      <th>sensor_dz</th>\n",
       "      <th>sensor_layer</th>\n",
       "      <th>sensor_copy_number</th>\n",
       "    </tr>\n",
       "  </thead>\n",
       "  <tbody>\n",
       "    <tr>\n",
       "      <th>0</th>\n",
       "      <td>1.896507</td>\n",
       "      <td>304.969388</td>\n",
       "      <td>50</td>\n",
       "      <td>25</td>\n",
       "      <td>625</td>\n",
       "      <td>[0.0 0.0 0.0 0.0 0.0 0.0 0.0 0.0 0.0 0.0 0.0 0...</td>\n",
       "      <td>[-200.0 -100.0 0.0 100.0 200.0 -200.0 -100.0 0...</td>\n",
       "      <td>[-200.0 -200.0 -200.0 -200.0 -200.0 -100.0 -10...</td>\n",
       "      <td>[-177.5 -177.5 -177.5 -177.5 -177.5 -177.5 -17...</td>\n",
       "      <td>[100.0 100.0 100.0 100.0 100.0 100.0 100.0 100...</td>\n",
       "      <td>[100.0 100.0 100.0 100.0 100.0 100.0 100.0 100...</td>\n",
       "      <td>[10.0 10.0 10.0 10.0 10.0 10.0 10.0 10.0 10.0 ...</td>\n",
       "      <td>[1 1 1 1 1 1 1 1 1 1 1 1 1 1 1 1 1 1 1 1 1 1 1...</td>\n",
       "      <td>[0 1 2 3 4 5 6 7 8 9 10 11 12 13 14 15 16 17 1...</td>\n",
       "    </tr>\n",
       "    <tr>\n",
       "      <th>1</th>\n",
       "      <td>1.323603</td>\n",
       "      <td>197.074315</td>\n",
       "      <td>50</td>\n",
       "      <td>25</td>\n",
       "      <td>625</td>\n",
       "      <td>[0.0 0.0 0.0 0.49839131486566546 0.0 0.0 0.0 0...</td>\n",
       "      <td>[-200.0 -100.0 0.0 100.0 200.0 -200.0 -100.0 0...</td>\n",
       "      <td>[-200.0 -200.0 -200.0 -200.0 -200.0 -100.0 -10...</td>\n",
       "      <td>[-177.5 -177.5 -177.5 -177.5 -177.5 -177.5 -17...</td>\n",
       "      <td>[100.0 100.0 100.0 100.0 100.0 100.0 100.0 100...</td>\n",
       "      <td>[100.0 100.0 100.0 100.0 100.0 100.0 100.0 100...</td>\n",
       "      <td>[10.0 10.0 10.0 10.0 10.0 10.0 10.0 10.0 10.0 ...</td>\n",
       "      <td>[1 1 1 1 1 1 1 1 1 1 1 1 1 1 1 1 1 1 1 1 1 1 1...</td>\n",
       "      <td>[0 1 2 3 4 5 6 7 8 9 10 11 12 13 14 15 16 17 1...</td>\n",
       "    </tr>\n",
       "    <tr>\n",
       "      <th>2</th>\n",
       "      <td>1.158603</td>\n",
       "      <td>207.811399</td>\n",
       "      <td>50</td>\n",
       "      <td>25</td>\n",
       "      <td>625</td>\n",
       "      <td>[0.0 0.0 0.0 0.0 0.0 0.0 0.0 0.0 0.0 0.0 0.0 0...</td>\n",
       "      <td>[-200.0 -100.0 0.0 100.0 200.0 -200.0 -100.0 0...</td>\n",
       "      <td>[-200.0 -200.0 -200.0 -200.0 -200.0 -100.0 -10...</td>\n",
       "      <td>[-177.5 -177.5 -177.5 -177.5 -177.5 -177.5 -17...</td>\n",
       "      <td>[100.0 100.0 100.0 100.0 100.0 100.0 100.0 100...</td>\n",
       "      <td>[100.0 100.0 100.0 100.0 100.0 100.0 100.0 100...</td>\n",
       "      <td>[10.0 10.0 10.0 10.0 10.0 10.0 10.0 10.0 10.0 ...</td>\n",
       "      <td>[1 1 1 1 1 1 1 1 1 1 1 1 1 1 1 1 1 1 1 1 1 1 1...</td>\n",
       "      <td>[0 1 2 3 4 5 6 7 8 9 10 11 12 13 14 15 16 17 1...</td>\n",
       "    </tr>\n",
       "    <tr>\n",
       "      <th>3</th>\n",
       "      <td>3.888372</td>\n",
       "      <td>611.704125</td>\n",
       "      <td>50</td>\n",
       "      <td>25</td>\n",
       "      <td>625</td>\n",
       "      <td>[0.0 0.0 0.0 0.0 0.0 0.0 0.0 0.0 0.0 0.0 0.0 0...</td>\n",
       "      <td>[-200.0 -100.0 0.0 100.0 200.0 -200.0 -100.0 0...</td>\n",
       "      <td>[-200.0 -200.0 -200.0 -200.0 -200.0 -100.0 -10...</td>\n",
       "      <td>[-177.5 -177.5 -177.5 -177.5 -177.5 -177.5 -17...</td>\n",
       "      <td>[100.0 100.0 100.0 100.0 100.0 100.0 100.0 100...</td>\n",
       "      <td>[100.0 100.0 100.0 100.0 100.0 100.0 100.0 100...</td>\n",
       "      <td>[10.0 10.0 10.0 10.0 10.0 10.0 10.0 10.0 10.0 ...</td>\n",
       "      <td>[1 1 1 1 1 1 1 1 1 1 1 1 1 1 1 1 1 1 1 1 1 1 1...</td>\n",
       "      <td>[0 1 2 3 4 5 6 7 8 9 10 11 12 13 14 15 16 17 1...</td>\n",
       "    </tr>\n",
       "    <tr>\n",
       "      <th>4</th>\n",
       "      <td>4.398306</td>\n",
       "      <td>711.359460</td>\n",
       "      <td>50</td>\n",
       "      <td>25</td>\n",
       "      <td>625</td>\n",
       "      <td>[0.0 0.0 0.0 0.0 0.0 0.0 0.0 0.0 0.0 0.0 0.0 2...</td>\n",
       "      <td>[-200.0 -100.0 0.0 100.0 200.0 -200.0 -100.0 0...</td>\n",
       "      <td>[-200.0 -200.0 -200.0 -200.0 -200.0 -100.0 -10...</td>\n",
       "      <td>[-177.5 -177.5 -177.5 -177.5 -177.5 -177.5 -17...</td>\n",
       "      <td>[100.0 100.0 100.0 100.0 100.0 100.0 100.0 100...</td>\n",
       "      <td>[100.0 100.0 100.0 100.0 100.0 100.0 100.0 100...</td>\n",
       "      <td>[10.0 10.0 10.0 10.0 10.0 10.0 10.0 10.0 10.0 ...</td>\n",
       "      <td>[1 1 1 1 1 1 1 1 1 1 1 1 1 1 1 1 1 1 1 1 1 1 1...</td>\n",
       "      <td>[0 1 2 3 4 5 6 7 8 9 10 11 12 13 14 15 16 17 1...</td>\n",
       "    </tr>\n",
       "    <tr>\n",
       "      <th>5</th>\n",
       "      <td>1.041392</td>\n",
       "      <td>164.128540</td>\n",
       "      <td>50</td>\n",
       "      <td>25</td>\n",
       "      <td>625</td>\n",
       "      <td>[0.0 0.0 0.0 0.0 0.0 0.0 0.0 0.0 0.0 0.0 0.0 9...</td>\n",
       "      <td>[-200.0 -100.0 0.0 100.0 200.0 -200.0 -100.0 0...</td>\n",
       "      <td>[-200.0 -200.0 -200.0 -200.0 -200.0 -100.0 -10...</td>\n",
       "      <td>[-177.5 -177.5 -177.5 -177.5 -177.5 -177.5 -17...</td>\n",
       "      <td>[100.0 100.0 100.0 100.0 100.0 100.0 100.0 100...</td>\n",
       "      <td>[100.0 100.0 100.0 100.0 100.0 100.0 100.0 100...</td>\n",
       "      <td>[10.0 10.0 10.0 10.0 10.0 10.0 10.0 10.0 10.0 ...</td>\n",
       "      <td>[1 1 1 1 1 1 1 1 1 1 1 1 1 1 1 1 1 1 1 1 1 1 1...</td>\n",
       "      <td>[0 1 2 3 4 5 6 7 8 9 10 11 12 13 14 15 16 17 1...</td>\n",
       "    </tr>\n",
       "    <tr>\n",
       "      <th>6</th>\n",
       "      <td>1.753195</td>\n",
       "      <td>283.719446</td>\n",
       "      <td>50</td>\n",
       "      <td>25</td>\n",
       "      <td>625</td>\n",
       "      <td>[0.0 0.0 0.0 0.0 0.0 0.0 0.0 0.0 0.0 0.0 0.0 0...</td>\n",
       "      <td>[-200.0 -100.0 0.0 100.0 200.0 -200.0 -100.0 0...</td>\n",
       "      <td>[-200.0 -200.0 -200.0 -200.0 -200.0 -100.0 -10...</td>\n",
       "      <td>[-177.5 -177.5 -177.5 -177.5 -177.5 -177.5 -17...</td>\n",
       "      <td>[100.0 100.0 100.0 100.0 100.0 100.0 100.0 100...</td>\n",
       "      <td>[100.0 100.0 100.0 100.0 100.0 100.0 100.0 100...</td>\n",
       "      <td>[10.0 10.0 10.0 10.0 10.0 10.0 10.0 10.0 10.0 ...</td>\n",
       "      <td>[1 1 1 1 1 1 1 1 1 1 1 1 1 1 1 1 1 1 1 1 1 1 1...</td>\n",
       "      <td>[0 1 2 3 4 5 6 7 8 9 10 11 12 13 14 15 16 17 1...</td>\n",
       "    </tr>\n",
       "    <tr>\n",
       "      <th>7</th>\n",
       "      <td>3.530193</td>\n",
       "      <td>556.786972</td>\n",
       "      <td>50</td>\n",
       "      <td>25</td>\n",
       "      <td>625</td>\n",
       "      <td>[0.0 0.0 0.0 0.0 0.0 0.0 0.0 0.0 0.0 0.0 0.0 0...</td>\n",
       "      <td>[-200.0 -100.0 0.0 100.0 200.0 -200.0 -100.0 0...</td>\n",
       "      <td>[-200.0 -200.0 -200.0 -200.0 -200.0 -100.0 -10...</td>\n",
       "      <td>[-177.5 -177.5 -177.5 -177.5 -177.5 -177.5 -17...</td>\n",
       "      <td>[100.0 100.0 100.0 100.0 100.0 100.0 100.0 100...</td>\n",
       "      <td>[100.0 100.0 100.0 100.0 100.0 100.0 100.0 100...</td>\n",
       "      <td>[10.0 10.0 10.0 10.0 10.0 10.0 10.0 10.0 10.0 ...</td>\n",
       "      <td>[1 1 1 1 1 1 1 1 1 1 1 1 1 1 1 1 1 1 1 1 1 1 1...</td>\n",
       "      <td>[0 1 2 3 4 5 6 7 8 9 10 11 12 13 14 15 16 17 1...</td>\n",
       "    </tr>\n",
       "    <tr>\n",
       "      <th>8</th>\n",
       "      <td>2.045810</td>\n",
       "      <td>327.651803</td>\n",
       "      <td>50</td>\n",
       "      <td>25</td>\n",
       "      <td>625</td>\n",
       "      <td>[0.0 0.0 0.0 0.0 0.0 0.0 0.0 0.0 0.0 0.0 0.0 0...</td>\n",
       "      <td>[-200.0 -100.0 0.0 100.0 200.0 -200.0 -100.0 0...</td>\n",
       "      <td>[-200.0 -200.0 -200.0 -200.0 -200.0 -100.0 -10...</td>\n",
       "      <td>[-177.5 -177.5 -177.5 -177.5 -177.5 -177.5 -17...</td>\n",
       "      <td>[100.0 100.0 100.0 100.0 100.0 100.0 100.0 100...</td>\n",
       "      <td>[100.0 100.0 100.0 100.0 100.0 100.0 100.0 100...</td>\n",
       "      <td>[10.0 10.0 10.0 10.0 10.0 10.0 10.0 10.0 10.0 ...</td>\n",
       "      <td>[1 1 1 1 1 1 1 1 1 1 1 1 1 1 1 1 1 1 1 1 1 1 1...</td>\n",
       "      <td>[0 1 2 3 4 5 6 7 8 9 10 11 12 13 14 15 16 17 1...</td>\n",
       "    </tr>\n",
       "    <tr>\n",
       "      <th>9</th>\n",
       "      <td>3.925393</td>\n",
       "      <td>592.818041</td>\n",
       "      <td>50</td>\n",
       "      <td>25</td>\n",
       "      <td>625</td>\n",
       "      <td>[0.0 0.0 0.0 0.0 0.0 0.0 0.0 0.0 0.0 0.0 0.0 0...</td>\n",
       "      <td>[-200.0 -100.0 0.0 100.0 200.0 -200.0 -100.0 0...</td>\n",
       "      <td>[-200.0 -200.0 -200.0 -200.0 -200.0 -100.0 -10...</td>\n",
       "      <td>[-177.5 -177.5 -177.5 -177.5 -177.5 -177.5 -17...</td>\n",
       "      <td>[100.0 100.0 100.0 100.0 100.0 100.0 100.0 100...</td>\n",
       "      <td>[100.0 100.0 100.0 100.0 100.0 100.0 100.0 100...</td>\n",
       "      <td>[10.0 10.0 10.0 10.0 10.0 10.0 10.0 10.0 10.0 ...</td>\n",
       "      <td>[1 1 1 1 1 1 1 1 1 1 1 1 1 1 1 1 1 1 1 1 1 1 1...</td>\n",
       "      <td>[0 1 2 3 4 5 6 7 8 9 10 11 12 13 14 15 16 17 1...</td>\n",
       "    </tr>\n",
       "  </tbody>\n",
       "</table>\n",
       "</div>"
      ],
      "text/plain": [
       "   true_energy  total_dep_energy  N_layers  N_active_layers  N_sensors  \\\n",
       "0     1.896507        304.969388        50               25        625   \n",
       "1     1.323603        197.074315        50               25        625   \n",
       "2     1.158603        207.811399        50               25        625   \n",
       "3     3.888372        611.704125        50               25        625   \n",
       "4     4.398306        711.359460        50               25        625   \n",
       "5     1.041392        164.128540        50               25        625   \n",
       "6     1.753195        283.719446        50               25        625   \n",
       "7     3.530193        556.786972        50               25        625   \n",
       "8     2.045810        327.651803        50               25        625   \n",
       "9     3.925393        592.818041        50               25        625   \n",
       "\n",
       "                                       sensor_energy  \\\n",
       "0  [0.0 0.0 0.0 0.0 0.0 0.0 0.0 0.0 0.0 0.0 0.0 0...   \n",
       "1  [0.0 0.0 0.0 0.49839131486566546 0.0 0.0 0.0 0...   \n",
       "2  [0.0 0.0 0.0 0.0 0.0 0.0 0.0 0.0 0.0 0.0 0.0 0...   \n",
       "3  [0.0 0.0 0.0 0.0 0.0 0.0 0.0 0.0 0.0 0.0 0.0 0...   \n",
       "4  [0.0 0.0 0.0 0.0 0.0 0.0 0.0 0.0 0.0 0.0 0.0 2...   \n",
       "5  [0.0 0.0 0.0 0.0 0.0 0.0 0.0 0.0 0.0 0.0 0.0 9...   \n",
       "6  [0.0 0.0 0.0 0.0 0.0 0.0 0.0 0.0 0.0 0.0 0.0 0...   \n",
       "7  [0.0 0.0 0.0 0.0 0.0 0.0 0.0 0.0 0.0 0.0 0.0 0...   \n",
       "8  [0.0 0.0 0.0 0.0 0.0 0.0 0.0 0.0 0.0 0.0 0.0 0...   \n",
       "9  [0.0 0.0 0.0 0.0 0.0 0.0 0.0 0.0 0.0 0.0 0.0 0...   \n",
       "\n",
       "                                            sensor_x  \\\n",
       "0  [-200.0 -100.0 0.0 100.0 200.0 -200.0 -100.0 0...   \n",
       "1  [-200.0 -100.0 0.0 100.0 200.0 -200.0 -100.0 0...   \n",
       "2  [-200.0 -100.0 0.0 100.0 200.0 -200.0 -100.0 0...   \n",
       "3  [-200.0 -100.0 0.0 100.0 200.0 -200.0 -100.0 0...   \n",
       "4  [-200.0 -100.0 0.0 100.0 200.0 -200.0 -100.0 0...   \n",
       "5  [-200.0 -100.0 0.0 100.0 200.0 -200.0 -100.0 0...   \n",
       "6  [-200.0 -100.0 0.0 100.0 200.0 -200.0 -100.0 0...   \n",
       "7  [-200.0 -100.0 0.0 100.0 200.0 -200.0 -100.0 0...   \n",
       "8  [-200.0 -100.0 0.0 100.0 200.0 -200.0 -100.0 0...   \n",
       "9  [-200.0 -100.0 0.0 100.0 200.0 -200.0 -100.0 0...   \n",
       "\n",
       "                                            sensor_y  \\\n",
       "0  [-200.0 -200.0 -200.0 -200.0 -200.0 -100.0 -10...   \n",
       "1  [-200.0 -200.0 -200.0 -200.0 -200.0 -100.0 -10...   \n",
       "2  [-200.0 -200.0 -200.0 -200.0 -200.0 -100.0 -10...   \n",
       "3  [-200.0 -200.0 -200.0 -200.0 -200.0 -100.0 -10...   \n",
       "4  [-200.0 -200.0 -200.0 -200.0 -200.0 -100.0 -10...   \n",
       "5  [-200.0 -200.0 -200.0 -200.0 -200.0 -100.0 -10...   \n",
       "6  [-200.0 -200.0 -200.0 -200.0 -200.0 -100.0 -10...   \n",
       "7  [-200.0 -200.0 -200.0 -200.0 -200.0 -100.0 -10...   \n",
       "8  [-200.0 -200.0 -200.0 -200.0 -200.0 -100.0 -10...   \n",
       "9  [-200.0 -200.0 -200.0 -200.0 -200.0 -100.0 -10...   \n",
       "\n",
       "                                            sensor_z  \\\n",
       "0  [-177.5 -177.5 -177.5 -177.5 -177.5 -177.5 -17...   \n",
       "1  [-177.5 -177.5 -177.5 -177.5 -177.5 -177.5 -17...   \n",
       "2  [-177.5 -177.5 -177.5 -177.5 -177.5 -177.5 -17...   \n",
       "3  [-177.5 -177.5 -177.5 -177.5 -177.5 -177.5 -17...   \n",
       "4  [-177.5 -177.5 -177.5 -177.5 -177.5 -177.5 -17...   \n",
       "5  [-177.5 -177.5 -177.5 -177.5 -177.5 -177.5 -17...   \n",
       "6  [-177.5 -177.5 -177.5 -177.5 -177.5 -177.5 -17...   \n",
       "7  [-177.5 -177.5 -177.5 -177.5 -177.5 -177.5 -17...   \n",
       "8  [-177.5 -177.5 -177.5 -177.5 -177.5 -177.5 -17...   \n",
       "9  [-177.5 -177.5 -177.5 -177.5 -177.5 -177.5 -17...   \n",
       "\n",
       "                                           sensor_dx  \\\n",
       "0  [100.0 100.0 100.0 100.0 100.0 100.0 100.0 100...   \n",
       "1  [100.0 100.0 100.0 100.0 100.0 100.0 100.0 100...   \n",
       "2  [100.0 100.0 100.0 100.0 100.0 100.0 100.0 100...   \n",
       "3  [100.0 100.0 100.0 100.0 100.0 100.0 100.0 100...   \n",
       "4  [100.0 100.0 100.0 100.0 100.0 100.0 100.0 100...   \n",
       "5  [100.0 100.0 100.0 100.0 100.0 100.0 100.0 100...   \n",
       "6  [100.0 100.0 100.0 100.0 100.0 100.0 100.0 100...   \n",
       "7  [100.0 100.0 100.0 100.0 100.0 100.0 100.0 100...   \n",
       "8  [100.0 100.0 100.0 100.0 100.0 100.0 100.0 100...   \n",
       "9  [100.0 100.0 100.0 100.0 100.0 100.0 100.0 100...   \n",
       "\n",
       "                                           sensor_dy  \\\n",
       "0  [100.0 100.0 100.0 100.0 100.0 100.0 100.0 100...   \n",
       "1  [100.0 100.0 100.0 100.0 100.0 100.0 100.0 100...   \n",
       "2  [100.0 100.0 100.0 100.0 100.0 100.0 100.0 100...   \n",
       "3  [100.0 100.0 100.0 100.0 100.0 100.0 100.0 100...   \n",
       "4  [100.0 100.0 100.0 100.0 100.0 100.0 100.0 100...   \n",
       "5  [100.0 100.0 100.0 100.0 100.0 100.0 100.0 100...   \n",
       "6  [100.0 100.0 100.0 100.0 100.0 100.0 100.0 100...   \n",
       "7  [100.0 100.0 100.0 100.0 100.0 100.0 100.0 100...   \n",
       "8  [100.0 100.0 100.0 100.0 100.0 100.0 100.0 100...   \n",
       "9  [100.0 100.0 100.0 100.0 100.0 100.0 100.0 100...   \n",
       "\n",
       "                                           sensor_dz  \\\n",
       "0  [10.0 10.0 10.0 10.0 10.0 10.0 10.0 10.0 10.0 ...   \n",
       "1  [10.0 10.0 10.0 10.0 10.0 10.0 10.0 10.0 10.0 ...   \n",
       "2  [10.0 10.0 10.0 10.0 10.0 10.0 10.0 10.0 10.0 ...   \n",
       "3  [10.0 10.0 10.0 10.0 10.0 10.0 10.0 10.0 10.0 ...   \n",
       "4  [10.0 10.0 10.0 10.0 10.0 10.0 10.0 10.0 10.0 ...   \n",
       "5  [10.0 10.0 10.0 10.0 10.0 10.0 10.0 10.0 10.0 ...   \n",
       "6  [10.0 10.0 10.0 10.0 10.0 10.0 10.0 10.0 10.0 ...   \n",
       "7  [10.0 10.0 10.0 10.0 10.0 10.0 10.0 10.0 10.0 ...   \n",
       "8  [10.0 10.0 10.0 10.0 10.0 10.0 10.0 10.0 10.0 ...   \n",
       "9  [10.0 10.0 10.0 10.0 10.0 10.0 10.0 10.0 10.0 ...   \n",
       "\n",
       "                                        sensor_layer  \\\n",
       "0  [1 1 1 1 1 1 1 1 1 1 1 1 1 1 1 1 1 1 1 1 1 1 1...   \n",
       "1  [1 1 1 1 1 1 1 1 1 1 1 1 1 1 1 1 1 1 1 1 1 1 1...   \n",
       "2  [1 1 1 1 1 1 1 1 1 1 1 1 1 1 1 1 1 1 1 1 1 1 1...   \n",
       "3  [1 1 1 1 1 1 1 1 1 1 1 1 1 1 1 1 1 1 1 1 1 1 1...   \n",
       "4  [1 1 1 1 1 1 1 1 1 1 1 1 1 1 1 1 1 1 1 1 1 1 1...   \n",
       "5  [1 1 1 1 1 1 1 1 1 1 1 1 1 1 1 1 1 1 1 1 1 1 1...   \n",
       "6  [1 1 1 1 1 1 1 1 1 1 1 1 1 1 1 1 1 1 1 1 1 1 1...   \n",
       "7  [1 1 1 1 1 1 1 1 1 1 1 1 1 1 1 1 1 1 1 1 1 1 1...   \n",
       "8  [1 1 1 1 1 1 1 1 1 1 1 1 1 1 1 1 1 1 1 1 1 1 1...   \n",
       "9  [1 1 1 1 1 1 1 1 1 1 1 1 1 1 1 1 1 1 1 1 1 1 1...   \n",
       "\n",
       "                                  sensor_copy_number  \n",
       "0  [0 1 2 3 4 5 6 7 8 9 10 11 12 13 14 15 16 17 1...  \n",
       "1  [0 1 2 3 4 5 6 7 8 9 10 11 12 13 14 15 16 17 1...  \n",
       "2  [0 1 2 3 4 5 6 7 8 9 10 11 12 13 14 15 16 17 1...  \n",
       "3  [0 1 2 3 4 5 6 7 8 9 10 11 12 13 14 15 16 17 1...  \n",
       "4  [0 1 2 3 4 5 6 7 8 9 10 11 12 13 14 15 16 17 1...  \n",
       "5  [0 1 2 3 4 5 6 7 8 9 10 11 12 13 14 15 16 17 1...  \n",
       "6  [0 1 2 3 4 5 6 7 8 9 10 11 12 13 14 15 16 17 1...  \n",
       "7  [0 1 2 3 4 5 6 7 8 9 10 11 12 13 14 15 16 17 1...  \n",
       "8  [0 1 2 3 4 5 6 7 8 9 10 11 12 13 14 15 16 17 1...  \n",
       "9  [0 1 2 3 4 5 6 7 8 9 10 11 12 13 14 15 16 17 1...  "
      ]
     },
     "execution_count": 4,
     "metadata": {},
     "output_type": "execute_result"
    }
   ],
   "source": [
    "df"
   ]
  },
  {
   "cell_type": "code",
   "execution_count": 5,
   "id": "19350389",
   "metadata": {},
   "outputs": [
    {
     "data": {
      "text/plain": [
       "10"
      ]
     },
     "execution_count": 5,
     "metadata": {},
     "output_type": "execute_result"
    }
   ],
   "source": [
    "len(df)"
   ]
  },
  {
   "cell_type": "code",
   "execution_count": 6,
   "id": "93508eac",
   "metadata": {},
   "outputs": [
    {
     "data": {
      "image/png": "[encoded data removed]",
      "text/plain": [
       "<Figure size 300x300 with 1 Axes>"
      ]
     },
     "metadata": {},
     "output_type": "display_data"
    },
    {
     "data": {
      "image/png": "[encoded data removed]",
      "text/plain": [
       "<Figure size 300x300 with 1 Axes>"
      ]
     },
     "metadata": {},
     "output_type": "display_data"
    },
    {
     "data": {
      "image/png": "[encoded data removed]",
      "text/plain": [
       "<Figure size 300x300 with 1 Axes>"
      ]
     },
     "metadata": {},
     "output_type": "display_data"
    },
    {
     "data": {
      "image/png": "[encoded data removed]",
      "text/plain": [
       "<Figure size 300x300 with 1 Axes>"
      ]
     },
     "metadata": {},
     "output_type": "display_data"
    },
    {
     "data": {
      "image/png": "[encoded data removed]",
      "text/plain": [
       "<Figure size 300x300 with 1 Axes>"
      ]
     },
     "metadata": {},
     "output_type": "display_data"
    },
    {
     "data": {
      "image/png": "[encoded data removed]",
      "text/plain": [
       "<Figure size 300x300 with 1 Axes>"
      ]
     },
     "metadata": {},
     "output_type": "display_data"
    },
    {
     "data": {
      "image/png": "[encoded data removed]",
      "text/plain": [
       "<Figure size 300x300 with 1 Axes>"
      ]
     },
     "metadata": {},
     "output_type": "display_data"
    },
    {
     "data": {
      "image/png": "[encoded data removed]",
      "text/plain": [
       "<Figure size 300x300 with 1 Axes>"
      ]
     },
     "metadata": {},
     "output_type": "display_data"
    },
    {
     "data": {
      "image/png": "[encoded data removed]",
      "text/plain": [
       "<Figure size 300x300 with 1 Axes>"
      ]
     },
     "metadata": {},
     "output_type": "display_data"
    },
    {
     "data": {
      "image/png": "[encoded data removed]",
      "text/plain": [
       "<Figure size 300x300 with 1 Axes>"
      ]
     },
     "metadata": {},
     "output_type": "display_data"
    },
    {
     "data": {
      "image/png": "[encoded data removed]",
      "text/plain": [
       "<Figure size 300x300 with 1 Axes>"
      ]
     },
     "metadata": {},
     "output_type": "display_data"
    },
    {
     "data": {
      "image/png": "[encoded data removed]",
      "text/plain": [
       "<Figure size 300x300 with 1 Axes>"
      ]
     },
     "metadata": {},
     "output_type": "display_data"
    },
    {
     "data": {
      "image/png": "[encoded data removed]",
      "text/plain": [
       "<Figure size 300x300 with 1 Axes>"
      ]
     },
     "metadata": {},
     "output_type": "display_data"
    },
    {
     "data": {
      "image/png": "[encoded data removed]",
      "text/plain": [
       "<Figure size 300x300 with 1 Axes>"
      ]
     },
     "metadata": {},
     "output_type": "display_data"
    }
   ],
   "source": [
    "for i in df.columns:\n",
    "    plt.figure(figsize=(3,3))\n",
    "    plt.hist(df[i])\n",
    "    plt.xlabel(i)\n",
    "\n",
    "plt.show()"
   ]
  },
  {
   "cell_type": "code",
   "execution_count": 7,
   "id": "04059541",
   "metadata": {},
   "outputs": [
    {
     "data": {
      "text/plain": [
       "array([[<Axes: title={'center': 'true_energy'}>,\n",
       "        <Axes: title={'center': 'total_dep_energy'}>,\n",
       "        <Axes: title={'center': 'N_layers'}>],\n",
       "       [<Axes: title={'center': 'N_active_layers'}>,\n",
       "        <Axes: title={'center': 'N_sensors'}>, <Axes: >]], dtype=object)"
      ]
     },
     "execution_count": 7,
     "metadata": {},
     "output_type": "execute_result"
    },
    {
     "data": {
      "image/png": "[encoded data removed]",
      "text/plain": [
       "<Figure size 640x480 with 6 Axes>"
      ]
     },
     "metadata": {},
     "output_type": "display_data"
    }
   ],
   "source": [
    "df.hist(layout=(2,3),bins=30)"
   ]
  },
  {
   "cell_type": "code",
   "execution_count": 8,
   "id": "6d07b4ea",
   "metadata": {},
   "outputs": [
    {
     "data": {
      "text/plain": [
       "Index(['true_energy', 'total_dep_energy', 'N_layers', 'N_active_layers',\n",
       "       'N_sensors', 'sensor_energy', 'sensor_x', 'sensor_y', 'sensor_z',\n",
       "       'sensor_dx', 'sensor_dy', 'sensor_dz', 'sensor_layer',\n",
       "       'sensor_copy_number'],\n",
       "      dtype='object')"
      ]
     },
     "execution_count": 8,
     "metadata": {},
     "output_type": "execute_result"
    }
   ],
   "source": [
    "df.columns"
   ]
  },
  {
   "cell_type": "code",
   "execution_count": 9,
   "id": "55f38423",
   "metadata": {},
   "outputs": [
    {
     "name": "stdout",
     "output_type": "stream",
     "text": [
      "number of sensors = 625\n"
     ]
    }
   ],
   "source": [
    "print('number of sensors = ' + str(len(df['sensor_energy'][0])))"
   ]
  },
  {
   "cell_type": "code",
   "execution_count": 10,
   "id": "e7fc3575",
   "metadata": {},
   "outputs": [
    {
     "data": {
      "text/plain": [
       "(10, 625)"
      ]
     },
     "execution_count": 10,
     "metadata": {},
     "output_type": "execute_result"
    }
   ],
   "source": [
    "df['sensor_energy'].to_numpy().shape"
   ]
  },
  {
   "cell_type": "code",
   "execution_count": 11,
   "id": "dfbc18e0",
   "metadata": {},
   "outputs": [],
   "source": [
    "se_np = df['sensor_energy'].to_numpy()"
   ]
  },
  {
   "cell_type": "code",
   "execution_count": 12,
   "id": "d2a43502",
   "metadata": {},
   "outputs": [
    {
     "data": {
      "text/plain": [
       "array([304.9693882057849, 197.07431545814856, 207.81139928989154,\n",
       "       611.7041251576662, 711.3594603932296, 164.12854040443744,\n",
       "       283.7194461114235, 556.7869721380044, 327.6518033037798,\n",
       "       592.8180412146654], dtype=object)"
      ]
     },
     "execution_count": 12,
     "metadata": {},
     "output_type": "execute_result"
    }
   ],
   "source": [
    "np.sum(se_np, axis=1)"
   ]
  },
  {
   "cell_type": "code",
   "execution_count": 13,
   "id": "7b6feeba",
   "metadata": {},
   "outputs": [],
   "source": [
    "arr = np.random.rand(10,1)"
   ]
  },
  {
   "cell_type": "code",
   "execution_count": 14,
   "id": "3979d16c",
   "metadata": {},
   "outputs": [
    {
     "data": {
      "text/plain": [
       "array([0.16131202, 0.67696872, 0.59857111, 0.39569825, 0.03053786,\n",
       "       0.14572855, 0.33342402, 0.43275201, 0.36233053, 0.30660323])"
      ]
     },
     "execution_count": 14,
     "metadata": {},
     "output_type": "execute_result"
    }
   ],
   "source": [
    "np.sum(arr,axis=1)"
   ]
  },
  {
   "cell_type": "code",
   "execution_count": 15,
   "id": "8f77382e",
   "metadata": {},
   "outputs": [],
   "source": [
    "arr_sum = np.sum(arr,axis=1)"
   ]
  },
  {
   "cell_type": "code",
   "execution_count": 16,
   "id": "17c34872",
   "metadata": {},
   "outputs": [],
   "source": [
    "tn = df['true_energy'].to_numpy()"
   ]
  },
  {
   "cell_type": "code",
   "execution_count": 17,
   "id": "bbe8e9ba",
   "metadata": {},
   "outputs": [
    {
     "data": {
      "text/plain": [
       "20.85130301819959"
      ]
     },
     "execution_count": 17,
     "metadata": {},
     "output_type": "execute_result"
    }
   ],
   "source": [
    "np.mean(tn / arr_sum)"
   ]
  },
  {
   "cell_type": "code",
   "execution_count": 18,
   "id": "0c9fbf6f",
   "metadata": {},
   "outputs": [],
   "source": [
    "def energy_resolution(e_true, e_depo):\n",
    "\t# if e_depo is collected from multiple sensors, sum to total deposited energy\n",
    "\te_depo = np.sum(e_depo,axis=1)\n",
    "\t# return mean of ratio divided by standard deviation of ratio\n",
    "\tratio = e_depo / e_true\n",
    "\treturn np.mean(ratio) / np.std(ratio)"
   ]
  },
  {
   "cell_type": "code",
   "execution_count": 19,
   "id": "9891597c",
   "metadata": {},
   "outputs": [],
   "source": [
    "e_true = df['true_energy'].to_numpy()"
   ]
  },
  {
   "cell_type": "code",
   "execution_count": 20,
   "id": "c3b16044",
   "metadata": {},
   "outputs": [],
   "source": [
    "e_depo = df['sensor_energy'].to_numpy()"
   ]
  },
  {
   "cell_type": "code",
   "execution_count": 21,
   "id": "6da8b90a",
   "metadata": {},
   "outputs": [
    {
     "data": {
      "text/plain": [
       "(10, 625)"
      ]
     },
     "execution_count": 21,
     "metadata": {},
     "output_type": "execute_result"
    }
   ],
   "source": [
    "e_depo.shape"
   ]
  },
  {
   "cell_type": "code",
   "execution_count": 22,
   "id": "210927d3",
   "metadata": {},
   "outputs": [],
   "source": [
    "e_depo = np.sum(e_depo,axis=1)"
   ]
  },
  {
   "cell_type": "code",
   "execution_count": 23,
   "id": "d5657027",
   "metadata": {},
   "outputs": [
    {
     "data": {
      "text/plain": [
       "(10,)"
      ]
     },
     "execution_count": 23,
     "metadata": {},
     "output_type": "execute_result"
    }
   ],
   "source": [
    "e_depo.shape"
   ]
  },
  {
   "cell_type": "code",
   "execution_count": 24,
   "id": "8759f2b2",
   "metadata": {},
   "outputs": [],
   "source": [
    "ratio = e_depo / e_true"
   ]
  },
  {
   "cell_type": "code",
   "execution_count": 25,
   "id": "54524053",
   "metadata": {},
   "outputs": [
    {
     "data": {
      "text/plain": [
       "array([160.8058150478092, 148.89233662097655, 179.36379079509092,\n",
       "       157.316265559262, 161.7348763471866, 157.60493423029214,\n",
       "       161.8299768235567, 157.7213755660838, 160.15749474006282,\n",
       "       151.02130764824685], dtype=object)"
      ]
     },
     "execution_count": 25,
     "metadata": {},
     "output_type": "execute_result"
    }
   ],
   "source": [
    "ratio"
   ]
  },
  {
   "cell_type": "code",
   "execution_count": 26,
   "id": "6b5e71a7",
   "metadata": {},
   "outputs": [
    {
     "data": {
      "text/plain": [
       "20.561186564436202"
      ]
     },
     "execution_count": 26,
     "metadata": {},
     "output_type": "execute_result"
    }
   ],
   "source": [
    "np.mean(ratio) / np.std(ratio)"
   ]
  },
  {
   "cell_type": "code",
   "execution_count": 27,
   "id": "806a3db7",
   "metadata": {},
   "outputs": [
    {
     "data": {
      "text/plain": [
       "array([20.71071531778556, 19.176338839737465, 23.10085868705395,\n",
       "       20.261284642513413, 20.83037221003449, 20.29846323997328,\n",
       "       20.84262051642877, 20.31346010657345, 20.627215990821032,\n",
       "       19.450536093440633], dtype=object)"
      ]
     },
     "execution_count": 27,
     "metadata": {},
     "output_type": "execute_result"
    }
   ],
   "source": [
    "ratio / np.std(ratio)"
   ]
  },
  {
   "cell_type": "code",
   "execution_count": 28,
   "id": "18202fac",
   "metadata": {},
   "outputs": [
    {
     "data": {
      "text/plain": [
       "10"
      ]
     },
     "execution_count": 28,
     "metadata": {},
     "output_type": "execute_result"
    }
   ],
   "source": [
    "len(df['true_energy'].to_numpy())"
   ]
  },
  {
   "cell_type": "code",
   "execution_count": 29,
   "id": "3ba77363",
   "metadata": {},
   "outputs": [
    {
     "data": {
      "text/html": [
       "<pre>[-178,\n",
       " -178,\n",
       " -178,\n",
       " -178,\n",
       " -178]\n",
       "-----------------\n",
       "type: 5 * float64</pre>"
      ],
      "text/plain": [
       "<Array [-178, -178, -178, -178, -178] type='5 * float64'>"
      ]
     },
     "execution_count": 29,
     "metadata": {},
     "output_type": "execute_result"
    }
   ],
   "source": [
    "df['sensor_z'][0][:5]"
   ]
  },
  {
   "cell_type": "code",
   "execution_count": 30,
   "id": "e7b3ead1",
   "metadata": {},
   "outputs": [
    {
     "data": {
      "text/html": [
       "<pre>[-178,\n",
       " -178,\n",
       " -178,\n",
       " -178,\n",
       " -178]\n",
       "-----------------\n",
       "type: 5 * float64</pre>"
      ],
      "text/plain": [
       "<Array [-178, -178, -178, -178, -178] type='5 * float64'>"
      ]
     },
     "execution_count": 30,
     "metadata": {},
     "output_type": "execute_result"
    }
   ],
   "source": [
    "df['sensor_z'][0][10:15]"
   ]
  },
  {
   "cell_type": "code",
   "execution_count": 31,
   "id": "e256a365",
   "metadata": {},
   "outputs": [
    {
     "data": {
      "image/png": "[encoded data removed]",
      "text/plain": [
       "<Figure size 640x480 with 2 Axes>"
      ]
     },
     "metadata": {},
     "output_type": "display_data"
    }
   ],
   "source": [
    "fig,ax = plt.subplots(2)\n",
    "ax[0].hist(df['true_energy'],bins=10)\n",
    "ax[0].set(xlabel='true energy')\n",
    "ax[1].hist(df['total_dep_energy'],bins=10)\n",
    "ax[1].set(xlabel='total deposited energy')\n",
    "plt.tight_layout()\n",
    "plt.show()"
   ]
  },
  {
   "cell_type": "code",
   "execution_count": 32,
   "id": "1d9e288a",
   "metadata": {},
   "outputs": [
    {
     "data": {
      "text/html": [
       "<pre>[0,\n",
       " 0.0239,\n",
       " 0.0285,\n",
       " 0.0326,\n",
       " 0.0538,\n",
       " 0.0664,\n",
       " 0.122,\n",
       " 0.176,\n",
       " 0.2,\n",
       " 0.206,\n",
       " ...,\n",
       " 14.1,\n",
       " 18.4,\n",
       " 20.1,\n",
       " 20.1,\n",
       " 28.3,\n",
       " 31.3,\n",
       " 31.9,\n",
       " 38,\n",
       " 40.4]\n",
       "------------------\n",
       "type: 44 * float64</pre>"
      ],
      "text/plain": [
       "<Array [0, 0.0239, 0.0285, 0.0326, ..., 31.9, 38, 40.4] type='44 * float64'>"
      ]
     },
     "execution_count": 32,
     "metadata": {},
     "output_type": "execute_result"
    }
   ],
   "source": [
    "np.unique(df['sensor_energy'][0])"
   ]
  },
  {
   "cell_type": "code",
   "execution_count": 33,
   "id": "b3aef5c0",
   "metadata": {},
   "outputs": [
    {
     "data": {
      "text/plain": [
       "625"
      ]
     },
     "execution_count": 33,
     "metadata": {},
     "output_type": "execute_result"
    }
   ],
   "source": [
    "len(df['sensor_energy'][0]) # 5 x 5 sensors x 5 layers = 625 sensors active per event"
   ]
  },
  {
   "cell_type": "code",
   "execution_count": 34,
   "id": "e4fb5b6b",
   "metadata": {},
   "outputs": [
    {
     "data": {
      "text/plain": [
       "Text(0.5, 0, 'sensor energy of sensor 0')"
      ]
     },
     "execution_count": 34,
     "metadata": {},
     "output_type": "execute_result"
    },
    {
     "data": {
      "image/png": "[encoded data removed]",
      "text/plain": [
       "<Figure size 640x480 with 1 Axes>"
      ]
     },
     "metadata": {},
     "output_type": "display_data"
    }
   ],
   "source": [
    "plt.hist(df['sensor_energy'][0],bins=50)\n",
    "plt.yscale('log')\n",
    "plt.xlabel('sensor energy of sensor 0')"
   ]
  },
  {
   "cell_type": "code",
   "execution_count": 35,
   "id": "0d0d1694",
   "metadata": {},
   "outputs": [
    {
     "data": {
      "text/plain": [
       "Text(0.5, 0, 'sensor energy flattened for all sensors')"
      ]
     },
     "execution_count": 35,
     "metadata": {},
     "output_type": "execute_result"
    },
    {
     "data": {
      "image/png": "[encoded data removed]",
      "text/plain": [
       "<Figure size 640x480 with 1 Axes>"
      ]
     },
     "metadata": {},
     "output_type": "display_data"
    }
   ],
   "source": [
    "ll = df['sensor_energy'].tolist()\n",
    "ll_flat = sum(ll,[]) \n",
    "plt.hist(ll_flat,bins=50)\n",
    "plt.yscale('log')\n",
    "plt.xlabel('sensor energy flattened for all sensors') # 25 sensors per layer, 5 layers = 625 sensors"
   ]
  },
  {
   "cell_type": "code",
   "execution_count": 36,
   "id": "9d5f55ba",
   "metadata": {},
   "outputs": [
    {
     "data": {
      "text/plain": [
       "148.39158852089253"
      ]
     },
     "execution_count": 36,
     "metadata": {},
     "output_type": "execute_result"
    }
   ],
   "source": [
    "max(np.array(ll_flat))"
   ]
  },
  {
   "cell_type": "code",
   "execution_count": 37,
   "id": "c5620e70",
   "metadata": {},
   "outputs": [
    {
     "data": {
      "text/plain": [
       "(array([250.,   0., 250.,   0., 250.,   0., 250.,   0., 250.,   0., 250.,\n",
       "          0., 250.,   0., 250.,   0., 250.,   0., 250.,   0., 250.,   0.,\n",
       "        250.,   0.,   0., 250.,   0., 250.,   0., 250.,   0., 250.,   0.,\n",
       "        250.,   0., 250.,   0., 250.,   0., 250.,   0., 250.,   0., 250.,\n",
       "          0., 250.,   0., 250.,   0., 250.]),\n",
       " array([-177.5, -170.3, -163.1, -155.9, -148.7, -141.5, -134.3, -127.1,\n",
       "        -119.9, -112.7, -105.5,  -98.3,  -91.1,  -83.9,  -76.7,  -69.5,\n",
       "         -62.3,  -55.1,  -47.9,  -40.7,  -33.5,  -26.3,  -19.1,  -11.9,\n",
       "          -4.7,    2.5,    9.7,   16.9,   24.1,   31.3,   38.5,   45.7,\n",
       "          52.9,   60.1,   67.3,   74.5,   81.7,   88.9,   96.1,  103.3,\n",
       "         110.5,  117.7,  124.9,  132.1,  139.3,  146.5,  153.7,  160.9,\n",
       "         168.1,  175.3,  182.5]),\n",
       " <BarContainer object of 50 artists>)"
      ]
     },
     "execution_count": 37,
     "metadata": {},
     "output_type": "execute_result"
    },
    {
     "data": {
      "image/png": "[encoded data removed]",
      "text/plain": [
       "<Figure size 640x480 with 1 Axes>"
      ]
     },
     "metadata": {},
     "output_type": "display_data"
    }
   ],
   "source": [
    "ll = df['sensor_z'].tolist()\n",
    "plt.hist(sum(ll,[]),bins=50)"
   ]
  },
  {
   "cell_type": "code",
   "execution_count": 38,
   "id": "a61a61f3",
   "metadata": {},
   "outputs": [],
   "source": [
    "ll_sz_uni = np.unique(df['sensor_z'].tolist())"
   ]
  },
  {
   "cell_type": "code",
   "execution_count": 39,
   "id": "3957216d",
   "metadata": {},
   "outputs": [
    {
     "data": {
      "text/plain": [
       "25"
      ]
     },
     "execution_count": 39,
     "metadata": {},
     "output_type": "execute_result"
    }
   ],
   "source": [
    "len(np.unique(df['sensor_z'].tolist()))"
   ]
  },
  {
   "cell_type": "code",
   "execution_count": 40,
   "id": "fa0583f3",
   "metadata": {},
   "outputs": [
    {
     "data": {
      "text/plain": [
       "-177.5"
      ]
     },
     "execution_count": 40,
     "metadata": {},
     "output_type": "execute_result"
    }
   ],
   "source": [
    "min(ll_sz_uni)"
   ]
  },
  {
   "cell_type": "code",
   "execution_count": 41,
   "id": "63731053",
   "metadata": {},
   "outputs": [
    {
     "data": {
      "text/plain": [
       "-177.5"
      ]
     },
     "execution_count": 41,
     "metadata": {},
     "output_type": "execute_result"
    }
   ],
   "source": [
    "min(df['sensor_z'][0])"
   ]
  },
  {
   "cell_type": "code",
   "execution_count": 42,
   "id": "8689b87e",
   "metadata": {},
   "outputs": [
    {
     "data": {
      "text/plain": [
       "625"
      ]
     },
     "execution_count": 42,
     "metadata": {},
     "output_type": "execute_result"
    }
   ],
   "source": [
    "len(df['sensor_z'][0])"
   ]
  },
  {
   "cell_type": "code",
   "execution_count": 43,
   "id": "ec578110",
   "metadata": {},
   "outputs": [
    {
     "data": {
      "text/html": [
       "<pre>[-178,\n",
       " -162,\n",
       " -148,\n",
       " -132,\n",
       " -118,\n",
       " -102,\n",
       " -87.5,\n",
       " -72.5,\n",
       " -57.5,\n",
       " -42.5,\n",
       " ...,\n",
       " 62.5,\n",
       " 77.5,\n",
       " 92.5,\n",
       " 108,\n",
       " 122,\n",
       " 138,\n",
       " 152,\n",
       " 168,\n",
       " 182]\n",
       "------------------\n",
       "type: 25 * float64</pre>"
      ],
      "text/plain": [
       "<Array [-178, -162, -148, -132, ..., 138, 152, 168, 182] type='25 * float64'>"
      ]
     },
     "execution_count": 43,
     "metadata": {},
     "output_type": "execute_result"
    }
   ],
   "source": [
    "np.unique(df['sensor_z'][0])"
   ]
  },
  {
   "cell_type": "code",
   "execution_count": 44,
   "id": "d8a0edd5",
   "metadata": {},
   "outputs": [
    {
     "data": {
      "text/plain": [
       "array([-200., -100.,    0.,  100.,  200.])"
      ]
     },
     "execution_count": 44,
     "metadata": {},
     "output_type": "execute_result"
    }
   ],
   "source": [
    "np.unique(df['sensor_x'].tolist())"
   ]
  },
  {
   "cell_type": "code",
   "execution_count": 45,
   "id": "229eacaa",
   "metadata": {},
   "outputs": [
    {
     "data": {
      "text/plain": [
       "array([-200., -100.,    0.,  100.,  200.])"
      ]
     },
     "execution_count": 45,
     "metadata": {},
     "output_type": "execute_result"
    }
   ],
   "source": [
    "np.unique(df['sensor_y'].tolist())"
   ]
  },
  {
   "cell_type": "code",
   "execution_count": 46,
   "id": "5614a72c",
   "metadata": {},
   "outputs": [
    {
     "data": {
      "text/plain": [
       "array([100.])"
      ]
     },
     "execution_count": 46,
     "metadata": {},
     "output_type": "execute_result"
    }
   ],
   "source": [
    "np.unique(df['sensor_dx'].tolist())"
   ]
  },
  {
   "cell_type": "code",
   "execution_count": 47,
   "id": "8f14e394",
   "metadata": {},
   "outputs": [
    {
     "data": {
      "text/plain": [
       "10"
      ]
     },
     "execution_count": 47,
     "metadata": {},
     "output_type": "execute_result"
    }
   ],
   "source": [
    "len(df['sensor_x'].tolist())"
   ]
  },
  {
   "cell_type": "markdown",
   "id": "5a5e393e",
   "metadata": {},
   "source": [
    "## good and bad calo dataframes"
   ]
  },
  {
   "cell_type": "code",
   "execution_count": 48,
   "id": "ec1d05ba",
   "metadata": {},
   "outputs": [],
   "source": [
    "configs_calo = {\n",
    "        'good calo': '../data/kinga2_t0.pkl', # 'data/testfile_t0.pkl'\n",
    "        'bad calo' : '../data/kinga2_badcalo_t0.pkl'\n",
    "    }"
   ]
  },
  {
   "cell_type": "code",
   "execution_count": 49,
   "id": "6179c172",
   "metadata": {},
   "outputs": [],
   "source": [
    "good_df = pd.read_pickle(configs_calo['good calo'])"
   ]
  },
  {
   "cell_type": "code",
   "execution_count": 50,
   "id": "5d558448",
   "metadata": {},
   "outputs": [],
   "source": [
    "bad_df = pd.read_pickle(configs_calo['bad calo'])"
   ]
  },
  {
   "cell_type": "code",
   "execution_count": 51,
   "id": "d4cf131a",
   "metadata": {},
   "outputs": [
    {
     "data": {
      "text/plain": [
       "10000"
      ]
     },
     "execution_count": 51,
     "metadata": {},
     "output_type": "execute_result"
    }
   ],
   "source": [
    "len(bad_df)"
   ]
  },
  {
   "cell_type": "code",
   "execution_count": 52,
   "id": "d5cc1ef7",
   "metadata": {},
   "outputs": [
    {
     "data": {
      "text/html": [
       "<div>\n",
       "<style scoped>\n",
       "    .dataframe tbody tr th:only-of-type {\n",
       "        vertical-align: middle;\n",
       "    }\n",
       "\n",
       "    .dataframe tbody tr th {\n",
       "        vertical-align: top;\n",
       "    }\n",
       "\n",
       "    .dataframe thead th {\n",
       "        text-align: right;\n",
       "    }\n",
       "</style>\n",
       "<table border=\"1\" class=\"dataframe\">\n",
       "  <thead>\n",
       "    <tr style=\"text-align: right;\">\n",
       "      <th></th>\n",
       "      <th>true_energy</th>\n",
       "      <th>total_dep_energy</th>\n",
       "      <th>N_layers</th>\n",
       "      <th>N_active_layers</th>\n",
       "      <th>N_sensors</th>\n",
       "      <th>sensor_energy</th>\n",
       "      <th>sensor_x</th>\n",
       "      <th>sensor_y</th>\n",
       "      <th>sensor_z</th>\n",
       "      <th>sensor_dx</th>\n",
       "      <th>sensor_dy</th>\n",
       "      <th>sensor_dz</th>\n",
       "      <th>sensor_layer</th>\n",
       "      <th>sensor_copy_number</th>\n",
       "    </tr>\n",
       "  </thead>\n",
       "  <tbody>\n",
       "    <tr>\n",
       "      <th>0</th>\n",
       "      <td>148.621964</td>\n",
       "      <td>3009.282041</td>\n",
       "      <td>60</td>\n",
       "      <td>30</td>\n",
       "      <td>3630</td>\n",
       "      <td>[0.0 0.0 0.005936105970249628 ... 0.0 0.0 0.0]</td>\n",
       "      <td>[-22.727272727272734 -18.181818181818183 -13.6...</td>\n",
       "      <td>[-22.727272727272734 -22.727272727272734 -22.7...</td>\n",
       "      <td>[-95.9 -95.9 -95.9 ... 96.75 96.75 96.75]</td>\n",
       "      <td>[4.545454545454546 4.545454545454546 4.5454545...</td>\n",
       "      <td>[4.545454545454546 4.545454545454546 4.5454545...</td>\n",
       "      <td>[0.2 0.2 0.2 ... 1.0 1.0 1.0]</td>\n",
       "      <td>[1 1 1 ... 59 59 59]</td>\n",
       "      <td>[0 1 2 ... 3627 3628 3629]</td>\n",
       "    </tr>\n",
       "    <tr>\n",
       "      <th>1</th>\n",
       "      <td>6.450675</td>\n",
       "      <td>125.663690</td>\n",
       "      <td>60</td>\n",
       "      <td>30</td>\n",
       "      <td>3630</td>\n",
       "      <td>[0.0 0.0 0.0 ... 0.0 0.0 0.0]</td>\n",
       "      <td>[-22.727272727272734 -18.181818181818183 -13.6...</td>\n",
       "      <td>[-22.727272727272734 -22.727272727272734 -22.7...</td>\n",
       "      <td>[-95.9 -95.9 -95.9 ... 96.75 96.75 96.75]</td>\n",
       "      <td>[4.545454545454546 4.545454545454546 4.5454545...</td>\n",
       "      <td>[4.545454545454546 4.545454545454546 4.5454545...</td>\n",
       "      <td>[0.2 0.2 0.2 ... 1.0 1.0 1.0]</td>\n",
       "      <td>[1 1 1 ... 59 59 59]</td>\n",
       "      <td>[0 1 2 ... 3627 3628 3629]</td>\n",
       "    </tr>\n",
       "    <tr>\n",
       "      <th>2</th>\n",
       "      <td>48.347765</td>\n",
       "      <td>1138.465710</td>\n",
       "      <td>60</td>\n",
       "      <td>30</td>\n",
       "      <td>3630</td>\n",
       "      <td>[0.0 0.0 0.0 ... 0.0 0.0 0.0]</td>\n",
       "      <td>[-22.727272727272734 -18.181818181818183 -13.6...</td>\n",
       "      <td>[-22.727272727272734 -22.727272727272734 -22.7...</td>\n",
       "      <td>[-95.9 -95.9 -95.9 ... 96.75 96.75 96.75]</td>\n",
       "      <td>[4.545454545454546 4.545454545454546 4.5454545...</td>\n",
       "      <td>[4.545454545454546 4.545454545454546 4.5454545...</td>\n",
       "      <td>[0.2 0.2 0.2 ... 1.0 1.0 1.0]</td>\n",
       "      <td>[1 1 1 ... 59 59 59]</td>\n",
       "      <td>[0 1 2 ... 3627 3628 3629]</td>\n",
       "    </tr>\n",
       "    <tr>\n",
       "      <th>3</th>\n",
       "      <td>136.813249</td>\n",
       "      <td>2480.027070</td>\n",
       "      <td>60</td>\n",
       "      <td>30</td>\n",
       "      <td>3630</td>\n",
       "      <td>[0.0 0.0 0.0 ... 0.0 0.0 0.0]</td>\n",
       "      <td>[-22.727272727272734 -18.181818181818183 -13.6...</td>\n",
       "      <td>[-22.727272727272734 -22.727272727272734 -22.7...</td>\n",
       "      <td>[-95.9 -95.9 -95.9 ... 96.75 96.75 96.75]</td>\n",
       "      <td>[4.545454545454546 4.545454545454546 4.5454545...</td>\n",
       "      <td>[4.545454545454546 4.545454545454546 4.5454545...</td>\n",
       "      <td>[0.2 0.2 0.2 ... 1.0 1.0 1.0]</td>\n",
       "      <td>[1 1 1 ... 59 59 59]</td>\n",
       "      <td>[0 1 2 ... 3627 3628 3629]</td>\n",
       "    </tr>\n",
       "    <tr>\n",
       "      <th>4</th>\n",
       "      <td>22.081636</td>\n",
       "      <td>486.134479</td>\n",
       "      <td>60</td>\n",
       "      <td>30</td>\n",
       "      <td>3630</td>\n",
       "      <td>[0.0 0.0 0.0 ... 0.0 0.0 0.0]</td>\n",
       "      <td>[-22.727272727272734 -18.181818181818183 -13.6...</td>\n",
       "      <td>[-22.727272727272734 -22.727272727272734 -22.7...</td>\n",
       "      <td>[-95.9 -95.9 -95.9 ... 96.75 96.75 96.75]</td>\n",
       "      <td>[4.545454545454546 4.545454545454546 4.5454545...</td>\n",
       "      <td>[4.545454545454546 4.545454545454546 4.5454545...</td>\n",
       "      <td>[0.2 0.2 0.2 ... 1.0 1.0 1.0]</td>\n",
       "      <td>[1 1 1 ... 59 59 59]</td>\n",
       "      <td>[0 1 2 ... 3627 3628 3629]</td>\n",
       "    </tr>\n",
       "  </tbody>\n",
       "</table>\n",
       "</div>"
      ],
      "text/plain": [
       "   true_energy  total_dep_energy  N_layers  N_active_layers  N_sensors  \\\n",
       "0   148.621964       3009.282041        60               30       3630   \n",
       "1     6.450675        125.663690        60               30       3630   \n",
       "2    48.347765       1138.465710        60               30       3630   \n",
       "3   136.813249       2480.027070        60               30       3630   \n",
       "4    22.081636        486.134479        60               30       3630   \n",
       "\n",
       "                                    sensor_energy  \\\n",
       "0  [0.0 0.0 0.005936105970249628 ... 0.0 0.0 0.0]   \n",
       "1                   [0.0 0.0 0.0 ... 0.0 0.0 0.0]   \n",
       "2                   [0.0 0.0 0.0 ... 0.0 0.0 0.0]   \n",
       "3                   [0.0 0.0 0.0 ... 0.0 0.0 0.0]   \n",
       "4                   [0.0 0.0 0.0 ... 0.0 0.0 0.0]   \n",
       "\n",
       "                                            sensor_x  \\\n",
       "0  [-22.727272727272734 -18.181818181818183 -13.6...   \n",
       "1  [-22.727272727272734 -18.181818181818183 -13.6...   \n",
       "2  [-22.727272727272734 -18.181818181818183 -13.6...   \n",
       "3  [-22.727272727272734 -18.181818181818183 -13.6...   \n",
       "4  [-22.727272727272734 -18.181818181818183 -13.6...   \n",
       "\n",
       "                                            sensor_y  \\\n",
       "0  [-22.727272727272734 -22.727272727272734 -22.7...   \n",
       "1  [-22.727272727272734 -22.727272727272734 -22.7...   \n",
       "2  [-22.727272727272734 -22.727272727272734 -22.7...   \n",
       "3  [-22.727272727272734 -22.727272727272734 -22.7...   \n",
       "4  [-22.727272727272734 -22.727272727272734 -22.7...   \n",
       "\n",
       "                                    sensor_z  \\\n",
       "0  [-95.9 -95.9 -95.9 ... 96.75 96.75 96.75]   \n",
       "1  [-95.9 -95.9 -95.9 ... 96.75 96.75 96.75]   \n",
       "2  [-95.9 -95.9 -95.9 ... 96.75 96.75 96.75]   \n",
       "3  [-95.9 -95.9 -95.9 ... 96.75 96.75 96.75]   \n",
       "4  [-95.9 -95.9 -95.9 ... 96.75 96.75 96.75]   \n",
       "\n",
       "                                           sensor_dx  \\\n",
       "0  [4.545454545454546 4.545454545454546 4.5454545...   \n",
       "1  [4.545454545454546 4.545454545454546 4.5454545...   \n",
       "2  [4.545454545454546 4.545454545454546 4.5454545...   \n",
       "3  [4.545454545454546 4.545454545454546 4.5454545...   \n",
       "4  [4.545454545454546 4.545454545454546 4.5454545...   \n",
       "\n",
       "                                           sensor_dy  \\\n",
       "0  [4.545454545454546 4.545454545454546 4.5454545...   \n",
       "1  [4.545454545454546 4.545454545454546 4.5454545...   \n",
       "2  [4.545454545454546 4.545454545454546 4.5454545...   \n",
       "3  [4.545454545454546 4.545454545454546 4.5454545...   \n",
       "4  [4.545454545454546 4.545454545454546 4.5454545...   \n",
       "\n",
       "                       sensor_dz          sensor_layer  \\\n",
       "0  [0.2 0.2 0.2 ... 1.0 1.0 1.0]  [1 1 1 ... 59 59 59]   \n",
       "1  [0.2 0.2 0.2 ... 1.0 1.0 1.0]  [1 1 1 ... 59 59 59]   \n",
       "2  [0.2 0.2 0.2 ... 1.0 1.0 1.0]  [1 1 1 ... 59 59 59]   \n",
       "3  [0.2 0.2 0.2 ... 1.0 1.0 1.0]  [1 1 1 ... 59 59 59]   \n",
       "4  [0.2 0.2 0.2 ... 1.0 1.0 1.0]  [1 1 1 ... 59 59 59]   \n",
       "\n",
       "           sensor_copy_number  \n",
       "0  [0 1 2 ... 3627 3628 3629]  \n",
       "1  [0 1 2 ... 3627 3628 3629]  \n",
       "2  [0 1 2 ... 3627 3628 3629]  \n",
       "3  [0 1 2 ... 3627 3628 3629]  \n",
       "4  [0 1 2 ... 3627 3628 3629]  "
      ]
     },
     "execution_count": 52,
     "metadata": {},
     "output_type": "execute_result"
    }
   ],
   "source": [
    "good_df.head()"
   ]
  },
  {
   "cell_type": "code",
   "execution_count": 53,
   "id": "e3b34671",
   "metadata": {},
   "outputs": [
    {
     "data": {
      "text/html": [
       "<div>\n",
       "<style scoped>\n",
       "    .dataframe tbody tr th:only-of-type {\n",
       "        vertical-align: middle;\n",
       "    }\n",
       "\n",
       "    .dataframe tbody tr th {\n",
       "        vertical-align: top;\n",
       "    }\n",
       "\n",
       "    .dataframe thead th {\n",
       "        text-align: right;\n",
       "    }\n",
       "</style>\n",
       "<table border=\"1\" class=\"dataframe\">\n",
       "  <thead>\n",
       "    <tr style=\"text-align: right;\">\n",
       "      <th></th>\n",
       "      <th>true_energy</th>\n",
       "      <th>total_dep_energy</th>\n",
       "      <th>N_layers</th>\n",
       "      <th>N_active_layers</th>\n",
       "      <th>N_sensors</th>\n",
       "    </tr>\n",
       "  </thead>\n",
       "  <tbody>\n",
       "    <tr>\n",
       "      <th>count</th>\n",
       "      <td>10000.000000</td>\n",
       "      <td>10000.000000</td>\n",
       "      <td>10000.0</td>\n",
       "      <td>10000.0</td>\n",
       "      <td>10000.0</td>\n",
       "    </tr>\n",
       "    <tr>\n",
       "      <th>mean</th>\n",
       "      <td>74.902750</td>\n",
       "      <td>1464.742407</td>\n",
       "      <td>60.0</td>\n",
       "      <td>30.0</td>\n",
       "      <td>3630.0</td>\n",
       "    </tr>\n",
       "    <tr>\n",
       "      <th>std</th>\n",
       "      <td>43.298416</td>\n",
       "      <td>835.354712</td>\n",
       "      <td>0.0</td>\n",
       "      <td>0.0</td>\n",
       "      <td>0.0</td>\n",
       "    </tr>\n",
       "    <tr>\n",
       "      <th>min</th>\n",
       "      <td>1.015840</td>\n",
       "      <td>8.009647</td>\n",
       "      <td>60.0</td>\n",
       "      <td>30.0</td>\n",
       "      <td>3630.0</td>\n",
       "    </tr>\n",
       "    <tr>\n",
       "      <th>25%</th>\n",
       "      <td>37.583672</td>\n",
       "      <td>757.261065</td>\n",
       "      <td>60.0</td>\n",
       "      <td>30.0</td>\n",
       "      <td>3630.0</td>\n",
       "    </tr>\n",
       "    <tr>\n",
       "      <th>50%</th>\n",
       "      <td>74.612157</td>\n",
       "      <td>1459.020981</td>\n",
       "      <td>60.0</td>\n",
       "      <td>30.0</td>\n",
       "      <td>3630.0</td>\n",
       "    </tr>\n",
       "    <tr>\n",
       "      <th>75%</th>\n",
       "      <td>112.566057</td>\n",
       "      <td>2178.455871</td>\n",
       "      <td>60.0</td>\n",
       "      <td>30.0</td>\n",
       "      <td>3630.0</td>\n",
       "    </tr>\n",
       "    <tr>\n",
       "      <th>max</th>\n",
       "      <td>149.981255</td>\n",
       "      <td>3632.581371</td>\n",
       "      <td>60.0</td>\n",
       "      <td>30.0</td>\n",
       "      <td>3630.0</td>\n",
       "    </tr>\n",
       "  </tbody>\n",
       "</table>\n",
       "</div>"
      ],
      "text/plain": [
       "        true_energy  total_dep_energy  N_layers  N_active_layers  N_sensors\n",
       "count  10000.000000      10000.000000   10000.0          10000.0    10000.0\n",
       "mean      74.902750       1464.742407      60.0             30.0     3630.0\n",
       "std       43.298416        835.354712       0.0              0.0        0.0\n",
       "min        1.015840          8.009647      60.0             30.0     3630.0\n",
       "25%       37.583672        757.261065      60.0             30.0     3630.0\n",
       "50%       74.612157       1459.020981      60.0             30.0     3630.0\n",
       "75%      112.566057       2178.455871      60.0             30.0     3630.0\n",
       "max      149.981255       3632.581371      60.0             30.0     3630.0"
      ]
     },
     "execution_count": 53,
     "metadata": {},
     "output_type": "execute_result"
    }
   ],
   "source": [
    "good_df.describe()"
   ]
  },
  {
   "cell_type": "code",
   "execution_count": 54,
   "id": "6b4c5f77",
   "metadata": {},
   "outputs": [
    {
     "data": {
      "text/html": [
       "<div>\n",
       "<style scoped>\n",
       "    .dataframe tbody tr th:only-of-type {\n",
       "        vertical-align: middle;\n",
       "    }\n",
       "\n",
       "    .dataframe tbody tr th {\n",
       "        vertical-align: top;\n",
       "    }\n",
       "\n",
       "    .dataframe thead th {\n",
       "        text-align: right;\n",
       "    }\n",
       "</style>\n",
       "<table border=\"1\" class=\"dataframe\">\n",
       "  <thead>\n",
       "    <tr style=\"text-align: right;\">\n",
       "      <th></th>\n",
       "      <th>true_energy</th>\n",
       "      <th>total_dep_energy</th>\n",
       "      <th>N_layers</th>\n",
       "      <th>N_active_layers</th>\n",
       "      <th>N_sensors</th>\n",
       "    </tr>\n",
       "  </thead>\n",
       "  <tbody>\n",
       "    <tr>\n",
       "      <th>count</th>\n",
       "      <td>10000.000000</td>\n",
       "      <td>10000.000000</td>\n",
       "      <td>10000.0</td>\n",
       "      <td>10000.0</td>\n",
       "      <td>10000.0</td>\n",
       "    </tr>\n",
       "    <tr>\n",
       "      <th>mean</th>\n",
       "      <td>75.685715</td>\n",
       "      <td>1029.720176</td>\n",
       "      <td>30.0</td>\n",
       "      <td>15.0</td>\n",
       "      <td>1815.0</td>\n",
       "    </tr>\n",
       "    <tr>\n",
       "      <th>std</th>\n",
       "      <td>43.134209</td>\n",
       "      <td>703.395390</td>\n",
       "      <td>0.0</td>\n",
       "      <td>0.0</td>\n",
       "      <td>0.0</td>\n",
       "    </tr>\n",
       "    <tr>\n",
       "      <th>min</th>\n",
       "      <td>1.014685</td>\n",
       "      <td>0.000000</td>\n",
       "      <td>30.0</td>\n",
       "      <td>15.0</td>\n",
       "      <td>1815.0</td>\n",
       "    </tr>\n",
       "    <tr>\n",
       "      <th>25%</th>\n",
       "      <td>38.356184</td>\n",
       "      <td>433.477815</td>\n",
       "      <td>30.0</td>\n",
       "      <td>15.0</td>\n",
       "      <td>1815.0</td>\n",
       "    </tr>\n",
       "    <tr>\n",
       "      <th>50%</th>\n",
       "      <td>76.231990</td>\n",
       "      <td>957.251886</td>\n",
       "      <td>30.0</td>\n",
       "      <td>15.0</td>\n",
       "      <td>1815.0</td>\n",
       "    </tr>\n",
       "    <tr>\n",
       "      <th>75%</th>\n",
       "      <td>112.568909</td>\n",
       "      <td>1545.790848</td>\n",
       "      <td>30.0</td>\n",
       "      <td>15.0</td>\n",
       "      <td>1815.0</td>\n",
       "    </tr>\n",
       "    <tr>\n",
       "      <th>max</th>\n",
       "      <td>149.974169</td>\n",
       "      <td>3281.377575</td>\n",
       "      <td>30.0</td>\n",
       "      <td>15.0</td>\n",
       "      <td>1815.0</td>\n",
       "    </tr>\n",
       "  </tbody>\n",
       "</table>\n",
       "</div>"
      ],
      "text/plain": [
       "        true_energy  total_dep_energy  N_layers  N_active_layers  N_sensors\n",
       "count  10000.000000      10000.000000   10000.0          10000.0    10000.0\n",
       "mean      75.685715       1029.720176      30.0             15.0     1815.0\n",
       "std       43.134209        703.395390       0.0              0.0        0.0\n",
       "min        1.014685          0.000000      30.0             15.0     1815.0\n",
       "25%       38.356184        433.477815      30.0             15.0     1815.0\n",
       "50%       76.231990        957.251886      30.0             15.0     1815.0\n",
       "75%      112.568909       1545.790848      30.0             15.0     1815.0\n",
       "max      149.974169       3281.377575      30.0             15.0     1815.0"
      ]
     },
     "execution_count": 54,
     "metadata": {},
     "output_type": "execute_result"
    }
   ],
   "source": [
    "bad_df.describe()"
   ]
  },
  {
   "cell_type": "code",
   "execution_count": 55,
   "id": "8cdd301a",
   "metadata": {},
   "outputs": [],
   "source": [
    "good_ratio = (good_df['total_dep_energy']/good_df['true_energy'])"
   ]
  },
  {
   "cell_type": "code",
   "execution_count": 56,
   "id": "25b1657d",
   "metadata": {},
   "outputs": [],
   "source": [
    "bad_ratio = (bad_df['total_dep_energy']/bad_df['true_energy'])"
   ]
  },
  {
   "cell_type": "code",
   "execution_count": 57,
   "id": "9a723d50",
   "metadata": {},
   "outputs": [],
   "source": [
    "ratio_df = pd.concat([good_ratio, bad_ratio], axis=1, keys=['good ratio', 'bad_ratio'])"
   ]
  },
  {
   "cell_type": "code",
   "execution_count": 58,
   "id": "58411b92",
   "metadata": {},
   "outputs": [
    {
     "data": {
      "text/html": [
       "<div>\n",
       "<style scoped>\n",
       "    .dataframe tbody tr th:only-of-type {\n",
       "        vertical-align: middle;\n",
       "    }\n",
       "\n",
       "    .dataframe tbody tr th {\n",
       "        vertical-align: top;\n",
       "    }\n",
       "\n",
       "    .dataframe thead th {\n",
       "        text-align: right;\n",
       "    }\n",
       "</style>\n",
       "<table border=\"1\" class=\"dataframe\">\n",
       "  <thead>\n",
       "    <tr style=\"text-align: right;\">\n",
       "      <th></th>\n",
       "      <th>good ratio</th>\n",
       "      <th>bad_ratio</th>\n",
       "    </tr>\n",
       "  </thead>\n",
       "  <tbody>\n",
       "    <tr>\n",
       "      <th>count</th>\n",
       "      <td>10000.000000</td>\n",
       "      <td>10000.000000</td>\n",
       "    </tr>\n",
       "    <tr>\n",
       "      <th>mean</th>\n",
       "      <td>20.030643</td>\n",
       "      <td>14.487395</td>\n",
       "    </tr>\n",
       "    <tr>\n",
       "      <th>std</th>\n",
       "      <td>3.233059</td>\n",
       "      <td>6.255328</td>\n",
       "    </tr>\n",
       "    <tr>\n",
       "      <th>min</th>\n",
       "      <td>6.944553</td>\n",
       "      <td>0.000000</td>\n",
       "    </tr>\n",
       "    <tr>\n",
       "      <th>25%</th>\n",
       "      <td>18.271779</td>\n",
       "      <td>11.602753</td>\n",
       "    </tr>\n",
       "    <tr>\n",
       "      <th>50%</th>\n",
       "      <td>19.604349</td>\n",
       "      <td>15.255855</td>\n",
       "    </tr>\n",
       "    <tr>\n",
       "      <th>75%</th>\n",
       "      <td>21.194882</td>\n",
       "      <td>18.101509</td>\n",
       "    </tr>\n",
       "    <tr>\n",
       "      <th>max</th>\n",
       "      <td>69.353756</td>\n",
       "      <td>111.541737</td>\n",
       "    </tr>\n",
       "  </tbody>\n",
       "</table>\n",
       "</div>"
      ],
      "text/plain": [
       "         good ratio     bad_ratio\n",
       "count  10000.000000  10000.000000\n",
       "mean      20.030643     14.487395\n",
       "std        3.233059      6.255328\n",
       "min        6.944553      0.000000\n",
       "25%       18.271779     11.602753\n",
       "50%       19.604349     15.255855\n",
       "75%       21.194882     18.101509\n",
       "max       69.353756    111.541737"
      ]
     },
     "execution_count": 58,
     "metadata": {},
     "output_type": "execute_result"
    }
   ],
   "source": [
    "ratio_df.describe()"
   ]
  },
  {
   "cell_type": "code",
   "execution_count": 59,
   "id": "e229ac92",
   "metadata": {},
   "outputs": [
    {
     "data": {
      "text/plain": [
       "good ratio    6.195570\n",
       "bad_ratio     2.316009\n",
       "dtype: float64"
      ]
     },
     "execution_count": 59,
     "metadata": {},
     "output_type": "execute_result"
    }
   ],
   "source": [
    "ratio_df.mean() / ratio_df.std()"
   ]
  },
  {
   "cell_type": "code",
   "execution_count": 60,
   "id": "be88c8e7",
   "metadata": {},
   "outputs": [
    {
     "data": {
      "text/plain": [
       "0.007571526619786651"
      ]
     },
     "execution_count": 60,
     "metadata": {},
     "output_type": "execute_result"
    }
   ],
   "source": [
    "(good_df['true_energy']/good_df['total_dep_energy']).std()"
   ]
  },
  {
   "cell_type": "code",
   "execution_count": 61,
   "id": "90f32a73",
   "metadata": {},
   "outputs": [
    {
     "data": {
      "image/png": "[encoded data removed]",
      "text/plain": [
       "<Figure size 640x480 with 2 Axes>"
      ]
     },
     "metadata": {},
     "output_type": "display_data"
    }
   ],
   "source": [
    "fig,ax = plt.subplots(2)\n",
    "ax[0].hist(good_df['true_energy'],bins=100,histtype='step',label='good calo',density=True)\n",
    "ax[0].hist(bad_df['true_energy'],bins=100,histtype='step',label='bad calo',density=True)\n",
    "ax[0].set(xlabel='true energy')\n",
    "ax[0].set_yscale('log')\n",
    "ax[1].hist(good_df['total_dep_energy'],bins=100,histtype='step',label='good calo',density=True)\n",
    "ax[1].hist(bad_df['total_dep_energy'],bins=100,histtype='step',label='bad calo',density=True)\n",
    "ax[1].set(xlabel='total deposited energy')\n",
    "ax[1].set_yscale('log')\n",
    "plt.tight_layout()\n",
    "plt.legend()\n",
    "plt.show()"
   ]
  },
  {
   "cell_type": "code",
   "execution_count": 62,
   "id": "f7208823",
   "metadata": {},
   "outputs": [],
   "source": [
    "dd = pd.DataFrame(columns=list('abcd'))"
   ]
  },
  {
   "cell_type": "code",
   "execution_count": 63,
   "id": "b7c8e965",
   "metadata": {},
   "outputs": [
    {
     "data": {
      "text/html": [
       "<div>\n",
       "<style scoped>\n",
       "    .dataframe tbody tr th:only-of-type {\n",
       "        vertical-align: middle;\n",
       "    }\n",
       "\n",
       "    .dataframe tbody tr th {\n",
       "        vertical-align: top;\n",
       "    }\n",
       "\n",
       "    .dataframe thead th {\n",
       "        text-align: right;\n",
       "    }\n",
       "</style>\n",
       "<table border=\"1\" class=\"dataframe\">\n",
       "  <thead>\n",
       "    <tr style=\"text-align: right;\">\n",
       "      <th></th>\n",
       "      <th>a</th>\n",
       "      <th>b</th>\n",
       "      <th>c</th>\n",
       "      <th>d</th>\n",
       "    </tr>\n",
       "  </thead>\n",
       "  <tbody>\n",
       "  </tbody>\n",
       "</table>\n",
       "</div>"
      ],
      "text/plain": [
       "Empty DataFrame\n",
       "Columns: [a, b, c, d]\n",
       "Index: []"
      ]
     },
     "execution_count": 63,
     "metadata": {},
     "output_type": "execute_result"
    }
   ],
   "source": [
    "dd"
   ]
  }
 ],
 "metadata": {
  "kernelspec": {
   "display_name": "Python 3 (ipykernel)",
   "language": "python",
   "name": "python3"
  },
  "language_info": {
   "codemirror_mode": {
    "name": "ipython",
    "version": 3
   },
   "file_extension": ".py",
   "mimetype": "text/x-python",
   "name": "python",
   "nbconvert_exporter": "python",
   "pygments_lexer": "ipython3",
   "version": "3.10.12"
  }
 },
 "nbformat": 4,
 "nbformat_minor": 5
}
