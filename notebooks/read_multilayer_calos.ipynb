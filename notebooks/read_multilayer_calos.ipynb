{
 "cells": [
  {
   "cell_type": "code",
   "execution_count": 1,
   "id": "dab4843d-4c13-42a3-a4af-e419fe5eed76",
   "metadata": {},
   "outputs": [],
   "source": [
    "import numpy as np\n",
    "import pandas as pd"
   ]
  },
  {
   "cell_type": "code",
   "execution_count": 2,
   "id": "482665d1-7131-4cdc-951a-97f4ec1ffe87",
   "metadata": {},
   "outputs": [],
   "source": [
    "file_path = '/eos/home-k/kiwoznia/data/rodem/opde/kinga2_fullcalo_layers.pkl'"
   ]
  },
  {
   "cell_type": "code",
   "execution_count": 3,
   "id": "dfd50d8f-c71b-472d-8577-7624eb861314",
   "metadata": {},
   "outputs": [],
   "source": [
    "df = pd.read_pickle(file_path)"
   ]
  },
  {
   "cell_type": "code",
   "execution_count": 4,
   "id": "43cb4770-8ff1-45d0-be9b-1f4ca53c2c92",
   "metadata": {},
   "outputs": [
    {
     "data": {
      "text/html": [
       "<div>\n",
       "<style scoped>\n",
       "    .dataframe tbody tr th:only-of-type {\n",
       "        vertical-align: middle;\n",
       "    }\n",
       "\n",
       "    .dataframe tbody tr th {\n",
       "        vertical-align: top;\n",
       "    }\n",
       "\n",
       "    .dataframe thead th {\n",
       "        text-align: right;\n",
       "    }\n",
       "</style>\n",
       "<table border=\"1\" class=\"dataframe\">\n",
       "  <thead>\n",
       "    <tr style=\"text-align: right;\">\n",
       "      <th></th>\n",
       "      <th>true_energy</th>\n",
       "      <th>total_dep_energy</th>\n",
       "      <th>N_layers</th>\n",
       "      <th>N_active_layers</th>\n",
       "      <th>N_sensors</th>\n",
       "      <th>sensor_energy</th>\n",
       "      <th>sensor_x</th>\n",
       "      <th>sensor_y</th>\n",
       "      <th>sensor_z</th>\n",
       "      <th>sensor_dx</th>\n",
       "      <th>sensor_dy</th>\n",
       "      <th>sensor_dz</th>\n",
       "      <th>sensor_layer</th>\n",
       "      <th>sensor_copy_number</th>\n",
       "    </tr>\n",
       "  </thead>\n",
       "  <tbody>\n",
       "    <tr>\n",
       "      <th>0</th>\n",
       "      <td>23.639745</td>\n",
       "      <td>539.739999</td>\n",
       "      <td>60</td>\n",
       "      <td>30</td>\n",
       "      <td>30</td>\n",
       "      <td>[1.4875551645744736 12.748502830558008 35.7589...</td>\n",
       "      <td>[0.0 0.0 0.0 0.0 0.0 0.0 0.0 0.0 0.0 0.0 0.0 0...</td>\n",
       "      <td>[0.0 0.0 0.0 0.0 0.0 0.0 0.0 0.0 0.0 0.0 0.0 0...</td>\n",
       "      <td>[-95.9 -94.45 -93.0 -91.55000000000001 -90.100...</td>\n",
       "      <td>[50.0 50.0 50.0 50.0 50.0 50.0 50.0 50.0 50.0 ...</td>\n",
       "      <td>[50.0 50.0 50.0 50.0 50.0 50.0 50.0 50.0 50.0 ...</td>\n",
       "      <td>[0.2 0.2 0.2 0.2 0.2 0.2 0.2 0.2 0.2 0.2 1.0 1...</td>\n",
       "      <td>[1 3 5 7 9 11 13 15 17 19 21 23 25 27 29 31 33...</td>\n",
       "      <td>[0 1 2 3 4 5 6 7 8 9 10 11 12 13 14 15 16 17 1...</td>\n",
       "    </tr>\n",
       "    <tr>\n",
       "      <th>1</th>\n",
       "      <td>17.033645</td>\n",
       "      <td>496.503126</td>\n",
       "      <td>60</td>\n",
       "      <td>30</td>\n",
       "      <td>30</td>\n",
       "      <td>[7.484470499613877 8.115572282795952 56.486592...</td>\n",
       "      <td>[0.0 0.0 0.0 0.0 0.0 0.0 0.0 0.0 0.0 0.0 0.0 0...</td>\n",
       "      <td>[0.0 0.0 0.0 0.0 0.0 0.0 0.0 0.0 0.0 0.0 0.0 0...</td>\n",
       "      <td>[-95.9 -94.45 -93.0 -91.55000000000001 -90.100...</td>\n",
       "      <td>[50.0 50.0 50.0 50.0 50.0 50.0 50.0 50.0 50.0 ...</td>\n",
       "      <td>[50.0 50.0 50.0 50.0 50.0 50.0 50.0 50.0 50.0 ...</td>\n",
       "      <td>[0.2 0.2 0.2 0.2 0.2 0.2 0.2 0.2 0.2 0.2 1.0 1...</td>\n",
       "      <td>[1 3 5 7 9 11 13 15 17 19 21 23 25 27 29 31 33...</td>\n",
       "      <td>[0 1 2 3 4 5 6 7 8 9 10 11 12 13 14 15 16 17 1...</td>\n",
       "    </tr>\n",
       "    <tr>\n",
       "      <th>2</th>\n",
       "      <td>54.456665</td>\n",
       "      <td>1022.636447</td>\n",
       "      <td>60</td>\n",
       "      <td>30</td>\n",
       "      <td>30</td>\n",
       "      <td>[0.17570267382563998 0.4551232524727311 1.0838...</td>\n",
       "      <td>[0.0 0.0 0.0 0.0 0.0 0.0 0.0 0.0 0.0 0.0 0.0 0...</td>\n",
       "      <td>[0.0 0.0 0.0 0.0 0.0 0.0 0.0 0.0 0.0 0.0 0.0 0...</td>\n",
       "      <td>[-95.9 -94.45 -93.0 -91.55000000000001 -90.100...</td>\n",
       "      <td>[50.0 50.0 50.0 50.0 50.0 50.0 50.0 50.0 50.0 ...</td>\n",
       "      <td>[50.0 50.0 50.0 50.0 50.0 50.0 50.0 50.0 50.0 ...</td>\n",
       "      <td>[0.2 0.2 0.2 0.2 0.2 0.2 0.2 0.2 0.2 0.2 1.0 1...</td>\n",
       "      <td>[1 3 5 7 9 11 13 15 17 19 21 23 25 27 29 31 33...</td>\n",
       "      <td>[0 1 2 3 4 5 6 7 8 9 10 11 12 13 14 15 16 17 1...</td>\n",
       "    </tr>\n",
       "    <tr>\n",
       "      <th>3</th>\n",
       "      <td>21.413131</td>\n",
       "      <td>402.361337</td>\n",
       "      <td>60</td>\n",
       "      <td>30</td>\n",
       "      <td>30</td>\n",
       "      <td>[0.000411172506346702 0.637679421537996 1.4903...</td>\n",
       "      <td>[0.0 0.0 0.0 0.0 0.0 0.0 0.0 0.0 0.0 0.0 0.0 0...</td>\n",
       "      <td>[0.0 0.0 0.0 0.0 0.0 0.0 0.0 0.0 0.0 0.0 0.0 0...</td>\n",
       "      <td>[-95.9 -94.45 -93.0 -91.55000000000001 -90.100...</td>\n",
       "      <td>[50.0 50.0 50.0 50.0 50.0 50.0 50.0 50.0 50.0 ...</td>\n",
       "      <td>[50.0 50.0 50.0 50.0 50.0 50.0 50.0 50.0 50.0 ...</td>\n",
       "      <td>[0.2 0.2 0.2 0.2 0.2 0.2 0.2 0.2 0.2 0.2 1.0 1...</td>\n",
       "      <td>[1 3 5 7 9 11 13 15 17 19 21 23 25 27 29 31 33...</td>\n",
       "      <td>[0 1 2 3 4 5 6 7 8 9 10 11 12 13 14 15 16 17 1...</td>\n",
       "    </tr>\n",
       "    <tr>\n",
       "      <th>4</th>\n",
       "      <td>147.576553</td>\n",
       "      <td>2374.858667</td>\n",
       "      <td>60</td>\n",
       "      <td>30</td>\n",
       "      <td>30</td>\n",
       "      <td>[31.449769210579014 13.49199612581808 17.24839...</td>\n",
       "      <td>[0.0 0.0 0.0 0.0 0.0 0.0 0.0 0.0 0.0 0.0 0.0 0...</td>\n",
       "      <td>[0.0 0.0 0.0 0.0 0.0 0.0 0.0 0.0 0.0 0.0 0.0 0...</td>\n",
       "      <td>[-95.9 -94.45 -93.0 -91.55000000000001 -90.100...</td>\n",
       "      <td>[50.0 50.0 50.0 50.0 50.0 50.0 50.0 50.0 50.0 ...</td>\n",
       "      <td>[50.0 50.0 50.0 50.0 50.0 50.0 50.0 50.0 50.0 ...</td>\n",
       "      <td>[0.2 0.2 0.2 0.2 0.2 0.2 0.2 0.2 0.2 0.2 1.0 1...</td>\n",
       "      <td>[1 3 5 7 9 11 13 15 17 19 21 23 25 27 29 31 33...</td>\n",
       "      <td>[0 1 2 3 4 5 6 7 8 9 10 11 12 13 14 15 16 17 1...</td>\n",
       "    </tr>\n",
       "    <tr>\n",
       "      <th>...</th>\n",
       "      <td>...</td>\n",
       "      <td>...</td>\n",
       "      <td>...</td>\n",
       "      <td>...</td>\n",
       "      <td>...</td>\n",
       "      <td>...</td>\n",
       "      <td>...</td>\n",
       "      <td>...</td>\n",
       "      <td>...</td>\n",
       "      <td>...</td>\n",
       "      <td>...</td>\n",
       "      <td>...</td>\n",
       "      <td>...</td>\n",
       "      <td>...</td>\n",
       "    </tr>\n",
       "    <tr>\n",
       "      <th>29995</th>\n",
       "      <td>2.472521</td>\n",
       "      <td>39.215800</td>\n",
       "      <td>60</td>\n",
       "      <td>30</td>\n",
       "      <td>30</td>\n",
       "      <td>[0.0 0.0 0.0 0.0 0.0 0.0 0.0 0.0 0.0 0.0 0.0 0...</td>\n",
       "      <td>[0.0 0.0 0.0 0.0 0.0 0.0 0.0 0.0 0.0 0.0 0.0 0...</td>\n",
       "      <td>[0.0 0.0 0.0 0.0 0.0 0.0 0.0 0.0 0.0 0.0 0.0 0...</td>\n",
       "      <td>[-95.9 -94.45 -93.0 -91.55000000000001 -90.100...</td>\n",
       "      <td>[50.0 50.0 50.0 50.0 50.0 50.0 50.0 50.0 50.0 ...</td>\n",
       "      <td>[50.0 50.0 50.0 50.0 50.0 50.0 50.0 50.0 50.0 ...</td>\n",
       "      <td>[0.2 0.2 0.2 0.2 0.2 0.2 0.2 0.2 0.2 0.2 1.0 1...</td>\n",
       "      <td>[1 3 5 7 9 11 13 15 17 19 21 23 25 27 29 31 33...</td>\n",
       "      <td>[0 1 2 3 4 5 6 7 8 9 10 11 12 13 14 15 16 17 1...</td>\n",
       "    </tr>\n",
       "    <tr>\n",
       "      <th>29996</th>\n",
       "      <td>16.261656</td>\n",
       "      <td>302.008870</td>\n",
       "      <td>60</td>\n",
       "      <td>30</td>\n",
       "      <td>30</td>\n",
       "      <td>[27.929600748403832 42.78130471563944 42.33974...</td>\n",
       "      <td>[0.0 0.0 0.0 0.0 0.0 0.0 0.0 0.0 0.0 0.0 0.0 0...</td>\n",
       "      <td>[0.0 0.0 0.0 0.0 0.0 0.0 0.0 0.0 0.0 0.0 0.0 0...</td>\n",
       "      <td>[-95.9 -94.45 -93.0 -91.55000000000001 -90.100...</td>\n",
       "      <td>[50.0 50.0 50.0 50.0 50.0 50.0 50.0 50.0 50.0 ...</td>\n",
       "      <td>[50.0 50.0 50.0 50.0 50.0 50.0 50.0 50.0 50.0 ...</td>\n",
       "      <td>[0.2 0.2 0.2 0.2 0.2 0.2 0.2 0.2 0.2 0.2 1.0 1...</td>\n",
       "      <td>[1 3 5 7 9 11 13 15 17 19 21 23 25 27 29 31 33...</td>\n",
       "      <td>[0 1 2 3 4 5 6 7 8 9 10 11 12 13 14 15 16 17 1...</td>\n",
       "    </tr>\n",
       "    <tr>\n",
       "      <th>29997</th>\n",
       "      <td>75.843001</td>\n",
       "      <td>1436.314438</td>\n",
       "      <td>60</td>\n",
       "      <td>30</td>\n",
       "      <td>30</td>\n",
       "      <td>[18.31854955848091 70.28553917798212 128.18666...</td>\n",
       "      <td>[0.0 0.0 0.0 0.0 0.0 0.0 0.0 0.0 0.0 0.0 0.0 0...</td>\n",
       "      <td>[0.0 0.0 0.0 0.0 0.0 0.0 0.0 0.0 0.0 0.0 0.0 0...</td>\n",
       "      <td>[-95.9 -94.45 -93.0 -91.55000000000001 -90.100...</td>\n",
       "      <td>[50.0 50.0 50.0 50.0 50.0 50.0 50.0 50.0 50.0 ...</td>\n",
       "      <td>[50.0 50.0 50.0 50.0 50.0 50.0 50.0 50.0 50.0 ...</td>\n",
       "      <td>[0.2 0.2 0.2 0.2 0.2 0.2 0.2 0.2 0.2 0.2 1.0 1...</td>\n",
       "      <td>[1 3 5 7 9 11 13 15 17 19 21 23 25 27 29 31 33...</td>\n",
       "      <td>[0 1 2 3 4 5 6 7 8 9 10 11 12 13 14 15 16 17 1...</td>\n",
       "    </tr>\n",
       "    <tr>\n",
       "      <th>29998</th>\n",
       "      <td>111.381858</td>\n",
       "      <td>2222.370397</td>\n",
       "      <td>60</td>\n",
       "      <td>30</td>\n",
       "      <td>30</td>\n",
       "      <td>[1.827231179878254 0.7875043997377134 1.321658...</td>\n",
       "      <td>[0.0 0.0 0.0 0.0 0.0 0.0 0.0 0.0 0.0 0.0 0.0 0...</td>\n",
       "      <td>[0.0 0.0 0.0 0.0 0.0 0.0 0.0 0.0 0.0 0.0 0.0 0...</td>\n",
       "      <td>[-95.9 -94.45 -93.0 -91.55000000000001 -90.100...</td>\n",
       "      <td>[50.0 50.0 50.0 50.0 50.0 50.0 50.0 50.0 50.0 ...</td>\n",
       "      <td>[50.0 50.0 50.0 50.0 50.0 50.0 50.0 50.0 50.0 ...</td>\n",
       "      <td>[0.2 0.2 0.2 0.2 0.2 0.2 0.2 0.2 0.2 0.2 1.0 1...</td>\n",
       "      <td>[1 3 5 7 9 11 13 15 17 19 21 23 25 27 29 31 33...</td>\n",
       "      <td>[0 1 2 3 4 5 6 7 8 9 10 11 12 13 14 15 16 17 1...</td>\n",
       "    </tr>\n",
       "    <tr>\n",
       "      <th>29999</th>\n",
       "      <td>99.464226</td>\n",
       "      <td>1815.092002</td>\n",
       "      <td>60</td>\n",
       "      <td>30</td>\n",
       "      <td>30</td>\n",
       "      <td>[3.925891818069772 1.1730679596159916 5.839652...</td>\n",
       "      <td>[0.0 0.0 0.0 0.0 0.0 0.0 0.0 0.0 0.0 0.0 0.0 0...</td>\n",
       "      <td>[0.0 0.0 0.0 0.0 0.0 0.0 0.0 0.0 0.0 0.0 0.0 0...</td>\n",
       "      <td>[-95.9 -94.45 -93.0 -91.55000000000001 -90.100...</td>\n",
       "      <td>[50.0 50.0 50.0 50.0 50.0 50.0 50.0 50.0 50.0 ...</td>\n",
       "      <td>[50.0 50.0 50.0 50.0 50.0 50.0 50.0 50.0 50.0 ...</td>\n",
       "      <td>[0.2 0.2 0.2 0.2 0.2 0.2 0.2 0.2 0.2 0.2 1.0 1...</td>\n",
       "      <td>[1 3 5 7 9 11 13 15 17 19 21 23 25 27 29 31 33...</td>\n",
       "      <td>[0 1 2 3 4 5 6 7 8 9 10 11 12 13 14 15 16 17 1...</td>\n",
       "    </tr>\n",
       "  </tbody>\n",
       "</table>\n",
       "<p>30000 rows × 14 columns</p>\n",
       "</div>"
      ],
      "text/plain": [
       "       true_energy  total_dep_energy  N_layers  N_active_layers  N_sensors  \\\n",
       "0        23.639745        539.739999        60               30         30   \n",
       "1        17.033645        496.503126        60               30         30   \n",
       "2        54.456665       1022.636447        60               30         30   \n",
       "3        21.413131        402.361337        60               30         30   \n",
       "4       147.576553       2374.858667        60               30         30   \n",
       "...            ...               ...       ...              ...        ...   \n",
       "29995     2.472521         39.215800        60               30         30   \n",
       "29996    16.261656        302.008870        60               30         30   \n",
       "29997    75.843001       1436.314438        60               30         30   \n",
       "29998   111.381858       2222.370397        60               30         30   \n",
       "29999    99.464226       1815.092002        60               30         30   \n",
       "\n",
       "                                           sensor_energy  \\\n",
       "0      [1.4875551645744736 12.748502830558008 35.7589...   \n",
       "1      [7.484470499613877 8.115572282795952 56.486592...   \n",
       "2      [0.17570267382563998 0.4551232524727311 1.0838...   \n",
       "3      [0.000411172506346702 0.637679421537996 1.4903...   \n",
       "4      [31.449769210579014 13.49199612581808 17.24839...   \n",
       "...                                                  ...   \n",
       "29995  [0.0 0.0 0.0 0.0 0.0 0.0 0.0 0.0 0.0 0.0 0.0 0...   \n",
       "29996  [27.929600748403832 42.78130471563944 42.33974...   \n",
       "29997  [18.31854955848091 70.28553917798212 128.18666...   \n",
       "29998  [1.827231179878254 0.7875043997377134 1.321658...   \n",
       "29999  [3.925891818069772 1.1730679596159916 5.839652...   \n",
       "\n",
       "                                                sensor_x  \\\n",
       "0      [0.0 0.0 0.0 0.0 0.0 0.0 0.0 0.0 0.0 0.0 0.0 0...   \n",
       "1      [0.0 0.0 0.0 0.0 0.0 0.0 0.0 0.0 0.0 0.0 0.0 0...   \n",
       "2      [0.0 0.0 0.0 0.0 0.0 0.0 0.0 0.0 0.0 0.0 0.0 0...   \n",
       "3      [0.0 0.0 0.0 0.0 0.0 0.0 0.0 0.0 0.0 0.0 0.0 0...   \n",
       "4      [0.0 0.0 0.0 0.0 0.0 0.0 0.0 0.0 0.0 0.0 0.0 0...   \n",
       "...                                                  ...   \n",
       "29995  [0.0 0.0 0.0 0.0 0.0 0.0 0.0 0.0 0.0 0.0 0.0 0...   \n",
       "29996  [0.0 0.0 0.0 0.0 0.0 0.0 0.0 0.0 0.0 0.0 0.0 0...   \n",
       "29997  [0.0 0.0 0.0 0.0 0.0 0.0 0.0 0.0 0.0 0.0 0.0 0...   \n",
       "29998  [0.0 0.0 0.0 0.0 0.0 0.0 0.0 0.0 0.0 0.0 0.0 0...   \n",
       "29999  [0.0 0.0 0.0 0.0 0.0 0.0 0.0 0.0 0.0 0.0 0.0 0...   \n",
       "\n",
       "                                                sensor_y  \\\n",
       "0      [0.0 0.0 0.0 0.0 0.0 0.0 0.0 0.0 0.0 0.0 0.0 0...   \n",
       "1      [0.0 0.0 0.0 0.0 0.0 0.0 0.0 0.0 0.0 0.0 0.0 0...   \n",
       "2      [0.0 0.0 0.0 0.0 0.0 0.0 0.0 0.0 0.0 0.0 0.0 0...   \n",
       "3      [0.0 0.0 0.0 0.0 0.0 0.0 0.0 0.0 0.0 0.0 0.0 0...   \n",
       "4      [0.0 0.0 0.0 0.0 0.0 0.0 0.0 0.0 0.0 0.0 0.0 0...   \n",
       "...                                                  ...   \n",
       "29995  [0.0 0.0 0.0 0.0 0.0 0.0 0.0 0.0 0.0 0.0 0.0 0...   \n",
       "29996  [0.0 0.0 0.0 0.0 0.0 0.0 0.0 0.0 0.0 0.0 0.0 0...   \n",
       "29997  [0.0 0.0 0.0 0.0 0.0 0.0 0.0 0.0 0.0 0.0 0.0 0...   \n",
       "29998  [0.0 0.0 0.0 0.0 0.0 0.0 0.0 0.0 0.0 0.0 0.0 0...   \n",
       "29999  [0.0 0.0 0.0 0.0 0.0 0.0 0.0 0.0 0.0 0.0 0.0 0...   \n",
       "\n",
       "                                                sensor_z  \\\n",
       "0      [-95.9 -94.45 -93.0 -91.55000000000001 -90.100...   \n",
       "1      [-95.9 -94.45 -93.0 -91.55000000000001 -90.100...   \n",
       "2      [-95.9 -94.45 -93.0 -91.55000000000001 -90.100...   \n",
       "3      [-95.9 -94.45 -93.0 -91.55000000000001 -90.100...   \n",
       "4      [-95.9 -94.45 -93.0 -91.55000000000001 -90.100...   \n",
       "...                                                  ...   \n",
       "29995  [-95.9 -94.45 -93.0 -91.55000000000001 -90.100...   \n",
       "29996  [-95.9 -94.45 -93.0 -91.55000000000001 -90.100...   \n",
       "29997  [-95.9 -94.45 -93.0 -91.55000000000001 -90.100...   \n",
       "29998  [-95.9 -94.45 -93.0 -91.55000000000001 -90.100...   \n",
       "29999  [-95.9 -94.45 -93.0 -91.55000000000001 -90.100...   \n",
       "\n",
       "                                               sensor_dx  \\\n",
       "0      [50.0 50.0 50.0 50.0 50.0 50.0 50.0 50.0 50.0 ...   \n",
       "1      [50.0 50.0 50.0 50.0 50.0 50.0 50.0 50.0 50.0 ...   \n",
       "2      [50.0 50.0 50.0 50.0 50.0 50.0 50.0 50.0 50.0 ...   \n",
       "3      [50.0 50.0 50.0 50.0 50.0 50.0 50.0 50.0 50.0 ...   \n",
       "4      [50.0 50.0 50.0 50.0 50.0 50.0 50.0 50.0 50.0 ...   \n",
       "...                                                  ...   \n",
       "29995  [50.0 50.0 50.0 50.0 50.0 50.0 50.0 50.0 50.0 ...   \n",
       "29996  [50.0 50.0 50.0 50.0 50.0 50.0 50.0 50.0 50.0 ...   \n",
       "29997  [50.0 50.0 50.0 50.0 50.0 50.0 50.0 50.0 50.0 ...   \n",
       "29998  [50.0 50.0 50.0 50.0 50.0 50.0 50.0 50.0 50.0 ...   \n",
       "29999  [50.0 50.0 50.0 50.0 50.0 50.0 50.0 50.0 50.0 ...   \n",
       "\n",
       "                                               sensor_dy  \\\n",
       "0      [50.0 50.0 50.0 50.0 50.0 50.0 50.0 50.0 50.0 ...   \n",
       "1      [50.0 50.0 50.0 50.0 50.0 50.0 50.0 50.0 50.0 ...   \n",
       "2      [50.0 50.0 50.0 50.0 50.0 50.0 50.0 50.0 50.0 ...   \n",
       "3      [50.0 50.0 50.0 50.0 50.0 50.0 50.0 50.0 50.0 ...   \n",
       "4      [50.0 50.0 50.0 50.0 50.0 50.0 50.0 50.0 50.0 ...   \n",
       "...                                                  ...   \n",
       "29995  [50.0 50.0 50.0 50.0 50.0 50.0 50.0 50.0 50.0 ...   \n",
       "29996  [50.0 50.0 50.0 50.0 50.0 50.0 50.0 50.0 50.0 ...   \n",
       "29997  [50.0 50.0 50.0 50.0 50.0 50.0 50.0 50.0 50.0 ...   \n",
       "29998  [50.0 50.0 50.0 50.0 50.0 50.0 50.0 50.0 50.0 ...   \n",
       "29999  [50.0 50.0 50.0 50.0 50.0 50.0 50.0 50.0 50.0 ...   \n",
       "\n",
       "                                               sensor_dz  \\\n",
       "0      [0.2 0.2 0.2 0.2 0.2 0.2 0.2 0.2 0.2 0.2 1.0 1...   \n",
       "1      [0.2 0.2 0.2 0.2 0.2 0.2 0.2 0.2 0.2 0.2 1.0 1...   \n",
       "2      [0.2 0.2 0.2 0.2 0.2 0.2 0.2 0.2 0.2 0.2 1.0 1...   \n",
       "3      [0.2 0.2 0.2 0.2 0.2 0.2 0.2 0.2 0.2 0.2 1.0 1...   \n",
       "4      [0.2 0.2 0.2 0.2 0.2 0.2 0.2 0.2 0.2 0.2 1.0 1...   \n",
       "...                                                  ...   \n",
       "29995  [0.2 0.2 0.2 0.2 0.2 0.2 0.2 0.2 0.2 0.2 1.0 1...   \n",
       "29996  [0.2 0.2 0.2 0.2 0.2 0.2 0.2 0.2 0.2 0.2 1.0 1...   \n",
       "29997  [0.2 0.2 0.2 0.2 0.2 0.2 0.2 0.2 0.2 0.2 1.0 1...   \n",
       "29998  [0.2 0.2 0.2 0.2 0.2 0.2 0.2 0.2 0.2 0.2 1.0 1...   \n",
       "29999  [0.2 0.2 0.2 0.2 0.2 0.2 0.2 0.2 0.2 0.2 1.0 1...   \n",
       "\n",
       "                                            sensor_layer  \\\n",
       "0      [1 3 5 7 9 11 13 15 17 19 21 23 25 27 29 31 33...   \n",
       "1      [1 3 5 7 9 11 13 15 17 19 21 23 25 27 29 31 33...   \n",
       "2      [1 3 5 7 9 11 13 15 17 19 21 23 25 27 29 31 33...   \n",
       "3      [1 3 5 7 9 11 13 15 17 19 21 23 25 27 29 31 33...   \n",
       "4      [1 3 5 7 9 11 13 15 17 19 21 23 25 27 29 31 33...   \n",
       "...                                                  ...   \n",
       "29995  [1 3 5 7 9 11 13 15 17 19 21 23 25 27 29 31 33...   \n",
       "29996  [1 3 5 7 9 11 13 15 17 19 21 23 25 27 29 31 33...   \n",
       "29997  [1 3 5 7 9 11 13 15 17 19 21 23 25 27 29 31 33...   \n",
       "29998  [1 3 5 7 9 11 13 15 17 19 21 23 25 27 29 31 33...   \n",
       "29999  [1 3 5 7 9 11 13 15 17 19 21 23 25 27 29 31 33...   \n",
       "\n",
       "                                      sensor_copy_number  \n",
       "0      [0 1 2 3 4 5 6 7 8 9 10 11 12 13 14 15 16 17 1...  \n",
       "1      [0 1 2 3 4 5 6 7 8 9 10 11 12 13 14 15 16 17 1...  \n",
       "2      [0 1 2 3 4 5 6 7 8 9 10 11 12 13 14 15 16 17 1...  \n",
       "3      [0 1 2 3 4 5 6 7 8 9 10 11 12 13 14 15 16 17 1...  \n",
       "4      [0 1 2 3 4 5 6 7 8 9 10 11 12 13 14 15 16 17 1...  \n",
       "...                                                  ...  \n",
       "29995  [0 1 2 3 4 5 6 7 8 9 10 11 12 13 14 15 16 17 1...  \n",
       "29996  [0 1 2 3 4 5 6 7 8 9 10 11 12 13 14 15 16 17 1...  \n",
       "29997  [0 1 2 3 4 5 6 7 8 9 10 11 12 13 14 15 16 17 1...  \n",
       "29998  [0 1 2 3 4 5 6 7 8 9 10 11 12 13 14 15 16 17 1...  \n",
       "29999  [0 1 2 3 4 5 6 7 8 9 10 11 12 13 14 15 16 17 1...  \n",
       "\n",
       "[30000 rows x 14 columns]"
      ]
     },
     "execution_count": 4,
     "metadata": {},
     "output_type": "execute_result"
    }
   ],
   "source": [
    "df"
   ]
  },
  {
   "cell_type": "code",
   "execution_count": 5,
   "id": "d71de8ff-4bf1-4c07-9098-b26708c79108",
   "metadata": {},
   "outputs": [
    {
     "data": {
      "text/plain": [
       "array([[<Axes: title={'center': 'true_energy'}>,\n",
       "        <Axes: title={'center': 'total_dep_energy'}>,\n",
       "        <Axes: title={'center': 'N_layers'}>,\n",
       "        <Axes: title={'center': 'N_active_layers'}>],\n",
       "       [<Axes: title={'center': 'N_sensors'}>, <Axes: >, <Axes: >,\n",
       "        <Axes: >]], dtype=object)"
      ]
     },
     "execution_count": 5,
     "metadata": {},
     "output_type": "execute_result"
    },
    {
     "data": {
      "image/png": "[encoded data removed]",
      "text/plain": [
       "<Figure size 640x480 with 8 Axes>"
      ]
     },
     "metadata": {},
     "output_type": "display_data"
    }
   ],
   "source": [
    "df.hist(layout=(2,4),bins=30)"
   ]
  },
  {
   "cell_type": "code",
   "execution_count": 6,
   "id": "984ce2d9-3519-4b80-a3aa-8dd253200e83",
   "metadata": {},
   "outputs": [
    {
     "data": {
      "text/plain": [
       "368.18290690889495"
      ]
     },
     "execution_count": 6,
     "metadata": {},
     "output_type": "execute_result"
    }
   ],
   "source": [
    "sum(df['sensor_energy'][0][:10])"
   ]
  },
  {
   "cell_type": "code",
   "execution_count": 44,
   "id": "3496c4ef-efcd-4986-83a3-853bc8f9bc68",
   "metadata": {},
   "outputs": [],
   "source": [
    "ff = pd.DataFrame([(1, 2, [1, 2, 3, 4]),  \\\n",
    "                    (1, 2, [5, 6, 7, 8])], \\\n",
    "                    columns = ['a', 'b', 'c'])"
   ]
  },
  {
   "cell_type": "code",
   "execution_count": 45,
   "id": "bc7b9a1a-99d9-4028-bc64-35173ce8903d",
   "metadata": {},
   "outputs": [
    {
     "data": {
      "text/html": [
       "<div>\n",
       "<style scoped>\n",
       "    .dataframe tbody tr th:only-of-type {\n",
       "        vertical-align: middle;\n",
       "    }\n",
       "\n",
       "    .dataframe tbody tr th {\n",
       "        vertical-align: top;\n",
       "    }\n",
       "\n",
       "    .dataframe thead th {\n",
       "        text-align: right;\n",
       "    }\n",
       "</style>\n",
       "<table border=\"1\" class=\"dataframe\">\n",
       "  <thead>\n",
       "    <tr style=\"text-align: right;\">\n",
       "      <th></th>\n",
       "      <th>a</th>\n",
       "      <th>b</th>\n",
       "      <th>c</th>\n",
       "    </tr>\n",
       "  </thead>\n",
       "  <tbody>\n",
       "    <tr>\n",
       "      <th>0</th>\n",
       "      <td>1</td>\n",
       "      <td>2</td>\n",
       "      <td>[1, 2, 3, 4]</td>\n",
       "    </tr>\n",
       "    <tr>\n",
       "      <th>1</th>\n",
       "      <td>1</td>\n",
       "      <td>2</td>\n",
       "      <td>[5, 6, 7, 8]</td>\n",
       "    </tr>\n",
       "  </tbody>\n",
       "</table>\n",
       "</div>"
      ],
      "text/plain": [
       "   a  b             c\n",
       "0  1  2  [1, 2, 3, 4]\n",
       "1  1  2  [5, 6, 7, 8]"
      ]
     },
     "execution_count": 45,
     "metadata": {},
     "output_type": "execute_result"
    }
   ],
   "source": [
    "ff"
   ]
  },
  {
   "cell_type": "code",
   "execution_count": 46,
   "id": "91fc0cc3-89b7-4e6a-8390-9971e3c4757d",
   "metadata": {},
   "outputs": [
    {
     "data": {
      "text/plain": [
       "[[1, 5], [3, 11], [6, 18], [10, 26]]"
      ]
     },
     "execution_count": 46,
     "metadata": {},
     "output_type": "execute_result"
    }
   ],
   "source": [
    "i = 2\n",
    "[[sum(x[:i]) for x in ff['c']] for i in range(1,5)]"
   ]
  },
  {
   "cell_type": "code",
   "execution_count": 47,
   "id": "8fa6734b-38b2-4f28-a4ed-3446ceebba8d",
   "metadata": {},
   "outputs": [],
   "source": [
    "sums = [[sum(x[:i]) for x in ff['c']] for i in range(1,5)]"
   ]
  },
  {
   "cell_type": "code",
   "execution_count": 48,
   "id": "3f6fc54b-00c2-43a7-9536-90d3fe04e5ab",
   "metadata": {},
   "outputs": [],
   "source": [
    "arr = np.asarray(sums)"
   ]
  },
  {
   "cell_type": "code",
   "execution_count": 49,
   "id": "6087ee0b-fa77-4b2e-8271-6670a2676f6e",
   "metadata": {},
   "outputs": [
    {
     "data": {
      "text/plain": [
       "(2, 4)"
      ]
     },
     "execution_count": 49,
     "metadata": {},
     "output_type": "execute_result"
    }
   ],
   "source": [
    "arr.T.shape"
   ]
  },
  {
   "cell_type": "code",
   "execution_count": 50,
   "id": "ae0f669a-9b4c-4c24-b8c1-fc3d59d9bc03",
   "metadata": {},
   "outputs": [],
   "source": [
    "ff[list('defg')] = arr.T"
   ]
  },
  {
   "cell_type": "code",
   "execution_count": 51,
   "id": "143cbb34-1fe9-41d8-8938-418cfc89950e",
   "metadata": {},
   "outputs": [
    {
     "data": {
      "text/html": [
       "<div>\n",
       "<style scoped>\n",
       "    .dataframe tbody tr th:only-of-type {\n",
       "        vertical-align: middle;\n",
       "    }\n",
       "\n",
       "    .dataframe tbody tr th {\n",
       "        vertical-align: top;\n",
       "    }\n",
       "\n",
       "    .dataframe thead th {\n",
       "        text-align: right;\n",
       "    }\n",
       "</style>\n",
       "<table border=\"1\" class=\"dataframe\">\n",
       "  <thead>\n",
       "    <tr style=\"text-align: right;\">\n",
       "      <th></th>\n",
       "      <th>a</th>\n",
       "      <th>b</th>\n",
       "      <th>c</th>\n",
       "      <th>d</th>\n",
       "      <th>e</th>\n",
       "      <th>f</th>\n",
       "      <th>g</th>\n",
       "    </tr>\n",
       "  </thead>\n",
       "  <tbody>\n",
       "    <tr>\n",
       "      <th>0</th>\n",
       "      <td>1</td>\n",
       "      <td>2</td>\n",
       "      <td>[1, 2, 3, 4]</td>\n",
       "      <td>1</td>\n",
       "      <td>3</td>\n",
       "      <td>6</td>\n",
       "      <td>10</td>\n",
       "    </tr>\n",
       "    <tr>\n",
       "      <th>1</th>\n",
       "      <td>1</td>\n",
       "      <td>2</td>\n",
       "      <td>[5, 6, 7, 8]</td>\n",
       "      <td>5</td>\n",
       "      <td>11</td>\n",
       "      <td>18</td>\n",
       "      <td>26</td>\n",
       "    </tr>\n",
       "  </tbody>\n",
       "</table>\n",
       "</div>"
      ],
      "text/plain": [
       "   a  b             c  d   e   f   g\n",
       "0  1  2  [1, 2, 3, 4]  1   3   6  10\n",
       "1  1  2  [5, 6, 7, 8]  5  11  18  26"
      ]
     },
     "execution_count": 51,
     "metadata": {},
     "output_type": "execute_result"
    }
   ],
   "source": [
    "ff"
   ]
  },
  {
   "cell_type": "code",
   "execution_count": 66,
   "id": "86b31d62-0ee0-4d11-b7ae-456acd462388",
   "metadata": {},
   "outputs": [],
   "source": [
    "ff[[f'c{i}' for i in range(1,5)]] = ff['c'].to_list()"
   ]
  },
  {
   "cell_type": "code",
   "execution_count": 67,
   "id": "e83ec5fa-4b2f-43f9-8279-3ce165d9b087",
   "metadata": {},
   "outputs": [
    {
     "data": {
      "text/html": [
       "<div>\n",
       "<style scoped>\n",
       "    .dataframe tbody tr th:only-of-type {\n",
       "        vertical-align: middle;\n",
       "    }\n",
       "\n",
       "    .dataframe tbody tr th {\n",
       "        vertical-align: top;\n",
       "    }\n",
       "\n",
       "    .dataframe thead th {\n",
       "        text-align: right;\n",
       "    }\n",
       "</style>\n",
       "<table border=\"1\" class=\"dataframe\">\n",
       "  <thead>\n",
       "    <tr style=\"text-align: right;\">\n",
       "      <th></th>\n",
       "      <th>a</th>\n",
       "      <th>b</th>\n",
       "      <th>c</th>\n",
       "      <th>d</th>\n",
       "      <th>e</th>\n",
       "      <th>f</th>\n",
       "      <th>g</th>\n",
       "      <th>c1</th>\n",
       "      <th>c2</th>\n",
       "      <th>c3</th>\n",
       "      <th>c4</th>\n",
       "    </tr>\n",
       "  </thead>\n",
       "  <tbody>\n",
       "    <tr>\n",
       "      <th>0</th>\n",
       "      <td>1</td>\n",
       "      <td>2</td>\n",
       "      <td>[1, 2, 3, 4]</td>\n",
       "      <td>1</td>\n",
       "      <td>3</td>\n",
       "      <td>6</td>\n",
       "      <td>10</td>\n",
       "      <td>1</td>\n",
       "      <td>2</td>\n",
       "      <td>3</td>\n",
       "      <td>4</td>\n",
       "    </tr>\n",
       "    <tr>\n",
       "      <th>1</th>\n",
       "      <td>1</td>\n",
       "      <td>2</td>\n",
       "      <td>[5, 6, 7, 8]</td>\n",
       "      <td>5</td>\n",
       "      <td>11</td>\n",
       "      <td>18</td>\n",
       "      <td>26</td>\n",
       "      <td>5</td>\n",
       "      <td>6</td>\n",
       "      <td>7</td>\n",
       "      <td>8</td>\n",
       "    </tr>\n",
       "  </tbody>\n",
       "</table>\n",
       "</div>"
      ],
      "text/plain": [
       "   a  b             c  d   e   f   g  c1  c2  c3  c4\n",
       "0  1  2  [1, 2, 3, 4]  1   3   6  10   1   2   3   4\n",
       "1  1  2  [5, 6, 7, 8]  5  11  18  26   5   6   7   8"
      ]
     },
     "execution_count": 67,
     "metadata": {},
     "output_type": "execute_result"
    }
   ],
   "source": [
    "ff"
   ]
  },
  {
   "cell_type": "code",
   "execution_count": 54,
   "id": "0262c29b-d592-4d6a-bcb7-f873655e8030",
   "metadata": {},
   "outputs": [
    {
     "data": {
      "text/plain": [
       "(2, 1)"
      ]
     },
     "execution_count": 54,
     "metadata": {},
     "output_type": "execute_result"
    }
   ],
   "source": [
    "ff['a'].to_numpy()[np.newaxis].T.shape"
   ]
  },
  {
   "cell_type": "code",
   "execution_count": 59,
   "id": "f7983b04-2c09-4233-b66e-2dba0959ac35",
   "metadata": {},
   "outputs": [
    {
     "data": {
      "text/plain": [
       "(2, 4)"
      ]
     },
     "execution_count": 59,
     "metadata": {},
     "output_type": "execute_result"
    }
   ],
   "source": [
    "arr.T.shape"
   ]
  },
  {
   "cell_type": "code",
   "execution_count": 62,
   "id": "e6b7b0e7-f030-4c4a-b9d2-ab4f3b5cba15",
   "metadata": {},
   "outputs": [
    {
     "data": {
      "text/plain": [
       "array([[ 1,  1,  3,  6, 10],\n",
       "       [ 1,  5, 11, 18, 26]])"
      ]
     },
     "execution_count": 62,
     "metadata": {},
     "output_type": "execute_result"
    }
   ],
   "source": [
    "np.hstack([ff['a'].to_numpy()[np.newaxis].T, arr.T])"
   ]
  },
  {
   "cell_type": "code",
   "execution_count": 63,
   "id": "10736d96-aa81-4334-a508-b75b6380c703",
   "metadata": {},
   "outputs": [
    {
     "data": {
      "text/plain": [
       "['sum_1L',\n",
       " 'sum_2L',\n",
       " 'sum_3L',\n",
       " 'sum_4L',\n",
       " 'sum_5L',\n",
       " 'sum_6L',\n",
       " 'sum_7L',\n",
       " 'sum_8L',\n",
       " 'sum_9L',\n",
       " 'sum_10L']"
      ]
     },
     "execution_count": 63,
     "metadata": {},
     "output_type": "execute_result"
    }
   ],
   "source": [
    "[f'sum_{i}L' for i in range(1,10+1)]"
   ]
  },
  {
   "cell_type": "code",
   "execution_count": 42,
   "id": "7417e1ed-fdf5-46b9-a96a-d081e423d877",
   "metadata": {},
   "outputs": [
    {
     "data": {
      "text/plain": [
       "(7, 1)"
      ]
     },
     "execution_count": 42,
     "metadata": {},
     "output_type": "execute_result"
    }
   ],
   "source": [
    "bb[np.newaxis].T.shape"
   ]
  },
  {
   "cell_type": "code",
   "execution_count": 69,
   "id": "bda72d5f-9210-48e0-a081-5d9a64f12178",
   "metadata": {},
   "outputs": [],
   "source": [
    "df[:1000].to_pickle('/eos/home-k/kiwoznia/data/rodem/opde/kinga2_fullcalo_layers_1K.pkl')"
   ]
  },
  {
   "cell_type": "code",
   "execution_count": 23,
   "id": "62bc1514-0eb8-4d6c-b778-cc21017af5f7",
   "metadata": {},
   "outputs": [
    {
     "data": {
      "text/plain": [
       "array([1, 1])"
      ]
     },
     "execution_count": 23,
     "metadata": {},
     "output_type": "execute_result"
    }
   ],
   "source": [
    "ff['a'].to_numpy().[]"
   ]
  },
  {
   "cell_type": "code",
   "execution_count": 24,
   "id": "8e3f26bc-96a1-45d0-9231-4b2b11a456d8",
   "metadata": {},
   "outputs": [
    {
     "name": "stdout",
     "output_type": "stream",
     "text": [
      "true_energy\n",
      "total_dep_energy\n",
      "N_layers\n",
      "N_active_layers\n",
      "N_sensors\n",
      "sensor_energy\n"
     ]
    }
   ],
   "source": [
    "i = 0\n",
    "for dd in df:\n",
    "    print(dd)\n",
    "    i = i+1\n",
    "    if i > 5: break"
   ]
  },
  {
   "cell_type": "code",
   "execution_count": 24,
   "id": "ae564387-cdc8-4719-8bd3-41ad973c78cd",
   "metadata": {},
   "outputs": [
    {
     "name": "stdout",
     "output_type": "stream",
     "text": [
      "true_energy\n",
      "total_dep_energy\n",
      "N_layers\n",
      "N_active_layers\n",
      "N_sensors\n",
      "sensor_energy\n"
     ]
    }
   ],
   "source": [
    "i = 0\n",
    "for dd in df:\n",
    "    print(dd)\n",
    "    i = i+1\n",
    "    if i > 5: break"
   ]
  },
  {
   "cell_type": "code",
   "execution_count": 28,
   "id": "681c9ec9-9a7c-4375-bb71-c88620657fe0",
   "metadata": {},
   "outputs": [
    {
     "ename": "TypeError",
     "evalue": "unhashable type: 'Series'",
     "output_type": "error",
     "traceback": [
      "\u001b[0;31m---------------------------------------------------------------------------\u001b[0m",
      "\u001b[0;31mTypeError\u001b[0m                                 Traceback (most recent call last)",
      "\u001b[0;32m/tmp/kiwoznia/ipykernel_1186285/4286284407.py\u001b[0m in \u001b[0;36m?\u001b[0;34m()\u001b[0m\n\u001b[0;32m----> 1\u001b[0;31m \u001b[0mdf\u001b[0m\u001b[0;34m.\u001b[0m\u001b[0msum\u001b[0m\u001b[0;34m(\u001b[0m\u001b[0mdf\u001b[0m\u001b[0;34m[\u001b[0m\u001b[0;34m'sensor_energy'\u001b[0m\u001b[0;34m]\u001b[0m\u001b[0;34m[\u001b[0m\u001b[0;34m:\u001b[0m\u001b[0;36m3\u001b[0m\u001b[0;34m]\u001b[0m\u001b[0;34m)\u001b[0m\u001b[0;34m\u001b[0m\u001b[0;34m\u001b[0m\u001b[0m\n\u001b[0m",
      "\u001b[0;32m/eos/home-k/kiwoznia/software/.pyenv/versions/3.10.13/lib/python3.10/site-packages/pandas/core/frame.py\u001b[0m in \u001b[0;36m?\u001b[0;34m(self, axis, skipna, numeric_only, min_count, **kwargs)\u001b[0m\n\u001b[1;32m  11639\u001b[0m         \u001b[0mnumeric_only\u001b[0m\u001b[0;34m:\u001b[0m \u001b[0mbool\u001b[0m \u001b[0;34m=\u001b[0m \u001b[0;32mFalse\u001b[0m\u001b[0;34m,\u001b[0m\u001b[0;34m\u001b[0m\u001b[0;34m\u001b[0m\u001b[0m\n\u001b[1;32m  11640\u001b[0m         \u001b[0mmin_count\u001b[0m\u001b[0;34m:\u001b[0m \u001b[0mint\u001b[0m \u001b[0;34m=\u001b[0m \u001b[0;36m0\u001b[0m\u001b[0;34m,\u001b[0m\u001b[0;34m\u001b[0m\u001b[0;34m\u001b[0m\u001b[0m\n\u001b[1;32m  11641\u001b[0m         \u001b[0;34m**\u001b[0m\u001b[0mkwargs\u001b[0m\u001b[0;34m,\u001b[0m\u001b[0;34m\u001b[0m\u001b[0;34m\u001b[0m\u001b[0m\n\u001b[1;32m  11642\u001b[0m     ):\n\u001b[0;32m> 11643\u001b[0;31m         \u001b[0mresult\u001b[0m \u001b[0;34m=\u001b[0m \u001b[0msuper\u001b[0m\u001b[0;34m(\u001b[0m\u001b[0;34m)\u001b[0m\u001b[0;34m.\u001b[0m\u001b[0msum\u001b[0m\u001b[0;34m(\u001b[0m\u001b[0maxis\u001b[0m\u001b[0;34m,\u001b[0m \u001b[0mskipna\u001b[0m\u001b[0;34m,\u001b[0m \u001b[0mnumeric_only\u001b[0m\u001b[0;34m,\u001b[0m \u001b[0mmin_count\u001b[0m\u001b[0;34m,\u001b[0m \u001b[0;34m**\u001b[0m\u001b[0mkwargs\u001b[0m\u001b[0;34m)\u001b[0m\u001b[0;34m\u001b[0m\u001b[0;34m\u001b[0m\u001b[0m\n\u001b[0m\u001b[1;32m  11644\u001b[0m         \u001b[0;32mreturn\u001b[0m \u001b[0mresult\u001b[0m\u001b[0;34m.\u001b[0m\u001b[0m__finalize__\u001b[0m\u001b[0;34m(\u001b[0m\u001b[0mself\u001b[0m\u001b[0;34m,\u001b[0m \u001b[0mmethod\u001b[0m\u001b[0;34m=\u001b[0m\u001b[0;34m\"sum\"\u001b[0m\u001b[0;34m)\u001b[0m\u001b[0;34m\u001b[0m\u001b[0;34m\u001b[0m\u001b[0m\n",
      "\u001b[0;32m/eos/home-k/kiwoznia/software/.pyenv/versions/3.10.13/lib/python3.10/site-packages/pandas/core/generic.py\u001b[0m in \u001b[0;36m?\u001b[0;34m(self, axis, skipna, numeric_only, min_count, **kwargs)\u001b[0m\n\u001b[1;32m  12495\u001b[0m         \u001b[0mnumeric_only\u001b[0m\u001b[0;34m:\u001b[0m \u001b[0mbool_t\u001b[0m \u001b[0;34m=\u001b[0m \u001b[0;32mFalse\u001b[0m\u001b[0;34m,\u001b[0m\u001b[0;34m\u001b[0m\u001b[0;34m\u001b[0m\u001b[0m\n\u001b[1;32m  12496\u001b[0m         \u001b[0mmin_count\u001b[0m\u001b[0;34m:\u001b[0m \u001b[0mint\u001b[0m \u001b[0;34m=\u001b[0m \u001b[0;36m0\u001b[0m\u001b[0;34m,\u001b[0m\u001b[0;34m\u001b[0m\u001b[0;34m\u001b[0m\u001b[0m\n\u001b[1;32m  12497\u001b[0m         \u001b[0;34m**\u001b[0m\u001b[0mkwargs\u001b[0m\u001b[0;34m,\u001b[0m\u001b[0;34m\u001b[0m\u001b[0;34m\u001b[0m\u001b[0m\n\u001b[1;32m  12498\u001b[0m     ):\n\u001b[0;32m> 12499\u001b[0;31m         return self._min_count_stat_function(\n\u001b[0m\u001b[1;32m  12500\u001b[0m             \u001b[0;34m\"sum\"\u001b[0m\u001b[0;34m,\u001b[0m \u001b[0mnanops\u001b[0m\u001b[0;34m.\u001b[0m\u001b[0mnansum\u001b[0m\u001b[0;34m,\u001b[0m \u001b[0maxis\u001b[0m\u001b[0;34m,\u001b[0m \u001b[0mskipna\u001b[0m\u001b[0;34m,\u001b[0m \u001b[0mnumeric_only\u001b[0m\u001b[0;34m,\u001b[0m \u001b[0mmin_count\u001b[0m\u001b[0;34m,\u001b[0m \u001b[0;34m**\u001b[0m\u001b[0mkwargs\u001b[0m\u001b[0;34m\u001b[0m\u001b[0;34m\u001b[0m\u001b[0m\n\u001b[1;32m  12501\u001b[0m         )\n",
      "\u001b[0;32m/eos/home-k/kiwoznia/software/.pyenv/versions/3.10.13/lib/python3.10/site-packages/pandas/core/generic.py\u001b[0m in \u001b[0;36m?\u001b[0;34m(self, name, func, axis, skipna, numeric_only, min_count, **kwargs)\u001b[0m\n\u001b[1;32m  12478\u001b[0m             \u001b[0maxis\u001b[0m \u001b[0;34m=\u001b[0m \u001b[0;36m0\u001b[0m\u001b[0;34m\u001b[0m\u001b[0;34m\u001b[0m\u001b[0m\n\u001b[1;32m  12479\u001b[0m         \u001b[0;32melif\u001b[0m \u001b[0maxis\u001b[0m \u001b[0;32mis\u001b[0m \u001b[0mlib\u001b[0m\u001b[0;34m.\u001b[0m\u001b[0mno_default\u001b[0m\u001b[0;34m:\u001b[0m\u001b[0;34m\u001b[0m\u001b[0;34m\u001b[0m\u001b[0m\n\u001b[1;32m  12480\u001b[0m             \u001b[0maxis\u001b[0m \u001b[0;34m=\u001b[0m \u001b[0;36m0\u001b[0m\u001b[0;34m\u001b[0m\u001b[0;34m\u001b[0m\u001b[0m\n\u001b[1;32m  12481\u001b[0m \u001b[0;34m\u001b[0m\u001b[0m\n\u001b[0;32m> 12482\u001b[0;31m         return self._reduce(\n\u001b[0m\u001b[1;32m  12483\u001b[0m             \u001b[0mfunc\u001b[0m\u001b[0;34m,\u001b[0m\u001b[0;34m\u001b[0m\u001b[0;34m\u001b[0m\u001b[0m\n\u001b[1;32m  12484\u001b[0m             \u001b[0mname\u001b[0m\u001b[0;34m=\u001b[0m\u001b[0mname\u001b[0m\u001b[0;34m,\u001b[0m\u001b[0;34m\u001b[0m\u001b[0;34m\u001b[0m\u001b[0m\n\u001b[1;32m  12485\u001b[0m             \u001b[0maxis\u001b[0m\u001b[0;34m=\u001b[0m\u001b[0maxis\u001b[0m\u001b[0;34m,\u001b[0m\u001b[0;34m\u001b[0m\u001b[0;34m\u001b[0m\u001b[0m\n",
      "\u001b[0;32m/eos/home-k/kiwoznia/software/.pyenv/versions/3.10.13/lib/python3.10/site-packages/pandas/core/frame.py\u001b[0m in \u001b[0;36m?\u001b[0;34m(self, op, name, axis, skipna, numeric_only, filter_type, **kwds)\u001b[0m\n\u001b[1;32m  11419\u001b[0m         \u001b[0;32massert\u001b[0m \u001b[0mfilter_type\u001b[0m \u001b[0;32mis\u001b[0m \u001b[0;32mNone\u001b[0m \u001b[0;32mor\u001b[0m \u001b[0mfilter_type\u001b[0m \u001b[0;34m==\u001b[0m \u001b[0;34m\"bool\"\u001b[0m\u001b[0;34m,\u001b[0m \u001b[0mfilter_type\u001b[0m\u001b[0;34m\u001b[0m\u001b[0;34m\u001b[0m\u001b[0m\n\u001b[1;32m  11420\u001b[0m         \u001b[0mout_dtype\u001b[0m \u001b[0;34m=\u001b[0m \u001b[0;34m\"bool\"\u001b[0m \u001b[0;32mif\u001b[0m \u001b[0mfilter_type\u001b[0m \u001b[0;34m==\u001b[0m \u001b[0;34m\"bool\"\u001b[0m \u001b[0;32melse\u001b[0m \u001b[0;32mNone\u001b[0m\u001b[0;34m\u001b[0m\u001b[0;34m\u001b[0m\u001b[0m\n\u001b[1;32m  11421\u001b[0m \u001b[0;34m\u001b[0m\u001b[0m\n\u001b[1;32m  11422\u001b[0m         \u001b[0;32mif\u001b[0m \u001b[0maxis\u001b[0m \u001b[0;32mis\u001b[0m \u001b[0;32mnot\u001b[0m \u001b[0;32mNone\u001b[0m\u001b[0;34m:\u001b[0m\u001b[0;34m\u001b[0m\u001b[0;34m\u001b[0m\u001b[0m\n\u001b[0;32m> 11423\u001b[0;31m             \u001b[0maxis\u001b[0m \u001b[0;34m=\u001b[0m \u001b[0mself\u001b[0m\u001b[0;34m.\u001b[0m\u001b[0m_get_axis_number\u001b[0m\u001b[0;34m(\u001b[0m\u001b[0maxis\u001b[0m\u001b[0;34m)\u001b[0m\u001b[0;34m\u001b[0m\u001b[0;34m\u001b[0m\u001b[0m\n\u001b[0m\u001b[1;32m  11424\u001b[0m \u001b[0;34m\u001b[0m\u001b[0m\n\u001b[1;32m  11425\u001b[0m         \u001b[0;32mdef\u001b[0m \u001b[0mfunc\u001b[0m\u001b[0;34m(\u001b[0m\u001b[0mvalues\u001b[0m\u001b[0;34m:\u001b[0m \u001b[0mnp\u001b[0m\u001b[0;34m.\u001b[0m\u001b[0mndarray\u001b[0m\u001b[0;34m)\u001b[0m\u001b[0;34m:\u001b[0m\u001b[0;34m\u001b[0m\u001b[0;34m\u001b[0m\u001b[0m\n\u001b[1;32m  11426\u001b[0m             \u001b[0;31m# We only use this in the case that operates on self.values\u001b[0m\u001b[0;34m\u001b[0m\u001b[0;34m\u001b[0m\u001b[0m\n",
      "\u001b[0;32m/eos/home-k/kiwoznia/software/.pyenv/versions/3.10.13/lib/python3.10/site-packages/pandas/core/generic.py\u001b[0m in \u001b[0;36m?\u001b[0;34m(cls, axis)\u001b[0m\n\u001b[1;32m    572\u001b[0m     \u001b[0;34m@\u001b[0m\u001b[0mclassmethod\u001b[0m\u001b[0;34m\u001b[0m\u001b[0;34m\u001b[0m\u001b[0m\n\u001b[1;32m    573\u001b[0m     \u001b[0;32mdef\u001b[0m \u001b[0m_get_axis_number\u001b[0m\u001b[0;34m(\u001b[0m\u001b[0mcls\u001b[0m\u001b[0;34m,\u001b[0m \u001b[0maxis\u001b[0m\u001b[0;34m:\u001b[0m \u001b[0mAxis\u001b[0m\u001b[0;34m)\u001b[0m \u001b[0;34m->\u001b[0m \u001b[0mAxisInt\u001b[0m\u001b[0;34m:\u001b[0m\u001b[0;34m\u001b[0m\u001b[0;34m\u001b[0m\u001b[0m\n\u001b[1;32m    574\u001b[0m         \u001b[0;32mtry\u001b[0m\u001b[0;34m:\u001b[0m\u001b[0;34m\u001b[0m\u001b[0;34m\u001b[0m\u001b[0m\n\u001b[1;32m    575\u001b[0m             \u001b[0;32mreturn\u001b[0m \u001b[0mcls\u001b[0m\u001b[0;34m.\u001b[0m\u001b[0m_AXIS_TO_AXIS_NUMBER\u001b[0m\u001b[0;34m[\u001b[0m\u001b[0maxis\u001b[0m\u001b[0;34m]\u001b[0m\u001b[0;34m\u001b[0m\u001b[0;34m\u001b[0m\u001b[0m\n\u001b[0;32m--> 576\u001b[0;31m         \u001b[0;32mexcept\u001b[0m \u001b[0mKeyError\u001b[0m\u001b[0;34m:\u001b[0m\u001b[0;34m\u001b[0m\u001b[0;34m\u001b[0m\u001b[0m\n\u001b[0m\u001b[1;32m    577\u001b[0m             \u001b[0;32mraise\u001b[0m \u001b[0mValueError\u001b[0m\u001b[0;34m(\u001b[0m\u001b[0;34mf\"No axis named {axis} for object type {cls.__name__}\"\u001b[0m\u001b[0;34m)\u001b[0m\u001b[0;34m\u001b[0m\u001b[0;34m\u001b[0m\u001b[0m\n",
      "\u001b[0;31mTypeError\u001b[0m: unhashable type: 'Series'"
     ]
    }
   ],
   "source": [
    "df.sum(df['sensor_energy'][:3])"
   ]
  },
  {
   "cell_type": "code",
   "execution_count": null,
   "id": "4fe98d6e-d29b-42b8-871d-86252a5e4d48",
   "metadata": {},
   "outputs": [],
   "source": []
  }
 ],
 "metadata": {
  "kernelspec": {
   "display_name": "Python 3",
   "language": "python",
   "name": "python3"
  },
  "language_info": {
   "codemirror_mode": {
    "name": "ipython",
    "version": 3
   },
   "file_extension": ".py",
   "mimetype": "text/x-python",
   "name": "python",
   "nbconvert_exporter": "python",
   "pygments_lexer": "ipython3",
   "version": "3.10.13"
  }
 },
 "nbformat": 4,
 "nbformat_minor": 5
}
