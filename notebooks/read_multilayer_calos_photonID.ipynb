{
 "cells": [
  {
   "cell_type": "code",
   "execution_count": 1,
   "id": "dab4843d-4c13-42a3-a4af-e419fe5eed76",
   "metadata": {},
   "outputs": [],
   "source": [
    "import numpy as np\n",
    "import pandas as pd\n",
    "import matplotlib.pyplot as plt"
   ]
  },
  {
   "cell_type": "code",
   "execution_count": 2,
   "id": "482665d1-7131-4cdc-951a-97f4ec1ffe87",
   "metadata": {},
   "outputs": [],
   "source": [
    "#file_path = '/eos/home-k/kiwoznia/data/rodem/opde/kinga2_fullcalo_layers.pkl'\n",
    "file_path = '/eos/home-k/kiwoznia/data/rodem/opde/Feb24_photons.pkl'"
   ]
  },
  {
   "cell_type": "code",
   "execution_count": 3,
   "id": "dfd50d8f-c71b-472d-8577-7624eb861314",
   "metadata": {},
   "outputs": [],
   "source": [
    "df = pd.read_pickle(file_path)"
   ]
  },
  {
   "cell_type": "code",
   "execution_count": 4,
   "id": "43cb4770-8ff1-45d0-be9b-1f4ca53c2c92",
   "metadata": {},
   "outputs": [
    {
     "data": {
      "text/plain": [
       "Index(['true_energy', 'total_dep_energy', 'N_layers', 'N_active_layers',\n",
       "       'N_sensors', 'sensor_energy', 'sensor_x', 'sensor_y', 'sensor_z',\n",
       "       'sensor_dx', 'sensor_dy', 'sensor_dz', 'sensor_layer',\n",
       "       'sensor_copy_number'],\n",
       "      dtype='object')"
      ]
     },
     "execution_count": 4,
     "metadata": {},
     "output_type": "execute_result"
    }
   ],
   "source": [
    "df.columns"
   ]
  },
  {
   "cell_type": "code",
   "execution_count": 5,
   "id": "e9b7da37-f3d9-4a24-87f1-f20516c10200",
   "metadata": {},
   "outputs": [
    {
     "data": {
      "text/html": [
       "<div>\n",
       "<style scoped>\n",
       "    .dataframe tbody tr th:only-of-type {\n",
       "        vertical-align: middle;\n",
       "    }\n",
       "\n",
       "    .dataframe tbody tr th {\n",
       "        vertical-align: top;\n",
       "    }\n",
       "\n",
       "    .dataframe thead th {\n",
       "        text-align: right;\n",
       "    }\n",
       "</style>\n",
       "<table border=\"1\" class=\"dataframe\">\n",
       "  <thead>\n",
       "    <tr style=\"text-align: right;\">\n",
       "      <th></th>\n",
       "      <th>true_energy</th>\n",
       "      <th>total_dep_energy</th>\n",
       "      <th>N_layers</th>\n",
       "      <th>N_active_layers</th>\n",
       "      <th>N_sensors</th>\n",
       "      <th>sensor_energy</th>\n",
       "      <th>sensor_x</th>\n",
       "      <th>sensor_y</th>\n",
       "      <th>sensor_z</th>\n",
       "      <th>sensor_dx</th>\n",
       "      <th>sensor_dy</th>\n",
       "      <th>sensor_dz</th>\n",
       "      <th>sensor_layer</th>\n",
       "      <th>sensor_copy_number</th>\n",
       "    </tr>\n",
       "  </thead>\n",
       "  <tbody>\n",
       "    <tr>\n",
       "      <th>0</th>\n",
       "      <td>76.636498</td>\n",
       "      <td>1381.468508</td>\n",
       "      <td>60</td>\n",
       "      <td>30</td>\n",
       "      <td>30</td>\n",
       "      <td>[22.60732568803541 153.3075740652412 178.30846...</td>\n",
       "      <td>[0.0 0.0 0.0 0.0 0.0 0.0 0.0 0.0 0.0 0.0 0.0 0...</td>\n",
       "      <td>[0.0 0.0 0.0 0.0 0.0 0.0 0.0 0.0 0.0 0.0 0.0 0...</td>\n",
       "      <td>[-959.0 -944.5 -930.0 -915.5 -901.0 -886.5 -87...</td>\n",
       "      <td>[500.0 500.0 500.0 500.0 500.0 500.0 500.0 500...</td>\n",
       "      <td>[500.0 500.0 500.0 500.0 500.0 500.0 500.0 500...</td>\n",
       "      <td>[2.0 2.0 2.0 2.0 2.0 2.0 2.0 2.0 2.0 2.0 10.0 ...</td>\n",
       "      <td>[1 3 5 7 9 11 13 15 17 19 21 23 25 27 29 31 33...</td>\n",
       "      <td>[0 1 2 3 4 5 6 7 8 9 10 11 12 13 14 15 16 17 1...</td>\n",
       "    </tr>\n",
       "    <tr>\n",
       "      <th>1</th>\n",
       "      <td>99.035305</td>\n",
       "      <td>1786.021181</td>\n",
       "      <td>60</td>\n",
       "      <td>30</td>\n",
       "      <td>30</td>\n",
       "      <td>[42.168713189169836 136.6696389212461 299.4323...</td>\n",
       "      <td>[0.0 0.0 0.0 0.0 0.0 0.0 0.0 0.0 0.0 0.0 0.0 0...</td>\n",
       "      <td>[0.0 0.0 0.0 0.0 0.0 0.0 0.0 0.0 0.0 0.0 0.0 0...</td>\n",
       "      <td>[-959.0 -944.5 -930.0 -915.5 -901.0 -886.5 -87...</td>\n",
       "      <td>[500.0 500.0 500.0 500.0 500.0 500.0 500.0 500...</td>\n",
       "      <td>[500.0 500.0 500.0 500.0 500.0 500.0 500.0 500...</td>\n",
       "      <td>[2.0 2.0 2.0 2.0 2.0 2.0 2.0 2.0 2.0 2.0 10.0 ...</td>\n",
       "      <td>[1 3 5 7 9 11 13 15 17 19 21 23 25 27 29 31 33...</td>\n",
       "      <td>[0 1 2 3 4 5 6 7 8 9 10 11 12 13 14 15 16 17 1...</td>\n",
       "    </tr>\n",
       "    <tr>\n",
       "      <th>2</th>\n",
       "      <td>28.956386</td>\n",
       "      <td>519.516692</td>\n",
       "      <td>60</td>\n",
       "      <td>30</td>\n",
       "      <td>30</td>\n",
       "      <td>[2.064107155237872 41.1083321806994 84.5675147...</td>\n",
       "      <td>[0.0 0.0 0.0 0.0 0.0 0.0 0.0 0.0 0.0 0.0 0.0 0...</td>\n",
       "      <td>[0.0 0.0 0.0 0.0 0.0 0.0 0.0 0.0 0.0 0.0 0.0 0...</td>\n",
       "      <td>[-959.0 -944.5 -930.0 -915.5 -901.0 -886.5 -87...</td>\n",
       "      <td>[500.0 500.0 500.0 500.0 500.0 500.0 500.0 500...</td>\n",
       "      <td>[500.0 500.0 500.0 500.0 500.0 500.0 500.0 500...</td>\n",
       "      <td>[2.0 2.0 2.0 2.0 2.0 2.0 2.0 2.0 2.0 2.0 10.0 ...</td>\n",
       "      <td>[1 3 5 7 9 11 13 15 17 19 21 23 25 27 29 31 33...</td>\n",
       "      <td>[0 1 2 3 4 5 6 7 8 9 10 11 12 13 14 15 16 17 1...</td>\n",
       "    </tr>\n",
       "    <tr>\n",
       "      <th>3</th>\n",
       "      <td>96.554431</td>\n",
       "      <td>1775.567918</td>\n",
       "      <td>60</td>\n",
       "      <td>30</td>\n",
       "      <td>30</td>\n",
       "      <td>[31.132204727159785 174.81585441405153 343.603...</td>\n",
       "      <td>[0.0 0.0 0.0 0.0 0.0 0.0 0.0 0.0 0.0 0.0 0.0 0...</td>\n",
       "      <td>[0.0 0.0 0.0 0.0 0.0 0.0 0.0 0.0 0.0 0.0 0.0 0...</td>\n",
       "      <td>[-959.0 -944.5 -930.0 -915.5 -901.0 -886.5 -87...</td>\n",
       "      <td>[500.0 500.0 500.0 500.0 500.0 500.0 500.0 500...</td>\n",
       "      <td>[500.0 500.0 500.0 500.0 500.0 500.0 500.0 500...</td>\n",
       "      <td>[2.0 2.0 2.0 2.0 2.0 2.0 2.0 2.0 2.0 2.0 10.0 ...</td>\n",
       "      <td>[1 3 5 7 9 11 13 15 17 19 21 23 25 27 29 31 33...</td>\n",
       "      <td>[0 1 2 3 4 5 6 7 8 9 10 11 12 13 14 15 16 17 1...</td>\n",
       "    </tr>\n",
       "    <tr>\n",
       "      <th>4</th>\n",
       "      <td>28.564323</td>\n",
       "      <td>510.078878</td>\n",
       "      <td>60</td>\n",
       "      <td>30</td>\n",
       "      <td>30</td>\n",
       "      <td>[0.09667021637053028 5.150795863056042 14.0271...</td>\n",
       "      <td>[0.0 0.0 0.0 0.0 0.0 0.0 0.0 0.0 0.0 0.0 0.0 0...</td>\n",
       "      <td>[0.0 0.0 0.0 0.0 0.0 0.0 0.0 0.0 0.0 0.0 0.0 0...</td>\n",
       "      <td>[-959.0 -944.5 -930.0 -915.5 -901.0 -886.5 -87...</td>\n",
       "      <td>[500.0 500.0 500.0 500.0 500.0 500.0 500.0 500...</td>\n",
       "      <td>[500.0 500.0 500.0 500.0 500.0 500.0 500.0 500...</td>\n",
       "      <td>[2.0 2.0 2.0 2.0 2.0 2.0 2.0 2.0 2.0 2.0 10.0 ...</td>\n",
       "      <td>[1 3 5 7 9 11 13 15 17 19 21 23 25 27 29 31 33...</td>\n",
       "      <td>[0 1 2 3 4 5 6 7 8 9 10 11 12 13 14 15 16 17 1...</td>\n",
       "    </tr>\n",
       "    <tr>\n",
       "      <th>...</th>\n",
       "      <td>...</td>\n",
       "      <td>...</td>\n",
       "      <td>...</td>\n",
       "      <td>...</td>\n",
       "      <td>...</td>\n",
       "      <td>...</td>\n",
       "      <td>...</td>\n",
       "      <td>...</td>\n",
       "      <td>...</td>\n",
       "      <td>...</td>\n",
       "      <td>...</td>\n",
       "      <td>...</td>\n",
       "      <td>...</td>\n",
       "      <td>...</td>\n",
       "    </tr>\n",
       "    <tr>\n",
       "      <th>49995</th>\n",
       "      <td>69.836624</td>\n",
       "      <td>1196.787302</td>\n",
       "      <td>60</td>\n",
       "      <td>30</td>\n",
       "      <td>30</td>\n",
       "      <td>[8.378911439114754 68.63928517079158 163.71290...</td>\n",
       "      <td>[0.0 0.0 0.0 0.0 0.0 0.0 0.0 0.0 0.0 0.0 0.0 0...</td>\n",
       "      <td>[0.0 0.0 0.0 0.0 0.0 0.0 0.0 0.0 0.0 0.0 0.0 0...</td>\n",
       "      <td>[-959.0 -944.5 -930.0 -915.5 -901.0 -886.5 -87...</td>\n",
       "      <td>[500.0 500.0 500.0 500.0 500.0 500.0 500.0 500...</td>\n",
       "      <td>[500.0 500.0 500.0 500.0 500.0 500.0 500.0 500...</td>\n",
       "      <td>[2.0 2.0 2.0 2.0 2.0 2.0 2.0 2.0 2.0 2.0 10.0 ...</td>\n",
       "      <td>[1 3 5 7 9 11 13 15 17 19 21 23 25 27 29 31 33...</td>\n",
       "      <td>[0 1 2 3 4 5 6 7 8 9 10 11 12 13 14 15 16 17 1...</td>\n",
       "    </tr>\n",
       "    <tr>\n",
       "      <th>49996</th>\n",
       "      <td>49.262183</td>\n",
       "      <td>899.221064</td>\n",
       "      <td>60</td>\n",
       "      <td>30</td>\n",
       "      <td>30</td>\n",
       "      <td>[5.9343545506456135 88.0122984160443 171.77617...</td>\n",
       "      <td>[0.0 0.0 0.0 0.0 0.0 0.0 0.0 0.0 0.0 0.0 0.0 0...</td>\n",
       "      <td>[0.0 0.0 0.0 0.0 0.0 0.0 0.0 0.0 0.0 0.0 0.0 0...</td>\n",
       "      <td>[-959.0 -944.5 -930.0 -915.5 -901.0 -886.5 -87...</td>\n",
       "      <td>[500.0 500.0 500.0 500.0 500.0 500.0 500.0 500...</td>\n",
       "      <td>[500.0 500.0 500.0 500.0 500.0 500.0 500.0 500...</td>\n",
       "      <td>[2.0 2.0 2.0 2.0 2.0 2.0 2.0 2.0 2.0 2.0 10.0 ...</td>\n",
       "      <td>[1 3 5 7 9 11 13 15 17 19 21 23 25 27 29 31 33...</td>\n",
       "      <td>[0 1 2 3 4 5 6 7 8 9 10 11 12 13 14 15 16 17 1...</td>\n",
       "    </tr>\n",
       "    <tr>\n",
       "      <th>49997</th>\n",
       "      <td>40.376179</td>\n",
       "      <td>748.010913</td>\n",
       "      <td>60</td>\n",
       "      <td>30</td>\n",
       "      <td>30</td>\n",
       "      <td>[4.896817243854455 47.42349569055637 191.15347...</td>\n",
       "      <td>[0.0 0.0 0.0 0.0 0.0 0.0 0.0 0.0 0.0 0.0 0.0 0...</td>\n",
       "      <td>[0.0 0.0 0.0 0.0 0.0 0.0 0.0 0.0 0.0 0.0 0.0 0...</td>\n",
       "      <td>[-959.0 -944.5 -930.0 -915.5 -901.0 -886.5 -87...</td>\n",
       "      <td>[500.0 500.0 500.0 500.0 500.0 500.0 500.0 500...</td>\n",
       "      <td>[500.0 500.0 500.0 500.0 500.0 500.0 500.0 500...</td>\n",
       "      <td>[2.0 2.0 2.0 2.0 2.0 2.0 2.0 2.0 2.0 2.0 10.0 ...</td>\n",
       "      <td>[1 3 5 7 9 11 13 15 17 19 21 23 25 27 29 31 33...</td>\n",
       "      <td>[0 1 2 3 4 5 6 7 8 9 10 11 12 13 14 15 16 17 1...</td>\n",
       "    </tr>\n",
       "    <tr>\n",
       "      <th>49998</th>\n",
       "      <td>76.419780</td>\n",
       "      <td>1404.843462</td>\n",
       "      <td>60</td>\n",
       "      <td>30</td>\n",
       "      <td>30</td>\n",
       "      <td>[43.320151996299714 187.41426016500407 363.180...</td>\n",
       "      <td>[0.0 0.0 0.0 0.0 0.0 0.0 0.0 0.0 0.0 0.0 0.0 0...</td>\n",
       "      <td>[0.0 0.0 0.0 0.0 0.0 0.0 0.0 0.0 0.0 0.0 0.0 0...</td>\n",
       "      <td>[-959.0 -944.5 -930.0 -915.5 -901.0 -886.5 -87...</td>\n",
       "      <td>[500.0 500.0 500.0 500.0 500.0 500.0 500.0 500...</td>\n",
       "      <td>[500.0 500.0 500.0 500.0 500.0 500.0 500.0 500...</td>\n",
       "      <td>[2.0 2.0 2.0 2.0 2.0 2.0 2.0 2.0 2.0 2.0 10.0 ...</td>\n",
       "      <td>[1 3 5 7 9 11 13 15 17 19 21 23 25 27 29 31 33...</td>\n",
       "      <td>[0 1 2 3 4 5 6 7 8 9 10 11 12 13 14 15 16 17 1...</td>\n",
       "    </tr>\n",
       "    <tr>\n",
       "      <th>49999</th>\n",
       "      <td>65.996088</td>\n",
       "      <td>1115.669754</td>\n",
       "      <td>60</td>\n",
       "      <td>30</td>\n",
       "      <td>30</td>\n",
       "      <td>[0.001252729704219746 6.2753925238140935 52.19...</td>\n",
       "      <td>[0.0 0.0 0.0 0.0 0.0 0.0 0.0 0.0 0.0 0.0 0.0 0...</td>\n",
       "      <td>[0.0 0.0 0.0 0.0 0.0 0.0 0.0 0.0 0.0 0.0 0.0 0...</td>\n",
       "      <td>[-959.0 -944.5 -930.0 -915.5 -901.0 -886.5 -87...</td>\n",
       "      <td>[500.0 500.0 500.0 500.0 500.0 500.0 500.0 500...</td>\n",
       "      <td>[500.0 500.0 500.0 500.0 500.0 500.0 500.0 500...</td>\n",
       "      <td>[2.0 2.0 2.0 2.0 2.0 2.0 2.0 2.0 2.0 2.0 10.0 ...</td>\n",
       "      <td>[1 3 5 7 9 11 13 15 17 19 21 23 25 27 29 31 33...</td>\n",
       "      <td>[0 1 2 3 4 5 6 7 8 9 10 11 12 13 14 15 16 17 1...</td>\n",
       "    </tr>\n",
       "  </tbody>\n",
       "</table>\n",
       "<p>50000 rows × 14 columns</p>\n",
       "</div>"
      ],
      "text/plain": [
       "       true_energy  total_dep_energy  N_layers  N_active_layers  N_sensors  \\\n",
       "0        76.636498       1381.468508        60               30         30   \n",
       "1        99.035305       1786.021181        60               30         30   \n",
       "2        28.956386        519.516692        60               30         30   \n",
       "3        96.554431       1775.567918        60               30         30   \n",
       "4        28.564323        510.078878        60               30         30   \n",
       "...            ...               ...       ...              ...        ...   \n",
       "49995    69.836624       1196.787302        60               30         30   \n",
       "49996    49.262183        899.221064        60               30         30   \n",
       "49997    40.376179        748.010913        60               30         30   \n",
       "49998    76.419780       1404.843462        60               30         30   \n",
       "49999    65.996088       1115.669754        60               30         30   \n",
       "\n",
       "                                           sensor_energy  \\\n",
       "0      [22.60732568803541 153.3075740652412 178.30846...   \n",
       "1      [42.168713189169836 136.6696389212461 299.4323...   \n",
       "2      [2.064107155237872 41.1083321806994 84.5675147...   \n",
       "3      [31.132204727159785 174.81585441405153 343.603...   \n",
       "4      [0.09667021637053028 5.150795863056042 14.0271...   \n",
       "...                                                  ...   \n",
       "49995  [8.378911439114754 68.63928517079158 163.71290...   \n",
       "49996  [5.9343545506456135 88.0122984160443 171.77617...   \n",
       "49997  [4.896817243854455 47.42349569055637 191.15347...   \n",
       "49998  [43.320151996299714 187.41426016500407 363.180...   \n",
       "49999  [0.001252729704219746 6.2753925238140935 52.19...   \n",
       "\n",
       "                                                sensor_x  \\\n",
       "0      [0.0 0.0 0.0 0.0 0.0 0.0 0.0 0.0 0.0 0.0 0.0 0...   \n",
       "1      [0.0 0.0 0.0 0.0 0.0 0.0 0.0 0.0 0.0 0.0 0.0 0...   \n",
       "2      [0.0 0.0 0.0 0.0 0.0 0.0 0.0 0.0 0.0 0.0 0.0 0...   \n",
       "3      [0.0 0.0 0.0 0.0 0.0 0.0 0.0 0.0 0.0 0.0 0.0 0...   \n",
       "4      [0.0 0.0 0.0 0.0 0.0 0.0 0.0 0.0 0.0 0.0 0.0 0...   \n",
       "...                                                  ...   \n",
       "49995  [0.0 0.0 0.0 0.0 0.0 0.0 0.0 0.0 0.0 0.0 0.0 0...   \n",
       "49996  [0.0 0.0 0.0 0.0 0.0 0.0 0.0 0.0 0.0 0.0 0.0 0...   \n",
       "49997  [0.0 0.0 0.0 0.0 0.0 0.0 0.0 0.0 0.0 0.0 0.0 0...   \n",
       "49998  [0.0 0.0 0.0 0.0 0.0 0.0 0.0 0.0 0.0 0.0 0.0 0...   \n",
       "49999  [0.0 0.0 0.0 0.0 0.0 0.0 0.0 0.0 0.0 0.0 0.0 0...   \n",
       "\n",
       "                                                sensor_y  \\\n",
       "0      [0.0 0.0 0.0 0.0 0.0 0.0 0.0 0.0 0.0 0.0 0.0 0...   \n",
       "1      [0.0 0.0 0.0 0.0 0.0 0.0 0.0 0.0 0.0 0.0 0.0 0...   \n",
       "2      [0.0 0.0 0.0 0.0 0.0 0.0 0.0 0.0 0.0 0.0 0.0 0...   \n",
       "3      [0.0 0.0 0.0 0.0 0.0 0.0 0.0 0.0 0.0 0.0 0.0 0...   \n",
       "4      [0.0 0.0 0.0 0.0 0.0 0.0 0.0 0.0 0.0 0.0 0.0 0...   \n",
       "...                                                  ...   \n",
       "49995  [0.0 0.0 0.0 0.0 0.0 0.0 0.0 0.0 0.0 0.0 0.0 0...   \n",
       "49996  [0.0 0.0 0.0 0.0 0.0 0.0 0.0 0.0 0.0 0.0 0.0 0...   \n",
       "49997  [0.0 0.0 0.0 0.0 0.0 0.0 0.0 0.0 0.0 0.0 0.0 0...   \n",
       "49998  [0.0 0.0 0.0 0.0 0.0 0.0 0.0 0.0 0.0 0.0 0.0 0...   \n",
       "49999  [0.0 0.0 0.0 0.0 0.0 0.0 0.0 0.0 0.0 0.0 0.0 0...   \n",
       "\n",
       "                                                sensor_z  \\\n",
       "0      [-959.0 -944.5 -930.0 -915.5 -901.0 -886.5 -87...   \n",
       "1      [-959.0 -944.5 -930.0 -915.5 -901.0 -886.5 -87...   \n",
       "2      [-959.0 -944.5 -930.0 -915.5 -901.0 -886.5 -87...   \n",
       "3      [-959.0 -944.5 -930.0 -915.5 -901.0 -886.5 -87...   \n",
       "4      [-959.0 -944.5 -930.0 -915.5 -901.0 -886.5 -87...   \n",
       "...                                                  ...   \n",
       "49995  [-959.0 -944.5 -930.0 -915.5 -901.0 -886.5 -87...   \n",
       "49996  [-959.0 -944.5 -930.0 -915.5 -901.0 -886.5 -87...   \n",
       "49997  [-959.0 -944.5 -930.0 -915.5 -901.0 -886.5 -87...   \n",
       "49998  [-959.0 -944.5 -930.0 -915.5 -901.0 -886.5 -87...   \n",
       "49999  [-959.0 -944.5 -930.0 -915.5 -901.0 -886.5 -87...   \n",
       "\n",
       "                                               sensor_dx  \\\n",
       "0      [500.0 500.0 500.0 500.0 500.0 500.0 500.0 500...   \n",
       "1      [500.0 500.0 500.0 500.0 500.0 500.0 500.0 500...   \n",
       "2      [500.0 500.0 500.0 500.0 500.0 500.0 500.0 500...   \n",
       "3      [500.0 500.0 500.0 500.0 500.0 500.0 500.0 500...   \n",
       "4      [500.0 500.0 500.0 500.0 500.0 500.0 500.0 500...   \n",
       "...                                                  ...   \n",
       "49995  [500.0 500.0 500.0 500.0 500.0 500.0 500.0 500...   \n",
       "49996  [500.0 500.0 500.0 500.0 500.0 500.0 500.0 500...   \n",
       "49997  [500.0 500.0 500.0 500.0 500.0 500.0 500.0 500...   \n",
       "49998  [500.0 500.0 500.0 500.0 500.0 500.0 500.0 500...   \n",
       "49999  [500.0 500.0 500.0 500.0 500.0 500.0 500.0 500...   \n",
       "\n",
       "                                               sensor_dy  \\\n",
       "0      [500.0 500.0 500.0 500.0 500.0 500.0 500.0 500...   \n",
       "1      [500.0 500.0 500.0 500.0 500.0 500.0 500.0 500...   \n",
       "2      [500.0 500.0 500.0 500.0 500.0 500.0 500.0 500...   \n",
       "3      [500.0 500.0 500.0 500.0 500.0 500.0 500.0 500...   \n",
       "4      [500.0 500.0 500.0 500.0 500.0 500.0 500.0 500...   \n",
       "...                                                  ...   \n",
       "49995  [500.0 500.0 500.0 500.0 500.0 500.0 500.0 500...   \n",
       "49996  [500.0 500.0 500.0 500.0 500.0 500.0 500.0 500...   \n",
       "49997  [500.0 500.0 500.0 500.0 500.0 500.0 500.0 500...   \n",
       "49998  [500.0 500.0 500.0 500.0 500.0 500.0 500.0 500...   \n",
       "49999  [500.0 500.0 500.0 500.0 500.0 500.0 500.0 500...   \n",
       "\n",
       "                                               sensor_dz  \\\n",
       "0      [2.0 2.0 2.0 2.0 2.0 2.0 2.0 2.0 2.0 2.0 10.0 ...   \n",
       "1      [2.0 2.0 2.0 2.0 2.0 2.0 2.0 2.0 2.0 2.0 10.0 ...   \n",
       "2      [2.0 2.0 2.0 2.0 2.0 2.0 2.0 2.0 2.0 2.0 10.0 ...   \n",
       "3      [2.0 2.0 2.0 2.0 2.0 2.0 2.0 2.0 2.0 2.0 10.0 ...   \n",
       "4      [2.0 2.0 2.0 2.0 2.0 2.0 2.0 2.0 2.0 2.0 10.0 ...   \n",
       "...                                                  ...   \n",
       "49995  [2.0 2.0 2.0 2.0 2.0 2.0 2.0 2.0 2.0 2.0 10.0 ...   \n",
       "49996  [2.0 2.0 2.0 2.0 2.0 2.0 2.0 2.0 2.0 2.0 10.0 ...   \n",
       "49997  [2.0 2.0 2.0 2.0 2.0 2.0 2.0 2.0 2.0 2.0 10.0 ...   \n",
       "49998  [2.0 2.0 2.0 2.0 2.0 2.0 2.0 2.0 2.0 2.0 10.0 ...   \n",
       "49999  [2.0 2.0 2.0 2.0 2.0 2.0 2.0 2.0 2.0 2.0 10.0 ...   \n",
       "\n",
       "                                            sensor_layer  \\\n",
       "0      [1 3 5 7 9 11 13 15 17 19 21 23 25 27 29 31 33...   \n",
       "1      [1 3 5 7 9 11 13 15 17 19 21 23 25 27 29 31 33...   \n",
       "2      [1 3 5 7 9 11 13 15 17 19 21 23 25 27 29 31 33...   \n",
       "3      [1 3 5 7 9 11 13 15 17 19 21 23 25 27 29 31 33...   \n",
       "4      [1 3 5 7 9 11 13 15 17 19 21 23 25 27 29 31 33...   \n",
       "...                                                  ...   \n",
       "49995  [1 3 5 7 9 11 13 15 17 19 21 23 25 27 29 31 33...   \n",
       "49996  [1 3 5 7 9 11 13 15 17 19 21 23 25 27 29 31 33...   \n",
       "49997  [1 3 5 7 9 11 13 15 17 19 21 23 25 27 29 31 33...   \n",
       "49998  [1 3 5 7 9 11 13 15 17 19 21 23 25 27 29 31 33...   \n",
       "49999  [1 3 5 7 9 11 13 15 17 19 21 23 25 27 29 31 33...   \n",
       "\n",
       "                                      sensor_copy_number  \n",
       "0      [0 1 2 3 4 5 6 7 8 9 10 11 12 13 14 15 16 17 1...  \n",
       "1      [0 1 2 3 4 5 6 7 8 9 10 11 12 13 14 15 16 17 1...  \n",
       "2      [0 1 2 3 4 5 6 7 8 9 10 11 12 13 14 15 16 17 1...  \n",
       "3      [0 1 2 3 4 5 6 7 8 9 10 11 12 13 14 15 16 17 1...  \n",
       "4      [0 1 2 3 4 5 6 7 8 9 10 11 12 13 14 15 16 17 1...  \n",
       "...                                                  ...  \n",
       "49995  [0 1 2 3 4 5 6 7 8 9 10 11 12 13 14 15 16 17 1...  \n",
       "49996  [0 1 2 3 4 5 6 7 8 9 10 11 12 13 14 15 16 17 1...  \n",
       "49997  [0 1 2 3 4 5 6 7 8 9 10 11 12 13 14 15 16 17 1...  \n",
       "49998  [0 1 2 3 4 5 6 7 8 9 10 11 12 13 14 15 16 17 1...  \n",
       "49999  [0 1 2 3 4 5 6 7 8 9 10 11 12 13 14 15 16 17 1...  \n",
       "\n",
       "[50000 rows x 14 columns]"
      ]
     },
     "execution_count": 5,
     "metadata": {},
     "output_type": "execute_result"
    }
   ],
   "source": [
    "df"
   ]
  },
  {
   "cell_type": "code",
   "execution_count": 91,
   "id": "72b494de-889c-4500-9a8a-65423a8a3dbb",
   "metadata": {},
   "outputs": [
    {
     "data": {
      "text/plain": [
       "30"
      ]
     },
     "execution_count": 91,
     "metadata": {},
     "output_type": "execute_result"
    }
   ],
   "source": [
    "min(df['N_active_layers'])"
   ]
  },
  {
   "cell_type": "code",
   "execution_count": 92,
   "id": "fae7bb3f-6704-465a-802d-aafc29eed597",
   "metadata": {},
   "outputs": [
    {
     "data": {
      "text/plain": [
       "50000"
      ]
     },
     "execution_count": 92,
     "metadata": {},
     "output_type": "execute_result"
    }
   ],
   "source": [
    "len(df)"
   ]
  },
  {
   "cell_type": "code",
   "execution_count": 93,
   "id": "e175eaf2-0763-4e5f-b885-64b05dc4ffc3",
   "metadata": {},
   "outputs": [],
   "source": [
    "df = df[['true_energy','total_dep_energy','sensor_energy']]"
   ]
  },
  {
   "cell_type": "code",
   "execution_count": 94,
   "id": "d71de8ff-4bf1-4c07-9098-b26708c79108",
   "metadata": {},
   "outputs": [
    {
     "data": {
      "image/png": "[encoded data removed]",
      "text/plain": [
       "<Figure size 640x480 with 1 Axes>"
      ]
     },
     "metadata": {},
     "output_type": "display_data"
    }
   ],
   "source": [
    "_ = plt.hist(df['true_energy'],bins=100)"
   ]
  },
  {
   "cell_type": "code",
   "execution_count": 95,
   "id": "984ce2d9-3519-4b80-a3aa-8dd253200e83",
   "metadata": {},
   "outputs": [
    {
     "data": {
      "image/png": "[encoded data removed]",
      "text/plain": [
       "<Figure size 640x480 with 1 Axes>"
      ]
     },
     "metadata": {},
     "output_type": "display_data"
    }
   ],
   "source": [
    "_ = plt.hist(df['total_dep_energy'],bins=100)"
   ]
  },
  {
   "cell_type": "code",
   "execution_count": 96,
   "id": "e79ae65b-1a24-4994-be33-d57704e5bace",
   "metadata": {},
   "outputs": [],
   "source": [
    "N_layers = 30\n",
    "sums = np.asarray([[sum(x[:i]) for x in df['sensor_energy']] for i in range(1,N_layers+1)])\n",
    "sum_col_names = [f'sum_{i}L' for i in range(1,N_layers+1)] \n",
    "df[sum_col_names] = sums.T"
   ]
  },
  {
   "cell_type": "code",
   "execution_count": 97,
   "id": "cdf8dc62-6c5e-434a-ad3d-cd3b12e60955",
   "metadata": {},
   "outputs": [
    {
     "data": {
      "image/png": "[encoded data removed]",
      "text/plain": [
       "<Figure size 640x480 with 36 Axes>"
      ]
     },
     "metadata": {},
     "output_type": "display_data"
    }
   ],
   "source": [
    "_ = df.hist(bins=100)"
   ]
  },
  {
   "cell_type": "code",
   "execution_count": 76,
   "id": "51cecc72-d3cd-4d11-9c57-069825c30a49",
   "metadata": {},
   "outputs": [
    {
     "data": {
      "text/html": [
       "<div>\n",
       "<style scoped>\n",
       "    .dataframe tbody tr th:only-of-type {\n",
       "        vertical-align: middle;\n",
       "    }\n",
       "\n",
       "    .dataframe tbody tr th {\n",
       "        vertical-align: top;\n",
       "    }\n",
       "\n",
       "    .dataframe thead th {\n",
       "        text-align: right;\n",
       "    }\n",
       "</style>\n",
       "<table border=\"1\" class=\"dataframe\">\n",
       "  <thead>\n",
       "    <tr style=\"text-align: right;\">\n",
       "      <th></th>\n",
       "      <th>true_energy</th>\n",
       "      <th>total_dep_energy</th>\n",
       "      <th>sum_1L</th>\n",
       "      <th>sum_2L</th>\n",
       "      <th>sum_3L</th>\n",
       "      <th>sum_4L</th>\n",
       "      <th>sum_5L</th>\n",
       "      <th>sum_6L</th>\n",
       "      <th>sum_7L</th>\n",
       "      <th>sum_8L</th>\n",
       "      <th>...</th>\n",
       "      <th>sum_21L</th>\n",
       "      <th>sum_22L</th>\n",
       "      <th>sum_23L</th>\n",
       "      <th>sum_24L</th>\n",
       "      <th>sum_25L</th>\n",
       "      <th>sum_26L</th>\n",
       "      <th>sum_27L</th>\n",
       "      <th>sum_28L</th>\n",
       "      <th>sum_29L</th>\n",
       "      <th>sum_30L</th>\n",
       "    </tr>\n",
       "  </thead>\n",
       "  <tbody>\n",
       "    <tr>\n",
       "      <th>0</th>\n",
       "      <td>23.639745</td>\n",
       "      <td>539.739999</td>\n",
       "      <td>1.487555</td>\n",
       "      <td>14.236058</td>\n",
       "      <td>49.995042</td>\n",
       "      <td>104.940587</td>\n",
       "      <td>176.195525</td>\n",
       "      <td>239.766770</td>\n",
       "      <td>288.017408</td>\n",
       "      <td>337.008065</td>\n",
       "      <td>...</td>\n",
       "      <td>539.739999</td>\n",
       "      <td>539.739999</td>\n",
       "      <td>539.739999</td>\n",
       "      <td>539.739999</td>\n",
       "      <td>539.739999</td>\n",
       "      <td>539.739999</td>\n",
       "      <td>539.739999</td>\n",
       "      <td>539.739999</td>\n",
       "      <td>539.739999</td>\n",
       "      <td>539.739999</td>\n",
       "    </tr>\n",
       "    <tr>\n",
       "      <th>1</th>\n",
       "      <td>17.033645</td>\n",
       "      <td>496.503126</td>\n",
       "      <td>7.484470</td>\n",
       "      <td>15.600043</td>\n",
       "      <td>72.086635</td>\n",
       "      <td>119.729317</td>\n",
       "      <td>142.070170</td>\n",
       "      <td>163.159945</td>\n",
       "      <td>172.108279</td>\n",
       "      <td>183.186955</td>\n",
       "      <td>...</td>\n",
       "      <td>496.217244</td>\n",
       "      <td>496.503126</td>\n",
       "      <td>496.503126</td>\n",
       "      <td>496.503126</td>\n",
       "      <td>496.503126</td>\n",
       "      <td>496.503126</td>\n",
       "      <td>496.503126</td>\n",
       "      <td>496.503126</td>\n",
       "      <td>496.503126</td>\n",
       "      <td>496.503126</td>\n",
       "    </tr>\n",
       "    <tr>\n",
       "      <th>2</th>\n",
       "      <td>54.456665</td>\n",
       "      <td>1022.636447</td>\n",
       "      <td>0.175703</td>\n",
       "      <td>0.630826</td>\n",
       "      <td>1.714673</td>\n",
       "      <td>3.435473</td>\n",
       "      <td>8.167798</td>\n",
       "      <td>10.128951</td>\n",
       "      <td>12.619560</td>\n",
       "      <td>17.396454</td>\n",
       "      <td>...</td>\n",
       "      <td>1019.987904</td>\n",
       "      <td>1021.024025</td>\n",
       "      <td>1022.410328</td>\n",
       "      <td>1022.457704</td>\n",
       "      <td>1022.566691</td>\n",
       "      <td>1022.636447</td>\n",
       "      <td>1022.636447</td>\n",
       "      <td>1022.636447</td>\n",
       "      <td>1022.636447</td>\n",
       "      <td>1022.636447</td>\n",
       "    </tr>\n",
       "    <tr>\n",
       "      <th>3</th>\n",
       "      <td>21.413131</td>\n",
       "      <td>402.361337</td>\n",
       "      <td>0.000411</td>\n",
       "      <td>0.638091</td>\n",
       "      <td>0.638105</td>\n",
       "      <td>0.638163</td>\n",
       "      <td>0.829317</td>\n",
       "      <td>0.830100</td>\n",
       "      <td>1.265187</td>\n",
       "      <td>1.541575</td>\n",
       "      <td>...</td>\n",
       "      <td>401.684114</td>\n",
       "      <td>402.325639</td>\n",
       "      <td>402.360131</td>\n",
       "      <td>402.361337</td>\n",
       "      <td>402.361337</td>\n",
       "      <td>402.361337</td>\n",
       "      <td>402.361337</td>\n",
       "      <td>402.361337</td>\n",
       "      <td>402.361337</td>\n",
       "      <td>402.361337</td>\n",
       "    </tr>\n",
       "    <tr>\n",
       "      <th>4</th>\n",
       "      <td>147.576553</td>\n",
       "      <td>2374.858667</td>\n",
       "      <td>31.449769</td>\n",
       "      <td>44.941765</td>\n",
       "      <td>62.190159</td>\n",
       "      <td>104.227702</td>\n",
       "      <td>167.543216</td>\n",
       "      <td>343.576407</td>\n",
       "      <td>609.184930</td>\n",
       "      <td>925.070214</td>\n",
       "      <td>...</td>\n",
       "      <td>2374.858667</td>\n",
       "      <td>2374.858667</td>\n",
       "      <td>2374.858667</td>\n",
       "      <td>2374.858667</td>\n",
       "      <td>2374.858667</td>\n",
       "      <td>2374.858667</td>\n",
       "      <td>2374.858667</td>\n",
       "      <td>2374.858667</td>\n",
       "      <td>2374.858667</td>\n",
       "      <td>2374.858667</td>\n",
       "    </tr>\n",
       "    <tr>\n",
       "      <th>...</th>\n",
       "      <td>...</td>\n",
       "      <td>...</td>\n",
       "      <td>...</td>\n",
       "      <td>...</td>\n",
       "      <td>...</td>\n",
       "      <td>...</td>\n",
       "      <td>...</td>\n",
       "      <td>...</td>\n",
       "      <td>...</td>\n",
       "      <td>...</td>\n",
       "      <td>...</td>\n",
       "      <td>...</td>\n",
       "      <td>...</td>\n",
       "      <td>...</td>\n",
       "      <td>...</td>\n",
       "      <td>...</td>\n",
       "      <td>...</td>\n",
       "      <td>...</td>\n",
       "      <td>...</td>\n",
       "      <td>...</td>\n",
       "      <td>...</td>\n",
       "    </tr>\n",
       "    <tr>\n",
       "      <th>29995</th>\n",
       "      <td>2.472521</td>\n",
       "      <td>39.215800</td>\n",
       "      <td>0.000000</td>\n",
       "      <td>0.000000</td>\n",
       "      <td>0.000000</td>\n",
       "      <td>0.000000</td>\n",
       "      <td>0.000000</td>\n",
       "      <td>0.000000</td>\n",
       "      <td>0.000000</td>\n",
       "      <td>0.000000</td>\n",
       "      <td>...</td>\n",
       "      <td>39.146223</td>\n",
       "      <td>39.215800</td>\n",
       "      <td>39.215800</td>\n",
       "      <td>39.215800</td>\n",
       "      <td>39.215800</td>\n",
       "      <td>39.215800</td>\n",
       "      <td>39.215800</td>\n",
       "      <td>39.215800</td>\n",
       "      <td>39.215800</td>\n",
       "      <td>39.215800</td>\n",
       "    </tr>\n",
       "    <tr>\n",
       "      <th>29996</th>\n",
       "      <td>16.261656</td>\n",
       "      <td>302.008870</td>\n",
       "      <td>27.929601</td>\n",
       "      <td>70.710905</td>\n",
       "      <td>113.050648</td>\n",
       "      <td>137.423350</td>\n",
       "      <td>156.296333</td>\n",
       "      <td>173.864570</td>\n",
       "      <td>191.941952</td>\n",
       "      <td>203.125095</td>\n",
       "      <td>...</td>\n",
       "      <td>302.008870</td>\n",
       "      <td>302.008870</td>\n",
       "      <td>302.008870</td>\n",
       "      <td>302.008870</td>\n",
       "      <td>302.008870</td>\n",
       "      <td>302.008870</td>\n",
       "      <td>302.008870</td>\n",
       "      <td>302.008870</td>\n",
       "      <td>302.008870</td>\n",
       "      <td>302.008870</td>\n",
       "    </tr>\n",
       "    <tr>\n",
       "      <th>29997</th>\n",
       "      <td>75.843001</td>\n",
       "      <td>1436.314438</td>\n",
       "      <td>18.318550</td>\n",
       "      <td>88.604089</td>\n",
       "      <td>216.790758</td>\n",
       "      <td>384.412207</td>\n",
       "      <td>507.520240</td>\n",
       "      <td>631.600283</td>\n",
       "      <td>767.214739</td>\n",
       "      <td>846.048806</td>\n",
       "      <td>...</td>\n",
       "      <td>1436.314438</td>\n",
       "      <td>1436.314438</td>\n",
       "      <td>1436.314438</td>\n",
       "      <td>1436.314438</td>\n",
       "      <td>1436.314438</td>\n",
       "      <td>1436.314438</td>\n",
       "      <td>1436.314438</td>\n",
       "      <td>1436.314438</td>\n",
       "      <td>1436.314438</td>\n",
       "      <td>1436.314438</td>\n",
       "    </tr>\n",
       "    <tr>\n",
       "      <th>29998</th>\n",
       "      <td>111.381858</td>\n",
       "      <td>2222.370397</td>\n",
       "      <td>1.827231</td>\n",
       "      <td>2.614736</td>\n",
       "      <td>3.936394</td>\n",
       "      <td>4.268987</td>\n",
       "      <td>4.804163</td>\n",
       "      <td>5.566266</td>\n",
       "      <td>6.739742</td>\n",
       "      <td>7.482239</td>\n",
       "      <td>...</td>\n",
       "      <td>1910.477765</td>\n",
       "      <td>1954.270832</td>\n",
       "      <td>2002.197466</td>\n",
       "      <td>2069.126102</td>\n",
       "      <td>2121.457180</td>\n",
       "      <td>2159.601448</td>\n",
       "      <td>2215.803220</td>\n",
       "      <td>2219.206848</td>\n",
       "      <td>2222.177765</td>\n",
       "      <td>2222.370397</td>\n",
       "    </tr>\n",
       "    <tr>\n",
       "      <th>29999</th>\n",
       "      <td>99.464226</td>\n",
       "      <td>1815.092002</td>\n",
       "      <td>3.925892</td>\n",
       "      <td>5.098960</td>\n",
       "      <td>10.938612</td>\n",
       "      <td>40.534084</td>\n",
       "      <td>151.686370</td>\n",
       "      <td>353.183549</td>\n",
       "      <td>487.945478</td>\n",
       "      <td>599.267695</td>\n",
       "      <td>...</td>\n",
       "      <td>1798.383631</td>\n",
       "      <td>1814.854887</td>\n",
       "      <td>1815.091009</td>\n",
       "      <td>1815.092002</td>\n",
       "      <td>1815.092002</td>\n",
       "      <td>1815.092002</td>\n",
       "      <td>1815.092002</td>\n",
       "      <td>1815.092002</td>\n",
       "      <td>1815.092002</td>\n",
       "      <td>1815.092002</td>\n",
       "    </tr>\n",
       "  </tbody>\n",
       "</table>\n",
       "<p>30000 rows × 32 columns</p>\n",
       "</div>"
      ],
      "text/plain": [
       "       true_energy  total_dep_energy     sum_1L     sum_2L      sum_3L  \\\n",
       "0        23.639745        539.739999   1.487555  14.236058   49.995042   \n",
       "1        17.033645        496.503126   7.484470  15.600043   72.086635   \n",
       "2        54.456665       1022.636447   0.175703   0.630826    1.714673   \n",
       "3        21.413131        402.361337   0.000411   0.638091    0.638105   \n",
       "4       147.576553       2374.858667  31.449769  44.941765   62.190159   \n",
       "...            ...               ...        ...        ...         ...   \n",
       "29995     2.472521         39.215800   0.000000   0.000000    0.000000   \n",
       "29996    16.261656        302.008870  27.929601  70.710905  113.050648   \n",
       "29997    75.843001       1436.314438  18.318550  88.604089  216.790758   \n",
       "29998   111.381858       2222.370397   1.827231   2.614736    3.936394   \n",
       "29999    99.464226       1815.092002   3.925892   5.098960   10.938612   \n",
       "\n",
       "           sum_4L      sum_5L      sum_6L      sum_7L      sum_8L  ...  \\\n",
       "0      104.940587  176.195525  239.766770  288.017408  337.008065  ...   \n",
       "1      119.729317  142.070170  163.159945  172.108279  183.186955  ...   \n",
       "2        3.435473    8.167798   10.128951   12.619560   17.396454  ...   \n",
       "3        0.638163    0.829317    0.830100    1.265187    1.541575  ...   \n",
       "4      104.227702  167.543216  343.576407  609.184930  925.070214  ...   \n",
       "...           ...         ...         ...         ...         ...  ...   \n",
       "29995    0.000000    0.000000    0.000000    0.000000    0.000000  ...   \n",
       "29996  137.423350  156.296333  173.864570  191.941952  203.125095  ...   \n",
       "29997  384.412207  507.520240  631.600283  767.214739  846.048806  ...   \n",
       "29998    4.268987    4.804163    5.566266    6.739742    7.482239  ...   \n",
       "29999   40.534084  151.686370  353.183549  487.945478  599.267695  ...   \n",
       "\n",
       "           sum_21L      sum_22L      sum_23L      sum_24L      sum_25L  \\\n",
       "0       539.739999   539.739999   539.739999   539.739999   539.739999   \n",
       "1       496.217244   496.503126   496.503126   496.503126   496.503126   \n",
       "2      1019.987904  1021.024025  1022.410328  1022.457704  1022.566691   \n",
       "3       401.684114   402.325639   402.360131   402.361337   402.361337   \n",
       "4      2374.858667  2374.858667  2374.858667  2374.858667  2374.858667   \n",
       "...            ...          ...          ...          ...          ...   \n",
       "29995    39.146223    39.215800    39.215800    39.215800    39.215800   \n",
       "29996   302.008870   302.008870   302.008870   302.008870   302.008870   \n",
       "29997  1436.314438  1436.314438  1436.314438  1436.314438  1436.314438   \n",
       "29998  1910.477765  1954.270832  2002.197466  2069.126102  2121.457180   \n",
       "29999  1798.383631  1814.854887  1815.091009  1815.092002  1815.092002   \n",
       "\n",
       "           sum_26L      sum_27L      sum_28L      sum_29L      sum_30L  \n",
       "0       539.739999   539.739999   539.739999   539.739999   539.739999  \n",
       "1       496.503126   496.503126   496.503126   496.503126   496.503126  \n",
       "2      1022.636447  1022.636447  1022.636447  1022.636447  1022.636447  \n",
       "3       402.361337   402.361337   402.361337   402.361337   402.361337  \n",
       "4      2374.858667  2374.858667  2374.858667  2374.858667  2374.858667  \n",
       "...            ...          ...          ...          ...          ...  \n",
       "29995    39.215800    39.215800    39.215800    39.215800    39.215800  \n",
       "29996   302.008870   302.008870   302.008870   302.008870   302.008870  \n",
       "29997  1436.314438  1436.314438  1436.314438  1436.314438  1436.314438  \n",
       "29998  2159.601448  2215.803220  2219.206848  2222.177765  2222.370397  \n",
       "29999  1815.092002  1815.092002  1815.092002  1815.092002  1815.092002  \n",
       "\n",
       "[30000 rows x 32 columns]"
      ]
     },
     "execution_count": 76,
     "metadata": {},
     "output_type": "execute_result"
    }
   ],
   "source": [
    "df.drop(['sensor_energy'],axis=1)"
   ]
  },
  {
   "cell_type": "code",
   "execution_count": 79,
   "id": "3177c967-1215-418c-b42d-e983db7dc77d",
   "metadata": {},
   "outputs": [
    {
     "name": "stderr",
     "output_type": "stream",
     "text": [
      "/tmp/kiwoznia/ipykernel_2886599/1731750207.py:1: FutureWarning: <class 'awkward_pandas.array.AwkwardExtensionArray'>._reduce will require a `keepdims` parameter in the future\n",
      "  df=(df-df.min())/(df.max()-df.min())\n"
     ]
    }
   ],
   "source": [
    "df=(df-df.min())/(df.max()-df.min())"
   ]
  },
  {
   "cell_type": "code",
   "execution_count": 80,
   "id": "798d1ae0-5646-492a-91bb-d575a994c079",
   "metadata": {},
   "outputs": [
    {
     "data": {
      "image/png": "[encoded data removed]",
      "text/plain": [
       "<Figure size 640x480 with 36 Axes>"
      ]
     },
     "metadata": {},
     "output_type": "display_data"
    }
   ],
   "source": [
    "_ = df.hist(bins=100)"
   ]
  },
  {
   "cell_type": "code",
   "execution_count": 81,
   "id": "92d9c0a4-83a5-4eba-a401-bbba4772808b",
   "metadata": {},
   "outputs": [
    {
     "name": "stderr",
     "output_type": "stream",
     "text": [
      "/tmp/kiwoznia/ipykernel_2886599/3698961737.py:1: FutureWarning: <class 'awkward_pandas.array.AwkwardExtensionArray'>._reduce will require a `keepdims` parameter in the future\n",
      "  df.mean()\n"
     ]
    },
    {
     "data": {
      "text/plain": [
       "true_energy         0.499343\n",
       "total_dep_energy    0.397029\n",
       "sensor_energy       0.032805\n",
       "sum_1L              0.022347\n",
       "sum_2L              0.042013\n",
       "sum_3L              0.047120\n",
       "sum_4L              0.053391\n",
       "sum_5L              0.063926\n",
       "sum_6L              0.077170\n",
       "sum_7L              0.090623\n",
       "sum_8L              0.105125\n",
       "sum_9L              0.115191\n",
       "sum_10L             0.126375\n",
       "sum_11L             0.173350\n",
       "sum_12L             0.210354\n",
       "sum_13L             0.250000\n",
       "sum_14L             0.273190\n",
       "sum_15L             0.297023\n",
       "sum_16L             0.319148\n",
       "sum_17L             0.335562\n",
       "sum_18L             0.350288\n",
       "sum_19L             0.362403\n",
       "sum_20L             0.371809\n",
       "sum_21L             0.378625\n",
       "sum_22L             0.383576\n",
       "sum_23L             0.387452\n",
       "sum_24L             0.390411\n",
       "sum_25L             0.392582\n",
       "sum_26L             0.394154\n",
       "sum_27L             0.395307\n",
       "sum_28L             0.396150\n",
       "sum_29L             0.396732\n",
       "sum_30L             0.397029\n",
       "dtype: float64"
      ]
     },
     "execution_count": 81,
     "metadata": {},
     "output_type": "execute_result"
    }
   ],
   "source": [
    "df.mean()"
   ]
  },
  {
   "cell_type": "code",
   "execution_count": 49,
   "id": "3496c4ef-efcd-4986-83a3-853bc8f9bc68",
   "metadata": {},
   "outputs": [],
   "source": [
    "ff = pd.DataFrame([(1, 2, [1, 2, 3, 4]),  \\\n",
    "                    (1, 2, [5, 6, 7, 8])], \\\n",
    "                    columns = ['a', 'b', 'c'])"
   ]
  },
  {
   "cell_type": "code",
   "execution_count": 50,
   "id": "2c599c5c-3716-44a4-b50d-638d24a38d3e",
   "metadata": {},
   "outputs": [
    {
     "data": {
      "text/plain": [
       "[[1, 2, 3, 4], [5, 6, 7, 8]]"
      ]
     },
     "execution_count": 50,
     "metadata": {},
     "output_type": "execute_result"
    }
   ],
   "source": [
    "ff['c'].to_list()"
   ]
  },
  {
   "cell_type": "code",
   "execution_count": 51,
   "id": "bc7b9a1a-99d9-4028-bc64-35173ce8903d",
   "metadata": {},
   "outputs": [
    {
     "data": {
      "text/html": [
       "<div>\n",
       "<style scoped>\n",
       "    .dataframe tbody tr th:only-of-type {\n",
       "        vertical-align: middle;\n",
       "    }\n",
       "\n",
       "    .dataframe tbody tr th {\n",
       "        vertical-align: top;\n",
       "    }\n",
       "\n",
       "    .dataframe thead th {\n",
       "        text-align: right;\n",
       "    }\n",
       "</style>\n",
       "<table border=\"1\" class=\"dataframe\">\n",
       "  <thead>\n",
       "    <tr style=\"text-align: right;\">\n",
       "      <th></th>\n",
       "      <th>a</th>\n",
       "      <th>b</th>\n",
       "      <th>c</th>\n",
       "    </tr>\n",
       "  </thead>\n",
       "  <tbody>\n",
       "    <tr>\n",
       "      <th>0</th>\n",
       "      <td>1</td>\n",
       "      <td>2</td>\n",
       "      <td>[1, 2, 3, 4]</td>\n",
       "    </tr>\n",
       "    <tr>\n",
       "      <th>1</th>\n",
       "      <td>1</td>\n",
       "      <td>2</td>\n",
       "      <td>[5, 6, 7, 8]</td>\n",
       "    </tr>\n",
       "  </tbody>\n",
       "</table>\n",
       "</div>"
      ],
      "text/plain": [
       "   a  b             c\n",
       "0  1  2  [1, 2, 3, 4]\n",
       "1  1  2  [5, 6, 7, 8]"
      ]
     },
     "execution_count": 51,
     "metadata": {},
     "output_type": "execute_result"
    }
   ],
   "source": [
    "ff"
   ]
  },
  {
   "cell_type": "code",
   "execution_count": 52,
   "id": "91fc0cc3-89b7-4e6a-8390-9971e3c4757d",
   "metadata": {},
   "outputs": [
    {
     "data": {
      "text/plain": [
       "[[1, 5], [3, 11], [6, 18], [10, 26]]"
      ]
     },
     "execution_count": 52,
     "metadata": {},
     "output_type": "execute_result"
    }
   ],
   "source": [
    "i = 2\n",
    "[[sum(x[:i]) for x in ff['c']] for i in range(1,5)]"
   ]
  },
  {
   "cell_type": "code",
   "execution_count": 53,
   "id": "8fa6734b-38b2-4f28-a4ed-3446ceebba8d",
   "metadata": {},
   "outputs": [],
   "source": [
    "sums = [[sum(x[:i]) for x in ff['c']] for i in range(1,5)]"
   ]
  },
  {
   "cell_type": "code",
   "execution_count": 54,
   "id": "3f6fc54b-00c2-43a7-9536-90d3fe04e5ab",
   "metadata": {},
   "outputs": [],
   "source": [
    "arr = np.asarray(sums)"
   ]
  },
  {
   "cell_type": "code",
   "execution_count": 55,
   "id": "6087ee0b-fa77-4b2e-8271-6670a2676f6e",
   "metadata": {},
   "outputs": [
    {
     "data": {
      "text/plain": [
       "(2, 4)"
      ]
     },
     "execution_count": 55,
     "metadata": {},
     "output_type": "execute_result"
    }
   ],
   "source": [
    "arr.T.shape"
   ]
  },
  {
   "cell_type": "code",
   "execution_count": 56,
   "id": "ae0f669a-9b4c-4c24-b8c1-fc3d59d9bc03",
   "metadata": {},
   "outputs": [],
   "source": [
    "ff[list('defg')] = arr.T"
   ]
  },
  {
   "cell_type": "code",
   "execution_count": 57,
   "id": "143cbb34-1fe9-41d8-8938-418cfc89950e",
   "metadata": {},
   "outputs": [
    {
     "data": {
      "text/html": [
       "<div>\n",
       "<style scoped>\n",
       "    .dataframe tbody tr th:only-of-type {\n",
       "        vertical-align: middle;\n",
       "    }\n",
       "\n",
       "    .dataframe tbody tr th {\n",
       "        vertical-align: top;\n",
       "    }\n",
       "\n",
       "    .dataframe thead th {\n",
       "        text-align: right;\n",
       "    }\n",
       "</style>\n",
       "<table border=\"1\" class=\"dataframe\">\n",
       "  <thead>\n",
       "    <tr style=\"text-align: right;\">\n",
       "      <th></th>\n",
       "      <th>a</th>\n",
       "      <th>b</th>\n",
       "      <th>c</th>\n",
       "      <th>d</th>\n",
       "      <th>e</th>\n",
       "      <th>f</th>\n",
       "      <th>g</th>\n",
       "    </tr>\n",
       "  </thead>\n",
       "  <tbody>\n",
       "    <tr>\n",
       "      <th>0</th>\n",
       "      <td>1</td>\n",
       "      <td>2</td>\n",
       "      <td>[1, 2, 3, 4]</td>\n",
       "      <td>1</td>\n",
       "      <td>3</td>\n",
       "      <td>6</td>\n",
       "      <td>10</td>\n",
       "    </tr>\n",
       "    <tr>\n",
       "      <th>1</th>\n",
       "      <td>1</td>\n",
       "      <td>2</td>\n",
       "      <td>[5, 6, 7, 8]</td>\n",
       "      <td>5</td>\n",
       "      <td>11</td>\n",
       "      <td>18</td>\n",
       "      <td>26</td>\n",
       "    </tr>\n",
       "  </tbody>\n",
       "</table>\n",
       "</div>"
      ],
      "text/plain": [
       "   a  b             c  d   e   f   g\n",
       "0  1  2  [1, 2, 3, 4]  1   3   6  10\n",
       "1  1  2  [5, 6, 7, 8]  5  11  18  26"
      ]
     },
     "execution_count": 57,
     "metadata": {},
     "output_type": "execute_result"
    }
   ],
   "source": [
    "ff"
   ]
  },
  {
   "cell_type": "code",
   "execution_count": 58,
   "id": "86b31d62-0ee0-4d11-b7ae-456acd462388",
   "metadata": {},
   "outputs": [],
   "source": [
    "ff[[f'c{i}' for i in range(1,5)]] = ff['c'].to_list()"
   ]
  },
  {
   "cell_type": "code",
   "execution_count": 59,
   "id": "e83ec5fa-4b2f-43f9-8279-3ce165d9b087",
   "metadata": {},
   "outputs": [
    {
     "data": {
      "text/plain": [
       "array([[1, 2, list([1, 2, 3, 4]), 1, 3, 6, 10, 1, 2, 3, 4],\n",
       "       [1, 2, list([5, 6, 7, 8]), 5, 11, 18, 26, 5, 6, 7, 8]],\n",
       "      dtype=object)"
      ]
     },
     "execution_count": 59,
     "metadata": {},
     "output_type": "execute_result"
    }
   ],
   "source": [
    "ff.values"
   ]
  },
  {
   "cell_type": "code",
   "execution_count": null,
   "id": "0f124fcf-0254-4550-b4e3-9338845680ea",
   "metadata": {},
   "outputs": [],
   "source": []
  },
  {
   "cell_type": "code",
   "execution_count": 39,
   "id": "39d0723b-23b1-4076-8fb6-2d76fd17942f",
   "metadata": {},
   "outputs": [],
   "source": [
    "from sklearn import preprocessing\n",
    "ff_c = ff[[f'c{i}' for i in range(1,5)]]"
   ]
  },
  {
   "cell_type": "code",
   "execution_count": 40,
   "id": "14e89bd2-9cf8-494f-8003-ce71463edd9c",
   "metadata": {},
   "outputs": [
    {
     "data": {
      "text/html": [
       "<div>\n",
       "<style scoped>\n",
       "    .dataframe tbody tr th:only-of-type {\n",
       "        vertical-align: middle;\n",
       "    }\n",
       "\n",
       "    .dataframe tbody tr th {\n",
       "        vertical-align: top;\n",
       "    }\n",
       "\n",
       "    .dataframe thead th {\n",
       "        text-align: right;\n",
       "    }\n",
       "</style>\n",
       "<table border=\"1\" class=\"dataframe\">\n",
       "  <thead>\n",
       "    <tr style=\"text-align: right;\">\n",
       "      <th></th>\n",
       "      <th>c1</th>\n",
       "      <th>c2</th>\n",
       "      <th>c3</th>\n",
       "      <th>c4</th>\n",
       "    </tr>\n",
       "  </thead>\n",
       "  <tbody>\n",
       "    <tr>\n",
       "      <th>0</th>\n",
       "      <td>1</td>\n",
       "      <td>2</td>\n",
       "      <td>3</td>\n",
       "      <td>4</td>\n",
       "    </tr>\n",
       "    <tr>\n",
       "      <th>1</th>\n",
       "      <td>5</td>\n",
       "      <td>6</td>\n",
       "      <td>7</td>\n",
       "      <td>8</td>\n",
       "    </tr>\n",
       "  </tbody>\n",
       "</table>\n",
       "</div>"
      ],
      "text/plain": [
       "   c1  c2  c3  c4\n",
       "0   1   2   3   4\n",
       "1   5   6   7   8"
      ]
     },
     "execution_count": 40,
     "metadata": {},
     "output_type": "execute_result"
    }
   ],
   "source": [
    "ff_c"
   ]
  },
  {
   "cell_type": "code",
   "execution_count": 43,
   "id": "505c3849-4952-458b-93a3-d75ea541d06a",
   "metadata": {},
   "outputs": [
    {
     "data": {
      "text/plain": [
       "array([[1, 2, 3, 4],\n",
       "       [5, 6, 7, 8]])"
      ]
     },
     "execution_count": 43,
     "metadata": {},
     "output_type": "execute_result"
    }
   ],
   "source": [
    "ff_c.values"
   ]
  },
  {
   "cell_type": "code",
   "execution_count": 46,
   "id": "faac37d8-2329-4646-8e4a-5153ea42661d",
   "metadata": {},
   "outputs": [
    {
     "data": {
      "text/html": [
       "<div>\n",
       "<style scoped>\n",
       "    .dataframe tbody tr th:only-of-type {\n",
       "        vertical-align: middle;\n",
       "    }\n",
       "\n",
       "    .dataframe tbody tr th {\n",
       "        vertical-align: top;\n",
       "    }\n",
       "\n",
       "    .dataframe thead th {\n",
       "        text-align: right;\n",
       "    }\n",
       "</style>\n",
       "<table border=\"1\" class=\"dataframe\">\n",
       "  <thead>\n",
       "    <tr style=\"text-align: right;\">\n",
       "      <th></th>\n",
       "      <th>c1</th>\n",
       "      <th>c2</th>\n",
       "      <th>c3</th>\n",
       "      <th>c4</th>\n",
       "    </tr>\n",
       "  </thead>\n",
       "  <tbody>\n",
       "    <tr>\n",
       "      <th>0</th>\n",
       "      <td>-0.707107</td>\n",
       "      <td>-0.707107</td>\n",
       "      <td>-0.707107</td>\n",
       "      <td>-0.707107</td>\n",
       "    </tr>\n",
       "    <tr>\n",
       "      <th>1</th>\n",
       "      <td>0.707107</td>\n",
       "      <td>0.707107</td>\n",
       "      <td>0.707107</td>\n",
       "      <td>0.707107</td>\n",
       "    </tr>\n",
       "  </tbody>\n",
       "</table>\n",
       "</div>"
      ],
      "text/plain": [
       "         c1        c2        c3        c4\n",
       "0 -0.707107 -0.707107 -0.707107 -0.707107\n",
       "1  0.707107  0.707107  0.707107  0.707107"
      ]
     },
     "execution_count": 46,
     "metadata": {},
     "output_type": "execute_result"
    }
   ],
   "source": [
    "(ff_c - ff_c.mean())/ff_c.std()"
   ]
  },
  {
   "cell_type": "code",
   "execution_count": 47,
   "id": "89aeab0c-6db0-4fc0-8ddc-9e21a4a2b9a5",
   "metadata": {},
   "outputs": [],
   "source": [
    "ff2 = pd.DataFrame(preprocessing.StandardScaler().fit_transform(ff_c.values),columns=ff_c.columns)"
   ]
  },
  {
   "cell_type": "code",
   "execution_count": 48,
   "id": "746e02c5-08d3-4c33-a3af-c8c5611c12e0",
   "metadata": {},
   "outputs": [
    {
     "data": {
      "text/html": [
       "<div>\n",
       "<style scoped>\n",
       "    .dataframe tbody tr th:only-of-type {\n",
       "        vertical-align: middle;\n",
       "    }\n",
       "\n",
       "    .dataframe tbody tr th {\n",
       "        vertical-align: top;\n",
       "    }\n",
       "\n",
       "    .dataframe thead th {\n",
       "        text-align: right;\n",
       "    }\n",
       "</style>\n",
       "<table border=\"1\" class=\"dataframe\">\n",
       "  <thead>\n",
       "    <tr style=\"text-align: right;\">\n",
       "      <th></th>\n",
       "      <th>c1</th>\n",
       "      <th>c2</th>\n",
       "      <th>c3</th>\n",
       "      <th>c4</th>\n",
       "    </tr>\n",
       "  </thead>\n",
       "  <tbody>\n",
       "    <tr>\n",
       "      <th>0</th>\n",
       "      <td>-1.0</td>\n",
       "      <td>-1.0</td>\n",
       "      <td>-1.0</td>\n",
       "      <td>-1.0</td>\n",
       "    </tr>\n",
       "    <tr>\n",
       "      <th>1</th>\n",
       "      <td>1.0</td>\n",
       "      <td>1.0</td>\n",
       "      <td>1.0</td>\n",
       "      <td>1.0</td>\n",
       "    </tr>\n",
       "  </tbody>\n",
       "</table>\n",
       "</div>"
      ],
      "text/plain": [
       "    c1   c2   c3   c4\n",
       "0 -1.0 -1.0 -1.0 -1.0\n",
       "1  1.0  1.0  1.0  1.0"
      ]
     },
     "execution_count": 48,
     "metadata": {},
     "output_type": "execute_result"
    }
   ],
   "source": [
    "ff2"
   ]
  },
  {
   "cell_type": "code",
   "execution_count": 54,
   "id": "0262c29b-d592-4d6a-bcb7-f873655e8030",
   "metadata": {},
   "outputs": [
    {
     "data": {
      "text/plain": [
       "(2, 1)"
      ]
     },
     "execution_count": 54,
     "metadata": {},
     "output_type": "execute_result"
    }
   ],
   "source": [
    "ff['a'].to_numpy()[np.newaxis].T.shape"
   ]
  },
  {
   "cell_type": "code",
   "execution_count": 59,
   "id": "f7983b04-2c09-4233-b66e-2dba0959ac35",
   "metadata": {},
   "outputs": [
    {
     "data": {
      "text/plain": [
       "(2, 4)"
      ]
     },
     "execution_count": 59,
     "metadata": {},
     "output_type": "execute_result"
    }
   ],
   "source": [
    "arr.T.shape"
   ]
  },
  {
   "cell_type": "code",
   "execution_count": 62,
   "id": "e6b7b0e7-f030-4c4a-b9d2-ab4f3b5cba15",
   "metadata": {},
   "outputs": [
    {
     "data": {
      "text/plain": [
       "array([[ 1,  1,  3,  6, 10],\n",
       "       [ 1,  5, 11, 18, 26]])"
      ]
     },
     "execution_count": 62,
     "metadata": {},
     "output_type": "execute_result"
    }
   ],
   "source": [
    "np.hstack([ff['a'].to_numpy()[np.newaxis].T, arr.T])"
   ]
  },
  {
   "cell_type": "code",
   "execution_count": 63,
   "id": "10736d96-aa81-4334-a508-b75b6380c703",
   "metadata": {},
   "outputs": [
    {
     "data": {
      "text/plain": [
       "['sum_1L',\n",
       " 'sum_2L',\n",
       " 'sum_3L',\n",
       " 'sum_4L',\n",
       " 'sum_5L',\n",
       " 'sum_6L',\n",
       " 'sum_7L',\n",
       " 'sum_8L',\n",
       " 'sum_9L',\n",
       " 'sum_10L']"
      ]
     },
     "execution_count": 63,
     "metadata": {},
     "output_type": "execute_result"
    }
   ],
   "source": [
    "[f'sum_{i}L' for i in range(1,10+1)]"
   ]
  },
  {
   "cell_type": "code",
   "execution_count": 42,
   "id": "7417e1ed-fdf5-46b9-a96a-d081e423d877",
   "metadata": {},
   "outputs": [
    {
     "data": {
      "text/plain": [
       "(7, 1)"
      ]
     },
     "execution_count": 42,
     "metadata": {},
     "output_type": "execute_result"
    }
   ],
   "source": [
    "bb[np.newaxis].T.shape"
   ]
  },
  {
   "cell_type": "code",
   "execution_count": 69,
   "id": "bda72d5f-9210-48e0-a081-5d9a64f12178",
   "metadata": {},
   "outputs": [],
   "source": [
    "df[:1000].to_pickle('/eos/home-k/kiwoznia/data/rodem/opde/kinga2_fullcalo_layers_1K.pkl')"
   ]
  },
  {
   "cell_type": "code",
   "execution_count": 23,
   "id": "62bc1514-0eb8-4d6c-b778-cc21017af5f7",
   "metadata": {},
   "outputs": [
    {
     "data": {
      "text/plain": [
       "array([1, 1])"
      ]
     },
     "execution_count": 23,
     "metadata": {},
     "output_type": "execute_result"
    }
   ],
   "source": [
    "ff['a'].to_numpy().[]"
   ]
  },
  {
   "cell_type": "code",
   "execution_count": 24,
   "id": "8e3f26bc-96a1-45d0-9231-4b2b11a456d8",
   "metadata": {},
   "outputs": [
    {
     "name": "stdout",
     "output_type": "stream",
     "text": [
      "true_energy\n",
      "total_dep_energy\n",
      "N_layers\n",
      "N_active_layers\n",
      "N_sensors\n",
      "sensor_energy\n"
     ]
    }
   ],
   "source": [
    "i = 0\n",
    "for dd in df:\n",
    "    print(dd)\n",
    "    i = i+1\n",
    "    if i > 5: break"
   ]
  },
  {
   "cell_type": "code",
   "execution_count": 24,
   "id": "ae564387-cdc8-4719-8bd3-41ad973c78cd",
   "metadata": {},
   "outputs": [
    {
     "name": "stdout",
     "output_type": "stream",
     "text": [
      "true_energy\n",
      "total_dep_energy\n",
      "N_layers\n",
      "N_active_layers\n",
      "N_sensors\n",
      "sensor_energy\n"
     ]
    }
   ],
   "source": [
    "i = 0\n",
    "for dd in df:\n",
    "    print(dd)\n",
    "    i = i+1\n",
    "    if i > 5: break"
   ]
  },
  {
   "cell_type": "code",
   "execution_count": 28,
   "id": "681c9ec9-9a7c-4375-bb71-c88620657fe0",
   "metadata": {},
   "outputs": [
    {
     "ename": "TypeError",
     "evalue": "unhashable type: 'Series'",
     "output_type": "error",
     "traceback": [
      "\u001b[0;31m---------------------------------------------------------------------------\u001b[0m",
      "\u001b[0;31mTypeError\u001b[0m                                 Traceback (most recent call last)",
      "\u001b[0;32m/tmp/kiwoznia/ipykernel_1186285/4286284407.py\u001b[0m in \u001b[0;36m?\u001b[0;34m()\u001b[0m\n\u001b[0;32m----> 1\u001b[0;31m \u001b[0mdf\u001b[0m\u001b[0;34m.\u001b[0m\u001b[0msum\u001b[0m\u001b[0;34m(\u001b[0m\u001b[0mdf\u001b[0m\u001b[0;34m[\u001b[0m\u001b[0;34m'sensor_energy'\u001b[0m\u001b[0;34m]\u001b[0m\u001b[0;34m[\u001b[0m\u001b[0;34m:\u001b[0m\u001b[0;36m3\u001b[0m\u001b[0;34m]\u001b[0m\u001b[0;34m)\u001b[0m\u001b[0;34m\u001b[0m\u001b[0;34m\u001b[0m\u001b[0m\n\u001b[0m",
      "\u001b[0;32m/eos/home-k/kiwoznia/software/.pyenv/versions/3.10.13/lib/python3.10/site-packages/pandas/core/frame.py\u001b[0m in \u001b[0;36m?\u001b[0;34m(self, axis, skipna, numeric_only, min_count, **kwargs)\u001b[0m\n\u001b[1;32m  11639\u001b[0m         \u001b[0mnumeric_only\u001b[0m\u001b[0;34m:\u001b[0m \u001b[0mbool\u001b[0m \u001b[0;34m=\u001b[0m \u001b[0;32mFalse\u001b[0m\u001b[0;34m,\u001b[0m\u001b[0;34m\u001b[0m\u001b[0;34m\u001b[0m\u001b[0m\n\u001b[1;32m  11640\u001b[0m         \u001b[0mmin_count\u001b[0m\u001b[0;34m:\u001b[0m \u001b[0mint\u001b[0m \u001b[0;34m=\u001b[0m \u001b[0;36m0\u001b[0m\u001b[0;34m,\u001b[0m\u001b[0;34m\u001b[0m\u001b[0;34m\u001b[0m\u001b[0m\n\u001b[1;32m  11641\u001b[0m         \u001b[0;34m**\u001b[0m\u001b[0mkwargs\u001b[0m\u001b[0;34m,\u001b[0m\u001b[0;34m\u001b[0m\u001b[0;34m\u001b[0m\u001b[0m\n\u001b[1;32m  11642\u001b[0m     ):\n\u001b[0;32m> 11643\u001b[0;31m         \u001b[0mresult\u001b[0m \u001b[0;34m=\u001b[0m \u001b[0msuper\u001b[0m\u001b[0;34m(\u001b[0m\u001b[0;34m)\u001b[0m\u001b[0;34m.\u001b[0m\u001b[0msum\u001b[0m\u001b[0;34m(\u001b[0m\u001b[0maxis\u001b[0m\u001b[0;34m,\u001b[0m \u001b[0mskipna\u001b[0m\u001b[0;34m,\u001b[0m \u001b[0mnumeric_only\u001b[0m\u001b[0;34m,\u001b[0m \u001b[0mmin_count\u001b[0m\u001b[0;34m,\u001b[0m \u001b[0;34m**\u001b[0m\u001b[0mkwargs\u001b[0m\u001b[0;34m)\u001b[0m\u001b[0;34m\u001b[0m\u001b[0;34m\u001b[0m\u001b[0m\n\u001b[0m\u001b[1;32m  11644\u001b[0m         \u001b[0;32mreturn\u001b[0m \u001b[0mresult\u001b[0m\u001b[0;34m.\u001b[0m\u001b[0m__finalize__\u001b[0m\u001b[0;34m(\u001b[0m\u001b[0mself\u001b[0m\u001b[0;34m,\u001b[0m \u001b[0mmethod\u001b[0m\u001b[0;34m=\u001b[0m\u001b[0;34m\"sum\"\u001b[0m\u001b[0;34m)\u001b[0m\u001b[0;34m\u001b[0m\u001b[0;34m\u001b[0m\u001b[0m\n",
      "\u001b[0;32m/eos/home-k/kiwoznia/software/.pyenv/versions/3.10.13/lib/python3.10/site-packages/pandas/core/generic.py\u001b[0m in \u001b[0;36m?\u001b[0;34m(self, axis, skipna, numeric_only, min_count, **kwargs)\u001b[0m\n\u001b[1;32m  12495\u001b[0m         \u001b[0mnumeric_only\u001b[0m\u001b[0;34m:\u001b[0m \u001b[0mbool_t\u001b[0m \u001b[0;34m=\u001b[0m \u001b[0;32mFalse\u001b[0m\u001b[0;34m,\u001b[0m\u001b[0;34m\u001b[0m\u001b[0;34m\u001b[0m\u001b[0m\n\u001b[1;32m  12496\u001b[0m         \u001b[0mmin_count\u001b[0m\u001b[0;34m:\u001b[0m \u001b[0mint\u001b[0m \u001b[0;34m=\u001b[0m \u001b[0;36m0\u001b[0m\u001b[0;34m,\u001b[0m\u001b[0;34m\u001b[0m\u001b[0;34m\u001b[0m\u001b[0m\n\u001b[1;32m  12497\u001b[0m         \u001b[0;34m**\u001b[0m\u001b[0mkwargs\u001b[0m\u001b[0;34m,\u001b[0m\u001b[0;34m\u001b[0m\u001b[0;34m\u001b[0m\u001b[0m\n\u001b[1;32m  12498\u001b[0m     ):\n\u001b[0;32m> 12499\u001b[0;31m         return self._min_count_stat_function(\n\u001b[0m\u001b[1;32m  12500\u001b[0m             \u001b[0;34m\"sum\"\u001b[0m\u001b[0;34m,\u001b[0m \u001b[0mnanops\u001b[0m\u001b[0;34m.\u001b[0m\u001b[0mnansum\u001b[0m\u001b[0;34m,\u001b[0m \u001b[0maxis\u001b[0m\u001b[0;34m,\u001b[0m \u001b[0mskipna\u001b[0m\u001b[0;34m,\u001b[0m \u001b[0mnumeric_only\u001b[0m\u001b[0;34m,\u001b[0m \u001b[0mmin_count\u001b[0m\u001b[0;34m,\u001b[0m \u001b[0;34m**\u001b[0m\u001b[0mkwargs\u001b[0m\u001b[0;34m\u001b[0m\u001b[0;34m\u001b[0m\u001b[0m\n\u001b[1;32m  12501\u001b[0m         )\n",
      "\u001b[0;32m/eos/home-k/kiwoznia/software/.pyenv/versions/3.10.13/lib/python3.10/site-packages/pandas/core/generic.py\u001b[0m in \u001b[0;36m?\u001b[0;34m(self, name, func, axis, skipna, numeric_only, min_count, **kwargs)\u001b[0m\n\u001b[1;32m  12478\u001b[0m             \u001b[0maxis\u001b[0m \u001b[0;34m=\u001b[0m \u001b[0;36m0\u001b[0m\u001b[0;34m\u001b[0m\u001b[0;34m\u001b[0m\u001b[0m\n\u001b[1;32m  12479\u001b[0m         \u001b[0;32melif\u001b[0m \u001b[0maxis\u001b[0m \u001b[0;32mis\u001b[0m \u001b[0mlib\u001b[0m\u001b[0;34m.\u001b[0m\u001b[0mno_default\u001b[0m\u001b[0;34m:\u001b[0m\u001b[0;34m\u001b[0m\u001b[0;34m\u001b[0m\u001b[0m\n\u001b[1;32m  12480\u001b[0m             \u001b[0maxis\u001b[0m \u001b[0;34m=\u001b[0m \u001b[0;36m0\u001b[0m\u001b[0;34m\u001b[0m\u001b[0;34m\u001b[0m\u001b[0m\n\u001b[1;32m  12481\u001b[0m \u001b[0;34m\u001b[0m\u001b[0m\n\u001b[0;32m> 12482\u001b[0;31m         return self._reduce(\n\u001b[0m\u001b[1;32m  12483\u001b[0m             \u001b[0mfunc\u001b[0m\u001b[0;34m,\u001b[0m\u001b[0;34m\u001b[0m\u001b[0;34m\u001b[0m\u001b[0m\n\u001b[1;32m  12484\u001b[0m             \u001b[0mname\u001b[0m\u001b[0;34m=\u001b[0m\u001b[0mname\u001b[0m\u001b[0;34m,\u001b[0m\u001b[0;34m\u001b[0m\u001b[0;34m\u001b[0m\u001b[0m\n\u001b[1;32m  12485\u001b[0m             \u001b[0maxis\u001b[0m\u001b[0;34m=\u001b[0m\u001b[0maxis\u001b[0m\u001b[0;34m,\u001b[0m\u001b[0;34m\u001b[0m\u001b[0;34m\u001b[0m\u001b[0m\n",
      "\u001b[0;32m/eos/home-k/kiwoznia/software/.pyenv/versions/3.10.13/lib/python3.10/site-packages/pandas/core/frame.py\u001b[0m in \u001b[0;36m?\u001b[0;34m(self, op, name, axis, skipna, numeric_only, filter_type, **kwds)\u001b[0m\n\u001b[1;32m  11419\u001b[0m         \u001b[0;32massert\u001b[0m \u001b[0mfilter_type\u001b[0m \u001b[0;32mis\u001b[0m \u001b[0;32mNone\u001b[0m \u001b[0;32mor\u001b[0m \u001b[0mfilter_type\u001b[0m \u001b[0;34m==\u001b[0m \u001b[0;34m\"bool\"\u001b[0m\u001b[0;34m,\u001b[0m \u001b[0mfilter_type\u001b[0m\u001b[0;34m\u001b[0m\u001b[0;34m\u001b[0m\u001b[0m\n\u001b[1;32m  11420\u001b[0m         \u001b[0mout_dtype\u001b[0m \u001b[0;34m=\u001b[0m \u001b[0;34m\"bool\"\u001b[0m \u001b[0;32mif\u001b[0m \u001b[0mfilter_type\u001b[0m \u001b[0;34m==\u001b[0m \u001b[0;34m\"bool\"\u001b[0m \u001b[0;32melse\u001b[0m \u001b[0;32mNone\u001b[0m\u001b[0;34m\u001b[0m\u001b[0;34m\u001b[0m\u001b[0m\n\u001b[1;32m  11421\u001b[0m \u001b[0;34m\u001b[0m\u001b[0m\n\u001b[1;32m  11422\u001b[0m         \u001b[0;32mif\u001b[0m \u001b[0maxis\u001b[0m \u001b[0;32mis\u001b[0m \u001b[0;32mnot\u001b[0m \u001b[0;32mNone\u001b[0m\u001b[0;34m:\u001b[0m\u001b[0;34m\u001b[0m\u001b[0;34m\u001b[0m\u001b[0m\n\u001b[0;32m> 11423\u001b[0;31m             \u001b[0maxis\u001b[0m \u001b[0;34m=\u001b[0m \u001b[0mself\u001b[0m\u001b[0;34m.\u001b[0m\u001b[0m_get_axis_number\u001b[0m\u001b[0;34m(\u001b[0m\u001b[0maxis\u001b[0m\u001b[0;34m)\u001b[0m\u001b[0;34m\u001b[0m\u001b[0;34m\u001b[0m\u001b[0m\n\u001b[0m\u001b[1;32m  11424\u001b[0m \u001b[0;34m\u001b[0m\u001b[0m\n\u001b[1;32m  11425\u001b[0m         \u001b[0;32mdef\u001b[0m \u001b[0mfunc\u001b[0m\u001b[0;34m(\u001b[0m\u001b[0mvalues\u001b[0m\u001b[0;34m:\u001b[0m \u001b[0mnp\u001b[0m\u001b[0;34m.\u001b[0m\u001b[0mndarray\u001b[0m\u001b[0;34m)\u001b[0m\u001b[0;34m:\u001b[0m\u001b[0;34m\u001b[0m\u001b[0;34m\u001b[0m\u001b[0m\n\u001b[1;32m  11426\u001b[0m             \u001b[0;31m# We only use this in the case that operates on self.values\u001b[0m\u001b[0;34m\u001b[0m\u001b[0;34m\u001b[0m\u001b[0m\n",
      "\u001b[0;32m/eos/home-k/kiwoznia/software/.pyenv/versions/3.10.13/lib/python3.10/site-packages/pandas/core/generic.py\u001b[0m in \u001b[0;36m?\u001b[0;34m(cls, axis)\u001b[0m\n\u001b[1;32m    572\u001b[0m     \u001b[0;34m@\u001b[0m\u001b[0mclassmethod\u001b[0m\u001b[0;34m\u001b[0m\u001b[0;34m\u001b[0m\u001b[0m\n\u001b[1;32m    573\u001b[0m     \u001b[0;32mdef\u001b[0m \u001b[0m_get_axis_number\u001b[0m\u001b[0;34m(\u001b[0m\u001b[0mcls\u001b[0m\u001b[0;34m,\u001b[0m \u001b[0maxis\u001b[0m\u001b[0;34m:\u001b[0m \u001b[0mAxis\u001b[0m\u001b[0;34m)\u001b[0m \u001b[0;34m->\u001b[0m \u001b[0mAxisInt\u001b[0m\u001b[0;34m:\u001b[0m\u001b[0;34m\u001b[0m\u001b[0;34m\u001b[0m\u001b[0m\n\u001b[1;32m    574\u001b[0m         \u001b[0;32mtry\u001b[0m\u001b[0;34m:\u001b[0m\u001b[0;34m\u001b[0m\u001b[0;34m\u001b[0m\u001b[0m\n\u001b[1;32m    575\u001b[0m             \u001b[0;32mreturn\u001b[0m \u001b[0mcls\u001b[0m\u001b[0;34m.\u001b[0m\u001b[0m_AXIS_TO_AXIS_NUMBER\u001b[0m\u001b[0;34m[\u001b[0m\u001b[0maxis\u001b[0m\u001b[0;34m]\u001b[0m\u001b[0;34m\u001b[0m\u001b[0;34m\u001b[0m\u001b[0m\n\u001b[0;32m--> 576\u001b[0;31m         \u001b[0;32mexcept\u001b[0m \u001b[0mKeyError\u001b[0m\u001b[0;34m:\u001b[0m\u001b[0;34m\u001b[0m\u001b[0;34m\u001b[0m\u001b[0m\n\u001b[0m\u001b[1;32m    577\u001b[0m             \u001b[0;32mraise\u001b[0m \u001b[0mValueError\u001b[0m\u001b[0;34m(\u001b[0m\u001b[0;34mf\"No axis named {axis} for object type {cls.__name__}\"\u001b[0m\u001b[0;34m)\u001b[0m\u001b[0;34m\u001b[0m\u001b[0;34m\u001b[0m\u001b[0m\n",
      "\u001b[0;31mTypeError\u001b[0m: unhashable type: 'Series'"
     ]
    }
   ],
   "source": [
    "df.sum(df['sensor_energy'][:3])"
   ]
  },
  {
   "cell_type": "code",
   "execution_count": 60,
   "id": "4fe98d6e-d29b-42b8-871d-86252a5e4d48",
   "metadata": {},
   "outputs": [],
   "source": [
    "import datetime"
   ]
  },
  {
   "cell_type": "code",
   "execution_count": 61,
   "id": "54d1829d-962f-431b-8c52-02fca354b584",
   "metadata": {},
   "outputs": [
    {
     "data": {
      "text/plain": [
       "'20240223'"
      ]
     },
     "execution_count": 61,
     "metadata": {},
     "output_type": "execute_result"
    }
   ],
   "source": [
    "datetime.datetime.now().strftime('%Y%m%d')"
   ]
  },
  {
   "cell_type": "code",
   "execution_count": null,
   "id": "4937e8aa-236d-4f86-b98a-10f028cbddc1",
   "metadata": {},
   "outputs": [],
   "source": []
  }
 ],
 "metadata": {
  "kernelspec": {
   "display_name": "Python 3",
   "language": "python",
   "name": "python3"
  },
  "language_info": {
   "codemirror_mode": {
    "name": "ipython",
    "version": 3
   },
   "file_extension": ".py",
   "mimetype": "text/x-python",
   "name": "python",
   "nbconvert_exporter": "python",
   "pygments_lexer": "ipython3",
   "version": "3.10.13"
  }
 },
 "nbformat": 4,
 "nbformat_minor": 5
}
